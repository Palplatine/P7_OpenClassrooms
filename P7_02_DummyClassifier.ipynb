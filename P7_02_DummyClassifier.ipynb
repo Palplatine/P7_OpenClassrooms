{
 "cells": [
  {
   "cell_type": "code",
   "execution_count": 1,
   "id": "d8b2885e",
   "metadata": {},
   "outputs": [],
   "source": [
    "import pandas as pd\n",
    "import numpy as np\n",
    "\n",
    "import sklearn\n",
    "from sklearn.metrics import roc_auc_score\n",
    "from sklearn.dummy import DummyClassifier\n",
    "from sklearn.model_selection import StratifiedKFold\n",
    "\n",
    "import time"
   ]
  },
  {
   "cell_type": "code",
   "execution_count": 2,
   "id": "fc87b635",
   "metadata": {},
   "outputs": [],
   "source": [
    "# On supprime les avertissements nous indiquant que l'on change les valeurs de notre jeu de données d'origine\n",
    "pd.options.mode.chained_assignment = None"
   ]
  },
  {
   "cell_type": "markdown",
   "id": "7466bd07",
   "metadata": {},
   "source": [
    "## Classification"
   ]
  },
  {
   "cell_type": "code",
   "execution_count": 3,
   "id": "7bf2bc9a",
   "metadata": {},
   "outputs": [],
   "source": [
    "# On charge nos données\n",
    "df = pd.read_csv('data_preprocessed.csv')\n",
    "df.drop(columns=['Unnamed: 0', 'index'], inplace=True)\n",
    "df.set_index('SK_ID_CURR', inplace=True)"
   ]
  },
  {
   "cell_type": "code",
   "execution_count": 4,
   "id": "8541f364",
   "metadata": {},
   "outputs": [],
   "source": [
    "# On sépare en jeu de test et jeu d'entraînement\n",
    "train_df = df[df['TARGET'].notnull()]\n",
    "test_df = df[df['TARGET'].isnull()]"
   ]
  },
  {
   "cell_type": "code",
   "execution_count": 5,
   "id": "df11e6a2",
   "metadata": {},
   "outputs": [
    {
     "data": {
      "text/plain": [
       "0.0    282682\n",
       "1.0     24825\n",
       "Name: TARGET, dtype: int64"
      ]
     },
     "execution_count": 5,
     "metadata": {},
     "output_type": "execute_result"
    }
   ],
   "source": [
    "# On regarde l'équilibre de nos classes\n",
    "train_df['TARGET'].value_counts()"
   ]
  },
  {
   "cell_type": "code",
   "execution_count": 6,
   "id": "0adaf387",
   "metadata": {},
   "outputs": [],
   "source": [
    "# On prépare nos folds\n",
    "X = train_df.drop('TARGET', axis = 1)\n",
    "y = train_df['TARGET']\n",
    "folds = StratifiedKFold(n_splits=5, shuffle=True, random_state=24)\n",
    "cv = folds.split(X, y)\n",
    "cv = list(cv)"
   ]
  },
  {
   "cell_type": "markdown",
   "id": "9b3c574e",
   "metadata": {},
   "source": [
    "## Baseline"
   ]
  },
  {
   "cell_type": "code",
   "execution_count": 7,
   "id": "9403e0be",
   "metadata": {
    "scrolled": true
   },
   "outputs": [
    {
     "name": "stdout",
     "output_type": "stream",
     "text": [
      "Fold  1 AUC : 0.500000\n",
      "Fold  2 AUC : 0.500000\n",
      "Fold  3 AUC : 0.500000\n",
      "Fold  4 AUC : 0.500000\n",
      "Fold  5 AUC : 0.500000\n",
      "Time : 7.41 secondes\n"
     ]
    }
   ],
   "source": [
    "t0 = time.time()\n",
    "\n",
    "oof_preds = np.zeros(train_df.shape[0])\n",
    "sub_preds = np.zeros(test_df.shape[0])\n",
    "feature_importance_df = pd.DataFrame()\n",
    "feats = [f for f in train_df.columns if f not in ['TARGET','SK_ID_CURR','SK_ID_BUREAU','SK_ID_PREV','index']]\n",
    "\n",
    "# On sépare notre train en train et validation\n",
    "for n_fold, (train_idx, valid_idx) in enumerate(cv):\n",
    "    train_x, train_y = train_df[feats].iloc[train_idx], train_df['TARGET'].iloc[train_idx]\n",
    "    valid_x, valid_y = train_df[feats].iloc[valid_idx], train_df['TARGET'].iloc[valid_idx]\n",
    "    \n",
    "    clf = DummyClassifier(random_state=24)\n",
    "    clf.fit(train_x, train_y)\n",
    "    \n",
    "    oof_preds[valid_idx] = clf.predict_proba(valid_x)[:, 1]\n",
    "    sub_preds += clf.predict_proba(test_df[feats])[:, 1] / folds.n_splits\n",
    "\n",
    "    print('Fold %2d AUC : %.6f' % (n_fold + 1, roc_auc_score(valid_y, oof_preds[valid_idx])))\n",
    "\n",
    "t1 = time.time()\n",
    "time_round = np.round(t1 - t0, 2)\n",
    "print(f'Time : {time_round} secondes')"
   ]
  },
  {
   "cell_type": "code",
   "execution_count": null,
   "id": "de9437a8",
   "metadata": {},
   "outputs": [],
   "source": []
  }
 ],
 "metadata": {
  "kernelspec": {
   "display_name": "Python 3",
   "language": "python",
   "name": "python3"
  },
  "language_info": {
   "codemirror_mode": {
    "name": "ipython",
    "version": 3
   },
   "file_extension": ".py",
   "mimetype": "text/x-python",
   "name": "python",
   "nbconvert_exporter": "python",
   "pygments_lexer": "ipython3",
   "version": "3.8.8"
  }
 },
 "nbformat": 4,
 "nbformat_minor": 5
}
