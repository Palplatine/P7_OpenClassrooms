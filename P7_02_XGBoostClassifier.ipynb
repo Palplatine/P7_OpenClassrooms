{
 "cells": [
  {
   "cell_type": "code",
   "execution_count": 1,
   "id": "d8b2885e",
   "metadata": {},
   "outputs": [],
   "source": [
    "import pandas as pd\n",
    "import numpy as np\n",
    "\n",
    "import matplotlib\n",
    "import matplotlib.pyplot as plt\n",
    "\n",
    "import seaborn as sns\n",
    "\n",
    "import sklearn\n",
    "from sklearn.metrics import roc_auc_score\n",
    "from sklearn.model_selection import StratifiedKFold\n",
    "from sklearn.model_selection import RandomizedSearchCV\n",
    "\n",
    "import xgboost as xgb\n",
    "from xgboost import XGBClassifier\n",
    "\n",
    "import time\n",
    "\n",
    "import pickle"
   ]
  },
  {
   "cell_type": "code",
   "execution_count": 2,
   "id": "fc87b635",
   "metadata": {},
   "outputs": [],
   "source": [
    "# On supprime les avertissements nous indiquant que l'on change les valeurs de notre jeu de données d'origine\n",
    "pd.options.mode.chained_assignment = None"
   ]
  },
  {
   "cell_type": "markdown",
   "id": "7466bd07",
   "metadata": {},
   "source": [
    "## Classification"
   ]
  },
  {
   "cell_type": "code",
   "execution_count": 3,
   "id": "a3d59617",
   "metadata": {},
   "outputs": [],
   "source": [
    "# On charge nos données\n",
    "df = pd.read_csv('data_preprocessed.csv')\n",
    "df.drop(columns=['Unnamed: 0', 'index'], inplace=True)\n",
    "df.set_index('SK_ID_CURR', inplace=True)"
   ]
  },
  {
   "cell_type": "code",
   "execution_count": 4,
   "id": "0f382866",
   "metadata": {},
   "outputs": [
    {
     "data": {
      "text/plain": [
       "Index(['TARGET', 'CODE_GENDER', 'FLAG_OWN_CAR', 'FLAG_OWN_REALTY',\n",
       "       'AMT_INCOME_TOTAL', 'AMT_CREDIT', 'AMT_ANNUITY', 'DAYS_BIRTH',\n",
       "       'DAYS_EMPLOYED', 'FLAG_CONT_MOBILE',\n",
       "       ...\n",
       "       'CC_NAME_CONTRACT_STATUS_Refused_SUM',\n",
       "       'CC_NAME_CONTRACT_STATUS_Sent proposal_MIN',\n",
       "       'CC_NAME_CONTRACT_STATUS_Sent proposal_MAX',\n",
       "       'CC_NAME_CONTRACT_STATUS_Sent proposal_MEAN',\n",
       "       'CC_NAME_CONTRACT_STATUS_Sent proposal_SUM',\n",
       "       'CC_NAME_CONTRACT_STATUS_Signed_MIN',\n",
       "       'CC_NAME_CONTRACT_STATUS_Signed_MAX',\n",
       "       'CC_NAME_CONTRACT_STATUS_Signed_MEAN',\n",
       "       'CC_NAME_CONTRACT_STATUS_Signed_SUM', 'CC_COUNT'],\n",
       "      dtype='object', length=573)"
      ]
     },
     "execution_count": 4,
     "metadata": {},
     "output_type": "execute_result"
    }
   ],
   "source": [
    "df.columns"
   ]
  },
  {
   "cell_type": "code",
   "execution_count": 4,
   "id": "8541f364",
   "metadata": {},
   "outputs": [],
   "source": [
    "# On sépare en jeu de test et jeu d'entraînement\n",
    "train_df = df[df['TARGET'].notnull()]\n",
    "test_df = df[df['TARGET'].isnull()]"
   ]
  },
  {
   "cell_type": "code",
   "execution_count": 5,
   "id": "df11e6a2",
   "metadata": {},
   "outputs": [
    {
     "data": {
      "text/plain": [
       "0.0    282682\n",
       "1.0     24825\n",
       "Name: TARGET, dtype: int64"
      ]
     },
     "execution_count": 5,
     "metadata": {},
     "output_type": "execute_result"
    }
   ],
   "source": [
    "# On regarde l'équilibre de nos classes\n",
    "train_df['TARGET'].value_counts()"
   ]
  },
  {
   "cell_type": "code",
   "execution_count": 6,
   "id": "0adaf387",
   "metadata": {},
   "outputs": [],
   "source": [
    "# On prépare nos folds\n",
    "X = train_df.drop('TARGET', axis = 1)\n",
    "y = train_df['TARGET']\n",
    "folds = StratifiedKFold(n_splits=5, shuffle=True, random_state=24)\n",
    "cv = folds.split(X, y)\n",
    "cv = list(cv)"
   ]
  },
  {
   "cell_type": "markdown",
   "id": "9b3c574e",
   "metadata": {},
   "source": [
    "## Baseline"
   ]
  },
  {
   "cell_type": "code",
   "execution_count": 7,
   "id": "9403e0be",
   "metadata": {
    "scrolled": true
   },
   "outputs": [
    {
     "name": "stdout",
     "output_type": "stream",
     "text": [
      "Fold  1 AUC : 0.765537\n",
      "Fold  2 AUC : 0.771155\n",
      "Fold  3 AUC : 0.766716\n",
      "Fold  4 AUC : 0.772817\n",
      "Fold  5 AUC : 0.764704\n",
      "Time : 108.1 secondes\n"
     ]
    }
   ],
   "source": [
    "t0 = time.time()\n",
    "\n",
    "oof_preds = np.zeros(train_df.shape[0])\n",
    "sub_preds = np.zeros(test_df.shape[0])\n",
    "feature_importance_df = pd.DataFrame()\n",
    "feats = [f for f in train_df.columns if f not in ['TARGET','SK_ID_CURR','SK_ID_BUREAU','SK_ID_PREV','index']]\n",
    "\n",
    "# On sépare notre train en train et validation\n",
    "for n_fold, (train_idx, valid_idx) in enumerate(cv):\n",
    "    train_x, train_y = train_df[feats].iloc[train_idx], train_df['TARGET'].iloc[train_idx]\n",
    "    valid_x, valid_y = train_df[feats].iloc[valid_idx], train_df['TARGET'].iloc[valid_idx]\n",
    "    \n",
    "    clf = XGBClassifier(booster='gblinear', random_state=24, use_label_encoder=False, eval_metric='logloss')\n",
    "    clf.fit(train_x, train_y)\n",
    "    \n",
    "    oof_preds[valid_idx] = clf.predict_proba(valid_x)[:, 1]\n",
    "    sub_preds += clf.predict_proba(test_df[feats])[:, 1] / folds.n_splits\n",
    "\n",
    "    print('Fold %2d AUC : %.6f' % (n_fold + 1, roc_auc_score(valid_y, oof_preds[valid_idx])))\n",
    "\n",
    "t1 = time.time()\n",
    "time_round = np.round(t1 - t0, 2)\n",
    "print(f'Time : {time_round} secondes')"
   ]
  },
  {
   "cell_type": "markdown",
   "id": "c3677ce7",
   "metadata": {},
   "source": [
    "## Gestion des classes"
   ]
  },
  {
   "cell_type": "code",
   "execution_count": 8,
   "id": "1fb4853a",
   "metadata": {},
   "outputs": [],
   "source": [
    "results = []"
   ]
  },
  {
   "cell_type": "code",
   "execution_count": 9,
   "id": "d55a85ed",
   "metadata": {},
   "outputs": [],
   "source": [
    "scale_class = np.sqrt(df['TARGET'].value_counts()[0] / df['TARGET'].value_counts()[1])"
   ]
  },
  {
   "cell_type": "code",
   "execution_count": 10,
   "id": "b2d60770",
   "metadata": {
    "scrolled": true
   },
   "outputs": [
    {
     "name": "stdout",
     "output_type": "stream",
     "text": [
      "Fold  1 AUC : 0.766143\n",
      "Fold  2 AUC : 0.771758\n",
      "Fold  3 AUC : 0.767230\n",
      "Fold  4 AUC : 0.773105\n",
      "Fold  5 AUC : 0.765840\n",
      "Time : 241.03 secondes\n"
     ]
    }
   ],
   "source": [
    "t0 = time.time()\n",
    "\n",
    "oof_preds = np.zeros(train_df.shape[0])\n",
    "sub_preds = np.zeros(test_df.shape[0])\n",
    "feature_importance_df = pd.DataFrame()\n",
    "feats = [f for f in train_df.columns if f not in ['TARGET','SK_ID_CURR','SK_ID_BUREAU','SK_ID_PREV','index']]\n",
    "\n",
    "# On sépare notre train en train et validation\n",
    "for n_fold, (train_idx, valid_idx) in enumerate(cv):\n",
    "    train_x, train_y = train_df[feats].iloc[train_idx], train_df['TARGET'].iloc[train_idx]\n",
    "    valid_x, valid_y = train_df[feats].iloc[valid_idx], train_df['TARGET'].iloc[valid_idx]\n",
    "    \n",
    "    clf = XGBClassifier(n_estimators=300, booster='gblinear', learning_rate=0.2, random_state=24,\n",
    "                        scale_pos_weight=scale_class, use_label_encoder=False, eval_metric='logloss')\n",
    "    clf.fit(train_x, train_y)\n",
    "    \n",
    "    oof_preds[valid_idx] = clf.predict_proba(valid_x)[:, 1]\n",
    "    sub_preds += clf.predict_proba(test_df[feats])[:, 1] / folds.n_splits\n",
    "\n",
    "    roc_score = roc_auc_score(valid_y, oof_preds[valid_idx])\n",
    "    results.append(roc_score)\n",
    "    print('Fold %2d AUC : %.6f' % (n_fold + 1, roc_score))\n",
    "\n",
    "t1 = time.time()\n",
    "time_round = np.round(t1 - t0, 2)\n",
    "print(f'Time : {time_round} secondes')"
   ]
  },
  {
   "cell_type": "code",
   "execution_count": 11,
   "id": "05b1d172",
   "metadata": {},
   "outputs": [
    {
     "data": {
      "text/plain": [
       "0.7688"
      ]
     },
     "execution_count": 11,
     "metadata": {},
     "output_type": "execute_result"
    }
   ],
   "source": [
    "round(np.mean(results), 4)"
   ]
  },
  {
   "cell_type": "markdown",
   "id": "4ec9a6ce",
   "metadata": {},
   "source": [
    "## RandomizedSearch"
   ]
  },
  {
   "cell_type": "code",
   "execution_count": 12,
   "id": "217e934b",
   "metadata": {},
   "outputs": [],
   "source": [
    "model = XGBClassifier(scale_pos_weight=scale_class, booster='gblinear', random_state=24,\n",
    "                      use_label_encoder=False, eval_metric='logloss')\n",
    "\n",
    "params_xgbr = {'learning_rate' : (0.05, 0.10, 0.15, 0.20, 0.25), 'n_estimators' : [100, 250, 400, 500, 600]}"
   ]
  },
  {
   "cell_type": "code",
   "execution_count": 13,
   "id": "8ed9c88e",
   "metadata": {},
   "outputs": [
    {
     "name": "stdout",
     "output_type": "stream",
     "text": [
      "Fitting 5 folds for each of 10 candidates, totalling 50 fits\n",
      "{'n_estimators': 500, 'learning_rate': 0.25} \n",
      "\n",
      "XGBClassifier(base_score=0.5, booster='gblinear', colsample_bylevel=None,\n",
      "              colsample_bynode=None, colsample_bytree=None,\n",
      "              enable_categorical=False, eval_metric='logloss', gamma=None,\n",
      "              gpu_id=-1, importance_type=None, interaction_constraints=None,\n",
      "              learning_rate=0.25, max_delta_step=None, max_depth=None,\n",
      "              min_child_weight=None, missing=nan, monotone_constraints=None,\n",
      "              n_estimators=500, n_jobs=16, num_parallel_tree=None,\n",
      "              predictor=None, random_state=24, reg_alpha=0, reg_lambda=0,\n",
      "              scale_pos_weight=3.374461278849885, subsample=None,\n",
      "              tree_method=None, use_label_encoder=False, validate_parameters=1,\n",
      "              verbosity=None) \n",
      "\n",
      "0.7686165952518061\n"
     ]
    }
   ],
   "source": [
    "model_cv = RandomizedSearchCV(model, params_xgbr, verbose=1, cv=5, scoring='roc_auc')             \n",
    "\n",
    "model_cv.fit(X, y)\n",
    "\n",
    "# Meilleur paramètres du modèle\n",
    "best_hyperparam = model_cv.best_params_\n",
    "best_model_cv = model_cv.best_estimator_\n",
    "\n",
    "#Score moyen des validations croisées du meilleur estimateur\n",
    "best_score_cv = model_cv.best_score_\n",
    "\n",
    "print(best_hyperparam, '\\n')\n",
    "print(best_model_cv, '\\n')\n",
    "print(best_score_cv)"
   ]
  },
  {
   "cell_type": "markdown",
   "id": "84aaa1fb",
   "metadata": {},
   "source": [
    "## Notre modèle"
   ]
  },
  {
   "cell_type": "code",
   "execution_count": 14,
   "id": "05e5403f",
   "metadata": {},
   "outputs": [
    {
     "data": {
      "text/plain": [
       "XGBClassifier(base_score=0.5, booster='gblinear', colsample_bylevel=None,\n",
       "              colsample_bynode=None, colsample_bytree=None,\n",
       "              enable_categorical=False, eval_metric='logloss', gamma=None,\n",
       "              gpu_id=-1, importance_type=None, interaction_constraints=None,\n",
       "              learning_rate=0.25, max_delta_step=None, max_depth=None,\n",
       "              min_child_weight=None, missing=nan, monotone_constraints=None,\n",
       "              n_estimators=500, n_jobs=16, num_parallel_tree=None,\n",
       "              predictor=None, random_state=24, reg_alpha=0, reg_lambda=0,\n",
       "              scale_pos_weight=3.374461278849885, subsample=None,\n",
       "              tree_method=None, use_label_encoder=False, validate_parameters=1,\n",
       "              verbosity=None)"
      ]
     },
     "execution_count": 14,
     "metadata": {},
     "output_type": "execute_result"
    }
   ],
   "source": [
    "# On utilise le résultat de notre RandomizedSearchCV\n",
    "clf = XGBClassifier(n_estimators=500, learning_rate=0.25, scale_pos_weight=scale_class,\n",
    "                    booster='gblinear', random_state=24, use_label_encoder=False, eval_metric='logloss')\n",
    "clf.fit(X, y)"
   ]
  },
  {
   "cell_type": "code",
   "execution_count": 17,
   "id": "53b0af01",
   "metadata": {},
   "outputs": [],
   "source": [
    "# On enregistre le modèle\n",
    "filename = 'xgboostclassifier.pkl'\n",
    "pickle.dump(clf, open(filename, 'wb'))"
   ]
  },
  {
   "cell_type": "markdown",
   "id": "22f3adaf",
   "metadata": {},
   "source": [
    "## Fonction coût métier"
   ]
  },
  {
   "cell_type": "code",
   "execution_count": 18,
   "id": "f91c7585",
   "metadata": {},
   "outputs": [],
   "source": [
    "from sklearn.metrics import confusion_matrix\n",
    "from sklearn.metrics import classification_report"
   ]
  },
  {
   "cell_type": "code",
   "execution_count": 19,
   "id": "eab2d7e0",
   "metadata": {},
   "outputs": [],
   "source": [
    "predictions_proba = clf.predict_proba(df.drop('TARGET', axis = 1))\n",
    "\n",
    "predictions = clf.predict(df.drop('TARGET', axis = 1))"
   ]
  },
  {
   "cell_type": "code",
   "execution_count": 21,
   "id": "e87c240a",
   "metadata": {},
   "outputs": [],
   "source": [
    "df_test = df.copy()"
   ]
  },
  {
   "cell_type": "code",
   "execution_count": 22,
   "id": "e0ad2c19",
   "metadata": {},
   "outputs": [],
   "source": [
    "# Proba d'avoir 0 --> on rembourse\n",
    "df_test['PREDICTIONS_PROBA'] = predictions_proba[:,0]\n",
    "df_test['PREDICTIONS'] = predictions"
   ]
  },
  {
   "cell_type": "code",
   "execution_count": 24,
   "id": "74ece95b",
   "metadata": {},
   "outputs": [],
   "source": [
    "df_test = df_test[df_test['TARGET'].notnull()]"
   ]
  },
  {
   "cell_type": "code",
   "execution_count": 43,
   "id": "f59f3eee",
   "metadata": {},
   "outputs": [
    {
     "data": {
      "image/png": "[encoded data removed]",
      "text/plain": [
       "<Figure size 432x432 with 1 Axes>"
      ]
     },
     "metadata": {
      "needs_background": "light"
     },
     "output_type": "display_data"
    }
   ],
   "source": [
    "# Histrogramme de la distribution de la variable\n",
    "plt.figure(figsize = (6, 6))\n",
    "plt.hist(x = df_test['PREDICTIONS_PROBA'].values, bins = 50, align = 'left', color = '#4d7cab',\n",
    "         edgecolor = 'black', linewidth = 1.1)\n",
    "plt.axvline(x=0.5, color='r', label='axvline - full height')\n",
    "plt.title('Distribution de notre colonne \"PREDICTIONS_PROBA\"')\n",
    "plt.xlabel('PREDICTIONS_PROBA')\n",
    "plt.ylabel('Count')\n",
    "plt.show()"
   ]
  },
  {
   "cell_type": "markdown",
   "id": "27b18f2a",
   "metadata": {},
   "source": [
    "## Fonction test coût métier"
   ]
  },
  {
   "cell_type": "code",
   "execution_count": 45,
   "id": "56d329ca",
   "metadata": {},
   "outputs": [],
   "source": [
    "# On crée une colonne pour nos tests\n",
    "df_test['PREDICTIONS_TEST'] = df_test['PREDICTIONS']"
   ]
  },
  {
   "cell_type": "code",
   "execution_count": 66,
   "id": "b0400f79",
   "metadata": {},
   "outputs": [],
   "source": [
    "def cout_metier(value=0.5):\n",
    "    \"\"\"\n",
    "    \"\"\"\n",
    "    df_test.loc[df_test['PREDICTIONS_PROBA'] >= value, 'PREDICTIONS_TEST'] = 0\n",
    "    df_test.loc[df_test['PREDICTIONS_PROBA'] < value, 'PREDICTIONS_TEST'] = 1\n",
    "    \n",
    "    matrix = confusion_matrix(df_test['TARGET'], df_test['PREDICTIONS_TEST'])\n",
    "\n",
    "    false_neg = matrix[1, 0]\n",
    "    false_pos = matrix[0, 1]\n",
    "    total = df_test.shape[0]\n",
    "    false_neg_error = round(false_neg / total*100, 2)\n",
    "    false_pos_error = round(false_pos / total*100, 2)\n",
    "    total_error = round(false_neg_error + false_pos_error, 2)\n",
    "    \n",
    "    print('False negative (ceux qui remboursent pas mais j\\'ai dit que oui) :',\n",
    "          false_neg_error, '%\\n')\n",
    "    print('False positive (ceux qui remboursent mais j\\'ai dit que non) :',\n",
    "          false_pos_error, '%')\n",
    "    print('Erreur total =', total_error, '%')"
   ]
  },
  {
   "cell_type": "code",
   "execution_count": 73,
   "id": "a7dcf429",
   "metadata": {},
   "outputs": [
    {
     "name": "stdout",
     "output_type": "stream",
     "text": [
      "False negative (ceux qui remboursent pas mais j'ai dit que oui) : 4.81 %\n",
      "\n",
      "False positive (ceux qui remboursent mais j'ai dit que non) : 9.01 %\n",
      "Erreur total = 13.82 %\n"
     ]
    }
   ],
   "source": [
    "cout_metier(0.6)"
   ]
  },
  {
   "cell_type": "code",
   "execution_count": 77,
   "id": "ecdbd4da",
   "metadata": {
    "scrolled": false
   },
   "outputs": [
    {
     "name": "stdout",
     "output_type": "stream",
     "text": [
      "Valeur = 0.5 \n",
      "\n",
      "False negative (ceux qui remboursent pas mais j'ai dit que oui) : 5.96 %\n",
      "\n",
      "False positive (ceux qui remboursent mais j'ai dit que non) : 4.41 %\n",
      "Erreur total = 10.37 %\n",
      "\n",
      "-------------------------------\n",
      "Valeur = 0.51 \n",
      "\n",
      "False negative (ceux qui remboursent pas mais j'ai dit que oui) : 5.85 %\n",
      "\n",
      "False positive (ceux qui remboursent mais j'ai dit que non) : 4.75 %\n",
      "Erreur total = 10.6 %\n",
      "\n",
      "-------------------------------\n",
      "Valeur = 0.52 \n",
      "\n",
      "False negative (ceux qui remboursent pas mais j'ai dit que oui) : 5.74 %\n",
      "\n",
      "False positive (ceux qui remboursent mais j'ai dit que non) : 5.12 %\n",
      "Erreur total = 10.86 %\n",
      "\n",
      "-------------------------------\n",
      "Valeur = 0.53 \n",
      "\n",
      "False negative (ceux qui remboursent pas mais j'ai dit que oui) : 5.62 %\n",
      "\n",
      "False positive (ceux qui remboursent mais j'ai dit que non) : 5.51 %\n",
      "Erreur total = 11.13 %\n",
      "\n",
      "-------------------------------\n",
      "Valeur = 0.54 \n",
      "\n",
      "False negative (ceux qui remboursent pas mais j'ai dit que oui) : 5.52 %\n",
      "\n",
      "False positive (ceux qui remboursent mais j'ai dit que non) : 5.94 %\n",
      "Erreur total = 11.46 %\n",
      "\n",
      "-------------------------------\n",
      "Valeur = 0.55 \n",
      "\n",
      "False negative (ceux qui remboursent pas mais j'ai dit que oui) : 5.39 %\n",
      "\n",
      "False positive (ceux qui remboursent mais j'ai dit que non) : 6.4 %\n",
      "Erreur total = 11.79 %\n",
      "\n",
      "-------------------------------\n",
      "Valeur = 0.56 \n",
      "\n",
      "False negative (ceux qui remboursent pas mais j'ai dit que oui) : 5.28 %\n",
      "\n",
      "False positive (ceux qui remboursent mais j'ai dit que non) : 6.87 %\n",
      "Erreur total = 12.15 %\n",
      "\n",
      "-------------------------------\n",
      "Valeur = 0.57 \n",
      "\n",
      "False negative (ceux qui remboursent pas mais j'ai dit que oui) : 5.18 %\n",
      "\n",
      "False positive (ceux qui remboursent mais j'ai dit que non) : 7.36 %\n",
      "Erreur total = 12.54 %\n",
      "\n",
      "-------------------------------\n",
      "Valeur = 0.58 \n",
      "\n",
      "False negative (ceux qui remboursent pas mais j'ai dit que oui) : 5.05 %\n",
      "\n",
      "False positive (ceux qui remboursent mais j'ai dit que non) : 7.88 %\n",
      "Erreur total = 12.93 %\n",
      "\n",
      "-------------------------------\n",
      "Valeur = 0.59 \n",
      "\n",
      "False negative (ceux qui remboursent pas mais j'ai dit que oui) : 4.93 %\n",
      "\n",
      "False positive (ceux qui remboursent mais j'ai dit que non) : 8.42 %\n",
      "Erreur total = 13.35 %\n",
      "\n",
      "-------------------------------\n",
      "Valeur = 0.6 \n",
      "\n",
      "False negative (ceux qui remboursent pas mais j'ai dit que oui) : 4.81 %\n",
      "\n",
      "False positive (ceux qui remboursent mais j'ai dit que non) : 9.01 %\n",
      "Erreur total = 13.82 %\n",
      "\n",
      "-------------------------------\n"
     ]
    }
   ],
   "source": [
    "for value in [0.5, 0.51, 0.52, 0.53, 0.54, 0.55, 0.56, 0.57, 0.58, 0.59, 0.6]:\n",
    "    print('Valeur =', value, '\\n')\n",
    "    cout_metier(value)\n",
    "    print()\n",
    "    print('-------------------------------')"
   ]
  },
  {
   "cell_type": "code",
   "execution_count": 32,
   "id": "a9b4ad21",
   "metadata": {},
   "outputs": [],
   "source": [
    "# # Matrice de confusion pour mieux voir nos erreurs\n",
    "# matrix = confusion_matrix(df_test['TARGET'], df_test['PREDICTIONS'])\n",
    "\n",
    "# ax = sns.heatmap(matrix, annot=True, cmap='Reds', fmt='g')\n",
    "\n",
    "# ax.set_title('Confusion Matrix\\n');\n",
    "# ax.set_xlabel('\\nCatégories prédites')\n",
    "# ax.set_ylabel('Vraies catégories\\n');\n",
    "\n",
    "# # On ordonne nos catégories\n",
    "# ax.xaxis.set_ticklabels([0, 1], rotation=90)\n",
    "# ax.yaxis.set_ticklabels([0, 1], rotation=0)\n",
    "\n",
    "# plt.show()"
   ]
  },
  {
   "cell_type": "code",
   "execution_count": null,
   "id": "1d7b6b36",
   "metadata": {},
   "outputs": [],
   "source": []
  }
 ],
 "metadata": {
  "kernelspec": {
   "display_name": "Python 3",
   "language": "python",
   "name": "python3"
  },
  "language_info": {
   "codemirror_mode": {
    "name": "ipython",
    "version": 3
   },
   "file_extension": ".py",
   "mimetype": "text/x-python",
   "name": "python",
   "nbconvert_exporter": "python",
   "pygments_lexer": "ipython3",
   "version": "3.8.8"
  }
 },
 "nbformat": 4,
 "nbformat_minor": 5
}
