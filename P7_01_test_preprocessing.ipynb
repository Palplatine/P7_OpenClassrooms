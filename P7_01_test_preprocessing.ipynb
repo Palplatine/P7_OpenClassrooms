{
 "cells": [
  {
   "cell_type": "code",
   "execution_count": 1,
   "id": "d8b2885e",
   "metadata": {},
   "outputs": [],
   "source": [
    "import pandas as pd\n",
    "import numpy as np\n",
    "import missingno as msno\n",
    "\n",
    "import matplotlib\n",
    "import matplotlib.pyplot as plt\n",
    "\n",
    "import seaborn as sns\n",
    "\n",
    "import math\n",
    "\n",
    "import sklearn\n",
    "from sklearn.metrics import roc_auc_score\n",
    "from sklearn.dummy import DummyClassifier\n",
    "from sklearn.model_selection import KFold, StratifiedKFold\n",
    "from sklearn.linear_model import LogisticRegression\n",
    "from sklearn.model_selection import StratifiedKFold\n",
    "from sklearn.preprocessing import StandardScaler\n",
    "\n",
    "import time"
   ]
  },
  {
   "cell_type": "code",
   "execution_count": 2,
   "id": "7ad1558b",
   "metadata": {},
   "outputs": [],
   "source": [
    "from sklearn.compose import ColumnTransformer\n",
    "from sklearn.preprocessing import OneHotEncoder"
   ]
  },
  {
   "cell_type": "code",
   "execution_count": 68,
   "id": "206024ac",
   "metadata": {},
   "outputs": [],
   "source": [
    "# On supprime les avertissements nous indiquant que l'on change les valeurs de notre jeu de données d'origine\n",
    "pd.options.mode.chained_assignment = None"
   ]
  },
  {
   "cell_type": "code",
   "execution_count": 3,
   "id": "d40395c5",
   "metadata": {},
   "outputs": [],
   "source": [
    "# On charge nos deux jeux de données\n",
    "df_test = pd.read_csv('application_test.csv')\n",
    "df = pd.read_csv('application_train.csv')\n",
    "bureau = pd.read_csv('bureau.csv')\n",
    "bureau_balance = pd.read_csv('bureau_balance.csv')\n",
    "ccb = pd.read_csv('credit_card_balance.csv')\n",
    "install_pay = pd.read_csv('installments_payments.csv')\n",
    "pos_cash = pd.read_csv('POS_CASH_balance.csv')\n",
    "prev_app = pd.read_csv('previous_application.csv')"
   ]
  },
  {
   "cell_type": "markdown",
   "id": "cb2f7a5e",
   "metadata": {},
   "source": [
    "# Fonctions"
   ]
  },
  {
   "cell_type": "code",
   "execution_count": 4,
   "id": "6fea2dee",
   "metadata": {},
   "outputs": [],
   "source": [
    "# # One-hot encoding for categorical columns with get_dummies\n",
    "# categorical_columns_total = []\n",
    "\n",
    "# def one_hot_encoder(df, nan_as_category = True):\n",
    "#     original_columns = list(df.columns)\n",
    "#     categorical_columns = [col for col in df.columns if df[col].dtype == 'object']\n",
    "#     categorical_columns_total.append(categorical_columns)\n",
    "#     df = pd.get_dummies(df, columns= categorical_columns, dummy_na= nan_as_category)\n",
    "#     new_columns = [c for c in df.columns if c not in original_columns]\n",
    "#     return df, new_columns"
   ]
  },
  {
   "cell_type": "code",
   "execution_count": 5,
   "id": "74a6081a",
   "metadata": {},
   "outputs": [],
   "source": [
    "# One-hot encoding for categorical columns with get_dummies\n",
    "not_categorical_columns_total = []\n",
    "\n",
    "def preprocessing(df, cols_to_change):\n",
    "\n",
    "    original_columns = list(df.columns)\n",
    "    categorical_columns = [col for col in df.columns if df[col].dtype == 'object']\n",
    "\n",
    "    for col in cols_to_change:\n",
    "        df[col] = df[col].astype('object')\n",
    "        \n",
    "    not_categorical_columns = [col for col in df.columns if df[col].dtype != 'object']\n",
    "    not_categorical_columns_total.append(not_categorical_columns)\n",
    "\n",
    "    scaler = StandardScaler()\n",
    "    df[not_categorical_columns] = scaler.fit_transform(df[not_categorical_columns])\n",
    "\n",
    "    df = pd.get_dummies(df, columns=categorical_columns)\n",
    "    new_columns = [c for c in df.columns if c not in original_columns]\n",
    "    return df, new_columns, not_categorical_columns"
   ]
  },
  {
   "cell_type": "code",
   "execution_count": null,
   "id": "ed71d20c",
   "metadata": {},
   "outputs": [],
   "source": []
  },
  {
   "cell_type": "code",
   "execution_count": null,
   "id": "0ff2065d",
   "metadata": {},
   "outputs": [],
   "source": []
  },
  {
   "cell_type": "markdown",
   "id": "73c2a28b",
   "metadata": {},
   "source": [
    "## Application (1/6)"
   ]
  },
  {
   "cell_type": "code",
   "execution_count": 6,
   "id": "82fd2bb4",
   "metadata": {},
   "outputs": [
    {
     "data": {
      "text/plain": [
       "(307511, 122)"
      ]
     },
     "execution_count": 6,
     "metadata": {},
     "output_type": "execute_result"
    }
   ],
   "source": [
    "df.shape"
   ]
  },
  {
   "cell_type": "code",
   "execution_count": 7,
   "id": "308ff856",
   "metadata": {},
   "outputs": [
    {
     "data": {
      "text/plain": [
       "(307511, 21)"
      ]
     },
     "execution_count": 7,
     "metadata": {},
     "output_type": "execute_result"
    }
   ],
   "source": [
    "df_cols_drop = ['REGION_POPULATION_RELATIVE', 'DAYS_REGISTRATION','DAYS_ID_PUBLISH',\n",
    "                'FLAG_MOBIL', 'FLAG_EMP_PHONE', 'FLAG_WORK_PHONE', 'FLAG_PHONE', 'FLAG_EMAIL',\n",
    "                'REG_REGION_NOT_LIVE_REGION', 'REG_REGION_NOT_WORK_REGION', 'LIVE_REGION_NOT_WORK_REGION',\n",
    "                'REG_CITY_NOT_LIVE_CITY', 'REG_CITY_NOT_WORK_CITY', 'LIVE_CITY_NOT_WORK_CITY',\n",
    "                'APARTMENTS_AVG', 'BASEMENTAREA_AVG', 'YEARS_BEGINEXPLUATATION_AVG', 'YEARS_BUILD_AVG',\n",
    "                'COMMONAREA_AVG', 'ELEVATORS_AVG', 'ENTRANCES_AVG', 'FLOORSMAX_AVG', 'FLOORSMIN_AVG',\n",
    "                'LANDAREA_AVG', 'LIVINGAPARTMENTS_AVG', 'LIVINGAREA_AVG', 'NONLIVINGAPARTMENTS_AVG',\n",
    "                'NONLIVINGAREA_AVG', 'APARTMENTS_MODE', 'BASEMENTAREA_MODE', 'YEARS_BEGINEXPLUATATION_MODE',\n",
    "                'YEARS_BUILD_MODE', 'COMMONAREA_MODE', 'ELEVATORS_MODE', 'ENTRANCES_MODE', 'FLOORSMAX_MODE',\n",
    "                'FLOORSMIN_MODE', 'LANDAREA_MODE', 'LIVINGAPARTMENTS_MODE', 'LIVINGAREA_MODE',\n",
    "                'NONLIVINGAPARTMENTS_MODE', 'NONLIVINGAREA_MODE', 'APARTMENTS_MEDI', 'BASEMENTAREA_MEDI',\n",
    "                'YEARS_BEGINEXPLUATATION_MEDI', 'YEARS_BUILD_MEDI', 'COMMONAREA_MEDI', 'ELEVATORS_MEDI',\n",
    "                'ENTRANCES_MEDI', 'FLOORSMAX_MEDI', 'FLOORSMIN_MEDI', 'LANDAREA_MEDI', 'LIVINGAPARTMENTS_MEDI',\n",
    "                'LIVINGAREA_MEDI', 'NONLIVINGAPARTMENTS_MEDI', 'NONLIVINGAREA_MEDI', 'FONDKAPREMONT_MODE',\n",
    "                'HOUSETYPE_MODE', 'TOTALAREA_MODE', 'WALLSMATERIAL_MODE', 'EMERGENCYSTATE_MODE']\n",
    "\n",
    "df_cols_voir = ['NAME_TYPE_SUITE', 'CNT_CHILDREN', 'AMT_GOODS_PRICE','NAME_FAMILY_STATUS', 'OWN_CAR_AGE',\n",
    "               'REGION_RATING_CLIENT', 'REGION_RATING_CLIENT_W_CITY', 'WEEKDAY_APPR_PROCESS_START',\n",
    "               'HOUR_APPR_PROCESS_START', 'OBS_30_CNT_SOCIAL_CIRCLE', 'DEF_30_CNT_SOCIAL_CIRCLE',\n",
    "                'OBS_60_CNT_SOCIAL_CIRCLE', 'DEF_60_CNT_SOCIAL_CIRCLE', 'DAYS_LAST_PHONE_CHANGE',\n",
    "                'FLAG_DOCUMENT_2', 'FLAG_DOCUMENT_3', 'FLAG_DOCUMENT_4', 'FLAG_DOCUMENT_5',\n",
    "                'FLAG_DOCUMENT_6', 'FLAG_DOCUMENT_7', 'FLAG_DOCUMENT_8',\n",
    "               'FLAG_DOCUMENT_9', 'FLAG_DOCUMENT_10', 'FLAG_DOCUMENT_11', 'FLAG_DOCUMENT_12', 'FLAG_DOCUMENT_13',\n",
    "               'FLAG_DOCUMENT_14', 'FLAG_DOCUMENT_15', 'FLAG_DOCUMENT_16', 'FLAG_DOCUMENT_17', 'FLAG_DOCUMENT_18',\n",
    "               'FLAG_DOCUMENT_19', 'FLAG_DOCUMENT_20', 'FLAG_DOCUMENT_21', 'AMT_REQ_CREDIT_BUREAU_HOUR',\n",
    "               'AMT_REQ_CREDIT_BUREAU_DAY', 'AMT_REQ_CREDIT_BUREAU_WEEK', 'AMT_REQ_CREDIT_BUREAU_MON',\n",
    "               'AMT_REQ_CREDIT_BUREAU_QRT', 'AMT_REQ_CREDIT_BUREAU_YEAR']\n",
    "\n",
    "# On supprime les colonnes qui ne nous intéressent pas\n",
    "df = df.drop(columns = df_cols_drop)\n",
    "df_test = df_test.drop(columns = df_cols_drop)\n",
    "\n",
    "# Pour l'instant on supprime les colonnes où on ne sait pas trop\n",
    "df = df.drop(columns = df_cols_voir)\n",
    "df_test = df_test.drop(columns = df_cols_voir)\n",
    "\n",
    "# Taille des jeux de données après les changements\n",
    "df.shape"
   ]
  },
  {
   "cell_type": "code",
   "execution_count": 8,
   "id": "85ec8151",
   "metadata": {},
   "outputs": [
    {
     "data": {
      "text/plain": [
       "Index(['SK_ID_CURR', 'TARGET', 'NAME_CONTRACT_TYPE', 'CODE_GENDER',\n",
       "       'FLAG_OWN_CAR', 'FLAG_OWN_REALTY', 'AMT_INCOME_TOTAL', 'AMT_CREDIT',\n",
       "       'AMT_ANNUITY', 'NAME_INCOME_TYPE', 'NAME_EDUCATION_TYPE',\n",
       "       'NAME_HOUSING_TYPE', 'DAYS_BIRTH', 'DAYS_EMPLOYED', 'FLAG_CONT_MOBILE',\n",
       "       'OCCUPATION_TYPE', 'CNT_FAM_MEMBERS', 'ORGANIZATION_TYPE',\n",
       "       'EXT_SOURCE_1', 'EXT_SOURCE_2', 'EXT_SOURCE_3'],\n",
       "      dtype='object')"
      ]
     },
     "execution_count": 8,
     "metadata": {},
     "output_type": "execute_result"
    }
   ],
   "source": [
    "df.columns"
   ]
  },
  {
   "cell_type": "code",
   "execution_count": 9,
   "id": "d47d071c",
   "metadata": {},
   "outputs": [
    {
     "name": "stdout",
     "output_type": "stream",
     "text": [
      "Taille Train: 307511, taille test: 48744\n"
     ]
    }
   ],
   "source": [
    "# Read data and merge\n",
    "print(\"Taille Train: {}, taille test: {}\".format(len(df), len(df_test)))\n",
    "df = df.append(df_test).reset_index()\n",
    "\n",
    "# On append train et test pour faire les mêmes preprocessing\n",
    "# On les redivise après\n",
    "\n",
    "# Optional: Remove 4 applications with XNA CODE_GENDER (train set)\n",
    "df = df[df['CODE_GENDER'] != 'XNA']\n",
    "\n",
    "# Categorical features with Binary encode (0 or 1; two categories)\n",
    "for binary_feat in ['CODE_GENDER', 'FLAG_OWN_CAR', 'FLAG_OWN_REALTY']:\n",
    "    df[binary_feat], uniques = pd.factorize(df[binary_feat])\n",
    "\n",
    "cols_df_change = ['SK_ID_CURR', 'TARGET', 'CODE_GENDER', 'FLAG_OWN_CAR', 'FLAG_OWN_REALTY']\n",
    "# Categorical features with One-Hot encode\n",
    "df, cat_cols, not_categorical_columns_df = preprocessing(df, cols_to_change=cols_df_change)\n",
    "\n",
    "# NaN values for DAYS_EMPLOYED: 365.243 -> nan\n",
    "df['DAYS_EMPLOYED'].replace(365243, np.nan, inplace= True)\n",
    "\n",
    "# Some simple new features (percentages)\n",
    "df['DAYS_EMPLOYED_PERC'] = df['DAYS_EMPLOYED'] / df['DAYS_BIRTH']\n",
    "\n",
    "# Taux d'endettement plutôt ?\n",
    "df['INCOME_CREDIT_PERC'] = df['AMT_INCOME_TOTAL'] / df['AMT_CREDIT']\n",
    "df['CREDIT_INCOME_PERC'] = df['AMT_CREDIT'] / df['AMT_INCOME_TOTAL'] # Taux d'endettement\n",
    "\n",
    "df['INCOME_PER_PERSON'] = df['AMT_INCOME_TOTAL'] / df['CNT_FAM_MEMBERS']\n",
    "df['ANNUITY_INCOME_PERC'] = df['AMT_ANNUITY'] / df['AMT_INCOME_TOTAL']\n",
    "df['PAYMENT_RATE'] = df['AMT_ANNUITY'] / df['AMT_CREDIT']"
   ]
  },
  {
   "cell_type": "code",
   "execution_count": 10,
   "id": "d3411467",
   "metadata": {},
   "outputs": [
    {
     "data": {
      "text/html": [
       "<div>\n",
       "<style scoped>\n",
       "    .dataframe tbody tr th:only-of-type {\n",
       "        vertical-align: middle;\n",
       "    }\n",
       "\n",
       "    .dataframe tbody tr th {\n",
       "        vertical-align: top;\n",
       "    }\n",
       "\n",
       "    .dataframe thead th {\n",
       "        text-align: right;\n",
       "    }\n",
       "</style>\n",
       "<table border=\"1\" class=\"dataframe\">\n",
       "  <thead>\n",
       "    <tr style=\"text-align: right;\">\n",
       "      <th></th>\n",
       "      <th>index</th>\n",
       "      <th>SK_ID_CURR</th>\n",
       "      <th>TARGET</th>\n",
       "      <th>CODE_GENDER</th>\n",
       "      <th>FLAG_OWN_CAR</th>\n",
       "      <th>FLAG_OWN_REALTY</th>\n",
       "      <th>AMT_INCOME_TOTAL</th>\n",
       "      <th>AMT_CREDIT</th>\n",
       "      <th>AMT_ANNUITY</th>\n",
       "      <th>DAYS_BIRTH</th>\n",
       "      <th>...</th>\n",
       "      <th>ORGANIZATION_TYPE_Transport: type 3</th>\n",
       "      <th>ORGANIZATION_TYPE_Transport: type 4</th>\n",
       "      <th>ORGANIZATION_TYPE_University</th>\n",
       "      <th>ORGANIZATION_TYPE_XNA</th>\n",
       "      <th>DAYS_EMPLOYED_PERC</th>\n",
       "      <th>INCOME_CREDIT_PERC</th>\n",
       "      <th>CREDIT_INCOME_PERC</th>\n",
       "      <th>INCOME_PER_PERSON</th>\n",
       "      <th>ANNUITY_INCOME_PERC</th>\n",
       "      <th>PAYMENT_RATE</th>\n",
       "    </tr>\n",
       "  </thead>\n",
       "  <tbody>\n",
       "    <tr>\n",
       "      <th>0</th>\n",
       "      <td>-1.449816</td>\n",
       "      <td>100002</td>\n",
       "      <td>1.0</td>\n",
       "      <td>0</td>\n",
       "      <td>0</td>\n",
       "      <td>0</td>\n",
       "      <td>0.144890</td>\n",
       "      <td>-0.454493</td>\n",
       "      <td>-0.184971</td>\n",
       "      <td>1.509656</td>\n",
       "      <td>...</td>\n",
       "      <td>0</td>\n",
       "      <td>0</td>\n",
       "      <td>0</td>\n",
       "      <td>0</td>\n",
       "      <td>-0.303631</td>\n",
       "      <td>-0.318796</td>\n",
       "      <td>-3.136803</td>\n",
       "      <td>-0.114208</td>\n",
       "      <td>-1.276625</td>\n",
       "      <td>0.406983</td>\n",
       "    </tr>\n",
       "    <tr>\n",
       "      <th>1</th>\n",
       "      <td>-1.449806</td>\n",
       "      <td>100003</td>\n",
       "      <td>0.0</td>\n",
       "      <td>1</td>\n",
       "      <td>0</td>\n",
       "      <td>1</td>\n",
       "      <td>0.446893</td>\n",
       "      <td>1.770419</td>\n",
       "      <td>0.561525</td>\n",
       "      <td>-0.166038</td>\n",
       "      <td>...</td>\n",
       "      <td>0</td>\n",
       "      <td>0</td>\n",
       "      <td>0</td>\n",
       "      <td>0</td>\n",
       "      <td>2.784112</td>\n",
       "      <td>0.252422</td>\n",
       "      <td>3.961614</td>\n",
       "      <td>-2.672016</td>\n",
       "      <td>1.256507</td>\n",
       "      <td>0.317171</td>\n",
       "    </tr>\n",
       "  </tbody>\n",
       "</table>\n",
       "<p>2 rows × 119 columns</p>\n",
       "</div>"
      ],
      "text/plain": [
       "      index SK_ID_CURR TARGET CODE_GENDER FLAG_OWN_CAR FLAG_OWN_REALTY  \\\n",
       "0 -1.449816     100002    1.0           0            0               0   \n",
       "1 -1.449806     100003    0.0           1            0               1   \n",
       "\n",
       "   AMT_INCOME_TOTAL  AMT_CREDIT  AMT_ANNUITY  DAYS_BIRTH  ...  \\\n",
       "0          0.144890   -0.454493    -0.184971    1.509656  ...   \n",
       "1          0.446893    1.770419     0.561525   -0.166038  ...   \n",
       "\n",
       "   ORGANIZATION_TYPE_Transport: type 3  ORGANIZATION_TYPE_Transport: type 4  \\\n",
       "0                                    0                                    0   \n",
       "1                                    0                                    0   \n",
       "\n",
       "   ORGANIZATION_TYPE_University  ORGANIZATION_TYPE_XNA  DAYS_EMPLOYED_PERC  \\\n",
       "0                             0                      0           -0.303631   \n",
       "1                             0                      0            2.784112   \n",
       "\n",
       "   INCOME_CREDIT_PERC  CREDIT_INCOME_PERC  INCOME_PER_PERSON  \\\n",
       "0           -0.318796           -3.136803          -0.114208   \n",
       "1            0.252422            3.961614          -2.672016   \n",
       "\n",
       "   ANNUITY_INCOME_PERC  PAYMENT_RATE  \n",
       "0            -1.276625      0.406983  \n",
       "1             1.256507      0.317171  \n",
       "\n",
       "[2 rows x 119 columns]"
      ]
     },
     "execution_count": 10,
     "metadata": {},
     "output_type": "execute_result"
    }
   ],
   "source": [
    "df.head(2)"
   ]
  },
  {
   "cell_type": "code",
   "execution_count": 11,
   "id": "f24fab17",
   "metadata": {},
   "outputs": [
    {
     "data": {
      "text/plain": [
       "index                      0\n",
       "SK_ID_CURR                 0\n",
       "TARGET                 48744\n",
       "CODE_GENDER                0\n",
       "FLAG_OWN_CAR               0\n",
       "                       ...  \n",
       "INCOME_CREDIT_PERC         0\n",
       "CREDIT_INCOME_PERC         0\n",
       "INCOME_PER_PERSON          2\n",
       "ANNUITY_INCOME_PERC       36\n",
       "PAYMENT_RATE              36\n",
       "Length: 119, dtype: int64"
      ]
     },
     "execution_count": 11,
     "metadata": {},
     "output_type": "execute_result"
    }
   ],
   "source": [
    "df.isnull().sum()"
   ]
  },
  {
   "cell_type": "code",
   "execution_count": 12,
   "id": "531b948d",
   "metadata": {},
   "outputs": [
    {
     "data": {
      "text/plain": [
       "[('EXT_SOURCE_1', 0.5443016300305122),\n",
       " ('EXT_SOURCE_3', 0.19546050397051518),\n",
       " ('TARGET', 0.1368248790880587),\n",
       " ('EXT_SOURCE_2', 0.0018750824559088956),\n",
       " ('PAYMENT_RATE', 0.0001010523479232339),\n",
       " ('ANNUITY_INCOME_PERC', 0.0001010523479232339),\n",
       " ('AMT_ANNUITY', 0.0001010523479232339),\n",
       " ('INCOME_PER_PERSON', 5.61401932906855e-06),\n",
       " ('CNT_FAM_MEMBERS', 5.61401932906855e-06),\n",
       " ('ORGANIZATION_TYPE_Industry: type 7', 0.0)]"
      ]
     },
     "execution_count": 12,
     "metadata": {},
     "output_type": "execute_result"
    }
   ],
   "source": [
    "df_nan = df.isnull().mean()\n",
    "df_nan = df_nan.sort_values(ascending=False)\n",
    "liste_nan = []\n",
    "\n",
    "for x, y in zip(df_nan.index, df_nan):\n",
    "    liste_nan.append((x, y))\n",
    "\n",
    "liste_nan[:10]"
   ]
  },
  {
   "cell_type": "code",
   "execution_count": 13,
   "id": "44430eb9",
   "metadata": {},
   "outputs": [],
   "source": [
    "# On remplace par la valeur médiane\n",
    "cols = ['DAYS_EMPLOYED', 'DAYS_EMPLOYED_PERC', 'AMT_ANNUITY',\n",
    "        'PAYMENT_RATE', 'ANNUITY_INCOME_PERC', 'INCOME_PER_PERSON',\n",
    "        'CNT_FAM_MEMBERS']\n",
    "\n",
    "for col in cols:\n",
    "    df[col] = df[col].fillna(df[col].median())"
   ]
  },
  {
   "cell_type": "code",
   "execution_count": 14,
   "id": "0f1d8ca2",
   "metadata": {},
   "outputs": [
    {
     "data": {
      "text/plain": [
       "index                  0.000000\n",
       "SK_ID_CURR             0.000000\n",
       "TARGET                 0.136825\n",
       "CODE_GENDER            0.000000\n",
       "FLAG_OWN_CAR           0.000000\n",
       "                         ...   \n",
       "INCOME_CREDIT_PERC     0.000000\n",
       "CREDIT_INCOME_PERC     0.000000\n",
       "INCOME_PER_PERSON      0.000000\n",
       "ANNUITY_INCOME_PERC    0.000000\n",
       "PAYMENT_RATE           0.000000\n",
       "Length: 119, dtype: float64"
      ]
     },
     "execution_count": 14,
     "metadata": {},
     "output_type": "execute_result"
    }
   ],
   "source": [
    "df.isnull().mean()"
   ]
  },
  {
   "cell_type": "code",
   "execution_count": 15,
   "id": "7ea32b00",
   "metadata": {},
   "outputs": [
    {
     "data": {
      "text/plain": [
       "(356251, 119)"
      ]
     },
     "execution_count": 15,
     "metadata": {},
     "output_type": "execute_result"
    }
   ],
   "source": [
    "df.shape"
   ]
  },
  {
   "cell_type": "code",
   "execution_count": 16,
   "id": "c809f077",
   "metadata": {},
   "outputs": [
    {
     "data": {
      "text/plain": [
       "(356251, 119)"
      ]
     },
     "execution_count": 16,
     "metadata": {},
     "output_type": "execute_result"
    }
   ],
   "source": [
    "for col in df.columns.drop('TARGET'):\n",
    "    df[col].replace([np.inf, -np.inf], np.nan, inplace=True)\n",
    "    df[col].dropna(inplace=True)\n",
    "\n",
    "df.shape"
   ]
  },
  {
   "cell_type": "code",
   "execution_count": 17,
   "id": "57bb738b",
   "metadata": {},
   "outputs": [
    {
     "data": {
      "text/plain": [
       "356251"
      ]
     },
     "execution_count": 17,
     "metadata": {},
     "output_type": "execute_result"
    }
   ],
   "source": [
    "df['SK_ID_CURR'].nunique()"
   ]
  },
  {
   "cell_type": "markdown",
   "id": "edcc5f63",
   "metadata": {},
   "source": [
    "## Bureau & bureau_balance (2/6)"
   ]
  },
  {
   "cell_type": "code",
   "execution_count": 18,
   "id": "7c9d9559",
   "metadata": {},
   "outputs": [],
   "source": [
    "# Pas de col à supprimer a priori\n",
    "# bb_cols_drop = []\n",
    "\n",
    "bb_cols_voir = ['CREDIT_CURRENCY', 'DAYS_CREDIT_UPDATE', 'DAYS_ENDDATE_FACT']\n",
    "\n",
    "# Pour l'instant on supprime les colonnes où on ne sait pas trop\n",
    "# bureau = bureau.drop(columns = bb_cols_drop)\n",
    "bureau = bureau.drop(columns = bb_cols_voir)"
   ]
  },
  {
   "cell_type": "code",
   "execution_count": 19,
   "id": "9b2eb590",
   "metadata": {},
   "outputs": [
    {
     "data": {
      "text/plain": [
       "SK_ID_CURR                  int64\n",
       "SK_ID_BUREAU                int64\n",
       "CREDIT_ACTIVE              object\n",
       "DAYS_CREDIT                 int64\n",
       "CREDIT_DAY_OVERDUE          int64\n",
       "DAYS_CREDIT_ENDDATE       float64\n",
       "AMT_CREDIT_MAX_OVERDUE    float64\n",
       "CNT_CREDIT_PROLONG          int64\n",
       "AMT_CREDIT_SUM            float64\n",
       "AMT_CREDIT_SUM_DEBT       float64\n",
       "AMT_CREDIT_SUM_LIMIT      float64\n",
       "AMT_CREDIT_SUM_OVERDUE    float64\n",
       "CREDIT_TYPE                object\n",
       "AMT_ANNUITY               float64\n",
       "dtype: object"
      ]
     },
     "execution_count": 19,
     "metadata": {},
     "output_type": "execute_result"
    }
   ],
   "source": [
    "bureau.dtypes"
   ]
  },
  {
   "cell_type": "code",
   "execution_count": 20,
   "id": "76eefe1b",
   "metadata": {},
   "outputs": [
    {
     "data": {
      "text/plain": [
       "SK_ID_BUREAU       int64\n",
       "MONTHS_BALANCE     int64\n",
       "STATUS            object\n",
       "dtype: object"
      ]
     },
     "execution_count": 20,
     "metadata": {},
     "output_type": "execute_result"
    }
   ],
   "source": [
    "bureau_balance.dtypes"
   ]
  },
  {
   "cell_type": "code",
   "execution_count": 21,
   "id": "df6e0a80",
   "metadata": {},
   "outputs": [],
   "source": [
    "cols_bb_change = ['SK_ID_BUREAU']\n",
    "bureau_balance, bb_cat, not_categorical_columns_bb = preprocessing(bureau_balance, cols_to_change=cols_bb_change)\n",
    "\n",
    "cols_bureau_change = ['SK_ID_CURR', 'SK_ID_BUREAU']\n",
    "bureau, bureau_cat, not_categorical_columns_bureau = preprocessing(bureau, cols_to_change=cols_bureau_change)\n",
    "    \n",
    "# Bureau balance: Perform aggregations and merge with bureau.csv\n",
    "bb_aggregations = {'MONTHS_BALANCE': ['min', 'max', 'size']}\n",
    "\n",
    "for col in bb_cat:\n",
    "    bb_aggregations[col] = ['mean']\n",
    "bb_agg = bureau_balance.groupby('SK_ID_BUREAU').agg(bb_aggregations)\n",
    "bb_agg.columns = pd.Index([e[0] + \"_\" + e[1].upper() for e in bb_agg.columns.tolist()])\n",
    "bureau = bureau.join(bb_agg, how='left', on='SK_ID_BUREAU')\n",
    "bureau.drop(['SK_ID_BUREAU'], axis=1, inplace= True)\n",
    "    \n",
    "# Bureau and bureau_balance numeric features\n",
    "num_aggregations = {\n",
    "    'DAYS_CREDIT': ['min', 'max', 'mean', 'var'],\n",
    "    'DAYS_CREDIT_ENDDATE': ['min', 'max', 'mean'],\n",
    "    'CREDIT_DAY_OVERDUE': ['max', 'mean'],\n",
    "    'AMT_CREDIT_MAX_OVERDUE': ['mean'],\n",
    "    'AMT_CREDIT_SUM': ['max', 'mean', 'sum'],\n",
    "    'AMT_CREDIT_SUM_DEBT': ['max', 'mean', 'sum'],\n",
    "    'AMT_CREDIT_SUM_OVERDUE': ['mean'],\n",
    "    'AMT_CREDIT_SUM_LIMIT': ['mean', 'sum'],\n",
    "    'AMT_ANNUITY': ['max', 'mean'],\n",
    "    'CNT_CREDIT_PROLONG': ['sum'],\n",
    "    'MONTHS_BALANCE_MIN': ['min'],\n",
    "    'MONTHS_BALANCE_MAX': ['max'],\n",
    "    'MONTHS_BALANCE_SIZE': ['mean', 'sum']\n",
    "}\n",
    "# 'DAYS_CREDIT_UPDATE': ['mean'],\n",
    "\n",
    "# Bureau and bureau_balance categorical features\n",
    "cat_aggregations = {}\n",
    "for cat in bureau_cat: cat_aggregations[cat] = ['mean']\n",
    "for cat in bb_cat: cat_aggregations[cat + \"_MEAN\"] = ['mean']\n",
    "\n",
    "bureau_agg = bureau.groupby('SK_ID_CURR').agg({**num_aggregations, **cat_aggregations})\n",
    "bureau_agg.columns = pd.Index(['BURO_' + e[0] + \"_\" + e[1].upper() for e in bureau_agg.columns.tolist()])\n",
    "\n",
    "# Bureau: Active credits - using only numerical aggregations\n",
    "active = bureau[bureau['CREDIT_ACTIVE_Active'] == 1]\n",
    "active_agg = active.groupby('SK_ID_CURR').agg(num_aggregations)\n",
    "active_agg.columns = pd.Index(['ACTIVE_' + e[0] + \"_\" + e[1].upper() for e in active_agg.columns.tolist()])\n",
    "bureau_agg = bureau_agg.join(active_agg, how='left', on='SK_ID_CURR')\n",
    "\n",
    "# Bureau: Closed credits - using only numerical aggregations\n",
    "closed = bureau[bureau['CREDIT_ACTIVE_Closed'] == 1]\n",
    "closed_agg = closed.groupby('SK_ID_CURR').agg(num_aggregations)\n",
    "closed_agg.columns = pd.Index(['CLOSED_' + e[0] + \"_\" + e[1].upper() for e in closed_agg.columns.tolist()])\n",
    "bureau_agg = bureau_agg.join(closed_agg, how='left', on='SK_ID_CURR')"
   ]
  },
  {
   "cell_type": "code",
   "execution_count": 22,
   "id": "163e0fec",
   "metadata": {},
   "outputs": [
    {
     "data": {
      "text/html": [
       "<div>\n",
       "<style scoped>\n",
       "    .dataframe tbody tr th:only-of-type {\n",
       "        vertical-align: middle;\n",
       "    }\n",
       "\n",
       "    .dataframe tbody tr th {\n",
       "        vertical-align: top;\n",
       "    }\n",
       "\n",
       "    .dataframe thead th {\n",
       "        text-align: right;\n",
       "    }\n",
       "</style>\n",
       "<table border=\"1\" class=\"dataframe\">\n",
       "  <thead>\n",
       "    <tr style=\"text-align: right;\">\n",
       "      <th></th>\n",
       "      <th>BURO_DAYS_CREDIT_MIN</th>\n",
       "      <th>BURO_DAYS_CREDIT_MAX</th>\n",
       "      <th>BURO_DAYS_CREDIT_MEAN</th>\n",
       "      <th>BURO_DAYS_CREDIT_VAR</th>\n",
       "      <th>BURO_DAYS_CREDIT_ENDDATE_MIN</th>\n",
       "      <th>BURO_DAYS_CREDIT_ENDDATE_MAX</th>\n",
       "      <th>BURO_DAYS_CREDIT_ENDDATE_MEAN</th>\n",
       "      <th>BURO_CREDIT_DAY_OVERDUE_MAX</th>\n",
       "      <th>BURO_CREDIT_DAY_OVERDUE_MEAN</th>\n",
       "      <th>BURO_AMT_CREDIT_MAX_OVERDUE_MEAN</th>\n",
       "      <th>...</th>\n",
       "      <th>CLOSED_AMT_CREDIT_SUM_OVERDUE_MEAN</th>\n",
       "      <th>CLOSED_AMT_CREDIT_SUM_LIMIT_MEAN</th>\n",
       "      <th>CLOSED_AMT_CREDIT_SUM_LIMIT_SUM</th>\n",
       "      <th>CLOSED_AMT_ANNUITY_MAX</th>\n",
       "      <th>CLOSED_AMT_ANNUITY_MEAN</th>\n",
       "      <th>CLOSED_CNT_CREDIT_PROLONG_SUM</th>\n",
       "      <th>CLOSED_MONTHS_BALANCE_MIN_MIN</th>\n",
       "      <th>CLOSED_MONTHS_BALANCE_MAX_MAX</th>\n",
       "      <th>CLOSED_MONTHS_BALANCE_SIZE_MEAN</th>\n",
       "      <th>CLOSED_MONTHS_BALANCE_SIZE_SUM</th>\n",
       "    </tr>\n",
       "    <tr>\n",
       "      <th>SK_ID_CURR</th>\n",
       "      <th></th>\n",
       "      <th></th>\n",
       "      <th></th>\n",
       "      <th></th>\n",
       "      <th></th>\n",
       "      <th></th>\n",
       "      <th></th>\n",
       "      <th></th>\n",
       "      <th></th>\n",
       "      <th></th>\n",
       "      <th></th>\n",
       "      <th></th>\n",
       "      <th></th>\n",
       "      <th></th>\n",
       "      <th></th>\n",
       "      <th></th>\n",
       "      <th></th>\n",
       "      <th></th>\n",
       "      <th></th>\n",
       "      <th></th>\n",
       "      <th></th>\n",
       "    </tr>\n",
       "  </thead>\n",
       "  <tbody>\n",
       "    <tr>\n",
       "      <th>100001</th>\n",
       "      <td>-0.540633</td>\n",
       "      <td>1.374693</td>\n",
       "      <td>0.511979</td>\n",
       "      <td>0.379644</td>\n",
       "      <td>-0.368329</td>\n",
       "      <td>0.253790</td>\n",
       "      <td>-0.085717</td>\n",
       "      <td>-0.022388</td>\n",
       "      <td>-0.022388</td>\n",
       "      <td>NaN</td>\n",
       "      <td>...</td>\n",
       "      <td>-0.006385</td>\n",
       "      <td>-0.138335</td>\n",
       "      <td>-0.553341</td>\n",
       "      <td>-0.048224</td>\n",
       "      <td>-0.048224</td>\n",
       "      <td>-0.266479</td>\n",
       "      <td>-0.848889</td>\n",
       "      <td>1.288176</td>\n",
       "      <td>35.0</td>\n",
       "      <td>140.0</td>\n",
       "    </tr>\n",
       "    <tr>\n",
       "      <th>100002</th>\n",
       "      <td>-0.370857</td>\n",
       "      <td>1.306783</td>\n",
       "      <td>0.337173</td>\n",
       "      <td>0.294407</td>\n",
       "      <td>-0.316870</td>\n",
       "      <td>0.053959</td>\n",
       "      <td>-0.172102</td>\n",
       "      <td>-0.022388</td>\n",
       "      <td>-0.022388</td>\n",
       "      <td>-0.010408</td>\n",
       "      <td>...</td>\n",
       "      <td>-0.006385</td>\n",
       "      <td>-0.138335</td>\n",
       "      <td>-0.276671</td>\n",
       "      <td>-0.048224</td>\n",
       "      <td>-0.048224</td>\n",
       "      <td>-0.399718</td>\n",
       "      <td>-0.681276</td>\n",
       "      <td>1.288176</td>\n",
       "      <td>15.0</td>\n",
       "      <td>90.0</td>\n",
       "    </tr>\n",
       "  </tbody>\n",
       "</table>\n",
       "<p>2 rows × 105 columns</p>\n",
       "</div>"
      ],
      "text/plain": [
       "            BURO_DAYS_CREDIT_MIN  BURO_DAYS_CREDIT_MAX  BURO_DAYS_CREDIT_MEAN  \\\n",
       "SK_ID_CURR                                                                      \n",
       "100001                 -0.540633              1.374693               0.511979   \n",
       "100002                 -0.370857              1.306783               0.337173   \n",
       "\n",
       "            BURO_DAYS_CREDIT_VAR  BURO_DAYS_CREDIT_ENDDATE_MIN  \\\n",
       "SK_ID_CURR                                                       \n",
       "100001                  0.379644                     -0.368329   \n",
       "100002                  0.294407                     -0.316870   \n",
       "\n",
       "            BURO_DAYS_CREDIT_ENDDATE_MAX  BURO_DAYS_CREDIT_ENDDATE_MEAN  \\\n",
       "SK_ID_CURR                                                                \n",
       "100001                          0.253790                      -0.085717   \n",
       "100002                          0.053959                      -0.172102   \n",
       "\n",
       "            BURO_CREDIT_DAY_OVERDUE_MAX  BURO_CREDIT_DAY_OVERDUE_MEAN  \\\n",
       "SK_ID_CURR                                                              \n",
       "100001                        -0.022388                     -0.022388   \n",
       "100002                        -0.022388                     -0.022388   \n",
       "\n",
       "            BURO_AMT_CREDIT_MAX_OVERDUE_MEAN  ...  \\\n",
       "SK_ID_CURR                                    ...   \n",
       "100001                                   NaN  ...   \n",
       "100002                             -0.010408  ...   \n",
       "\n",
       "            CLOSED_AMT_CREDIT_SUM_OVERDUE_MEAN  \\\n",
       "SK_ID_CURR                                       \n",
       "100001                               -0.006385   \n",
       "100002                               -0.006385   \n",
       "\n",
       "            CLOSED_AMT_CREDIT_SUM_LIMIT_MEAN  CLOSED_AMT_CREDIT_SUM_LIMIT_SUM  \\\n",
       "SK_ID_CURR                                                                      \n",
       "100001                             -0.138335                        -0.553341   \n",
       "100002                             -0.138335                        -0.276671   \n",
       "\n",
       "            CLOSED_AMT_ANNUITY_MAX  CLOSED_AMT_ANNUITY_MEAN  \\\n",
       "SK_ID_CURR                                                    \n",
       "100001                   -0.048224                -0.048224   \n",
       "100002                   -0.048224                -0.048224   \n",
       "\n",
       "            CLOSED_CNT_CREDIT_PROLONG_SUM  CLOSED_MONTHS_BALANCE_MIN_MIN  \\\n",
       "SK_ID_CURR                                                                 \n",
       "100001                          -0.266479                      -0.848889   \n",
       "100002                          -0.399718                      -0.681276   \n",
       "\n",
       "            CLOSED_MONTHS_BALANCE_MAX_MAX  CLOSED_MONTHS_BALANCE_SIZE_MEAN  \\\n",
       "SK_ID_CURR                                                                   \n",
       "100001                           1.288176                             35.0   \n",
       "100002                           1.288176                             15.0   \n",
       "\n",
       "            CLOSED_MONTHS_BALANCE_SIZE_SUM  \n",
       "SK_ID_CURR                                  \n",
       "100001                               140.0  \n",
       "100002                                90.0  \n",
       "\n",
       "[2 rows x 105 columns]"
      ]
     },
     "execution_count": 22,
     "metadata": {},
     "output_type": "execute_result"
    }
   ],
   "source": [
    "bureau_agg.head(2)"
   ]
  },
  {
   "cell_type": "code",
   "execution_count": 23,
   "id": "f717416b",
   "metadata": {},
   "outputs": [
    {
     "data": {
      "text/plain": [
       "BURO_DAYS_CREDIT_MIN                    0\n",
       "BURO_DAYS_CREDIT_MAX                    0\n",
       "BURO_DAYS_CREDIT_MEAN                   0\n",
       "BURO_DAYS_CREDIT_VAR                41520\n",
       "BURO_DAYS_CREDIT_ENDDATE_MIN         2585\n",
       "                                    ...  \n",
       "CLOSED_CNT_CREDIT_PROLONG_SUM       37886\n",
       "CLOSED_MONTHS_BALANCE_MIN_MIN      187316\n",
       "CLOSED_MONTHS_BALANCE_MAX_MAX      187316\n",
       "CLOSED_MONTHS_BALANCE_SIZE_MEAN    187316\n",
       "CLOSED_MONTHS_BALANCE_SIZE_SUM      37886\n",
       "Length: 105, dtype: int64"
      ]
     },
     "execution_count": 23,
     "metadata": {},
     "output_type": "execute_result"
    }
   ],
   "source": [
    "bureau_agg.isnull().sum()"
   ]
  },
  {
   "cell_type": "code",
   "execution_count": 24,
   "id": "bf3f43eb",
   "metadata": {},
   "outputs": [],
   "source": [
    "for col in bureau_agg.columns:\n",
    "    if 'CLOSED' in col:\n",
    "        bureau_agg[col] = bureau_agg[col].fillna(0)\n",
    "    \n",
    "    elif 'ACTIVE' in col:\n",
    "        bureau_agg[col] = bureau_agg[col].fillna(0)\n",
    "    \n",
    "    elif 'BURO' in col:\n",
    "        bureau_agg[col] = bureau_agg[col].fillna(bureau_agg[col].median())"
   ]
  },
  {
   "cell_type": "code",
   "execution_count": 25,
   "id": "1bf27a44",
   "metadata": {},
   "outputs": [
    {
     "data": {
      "text/plain": [
       "0"
      ]
     },
     "execution_count": 25,
     "metadata": {},
     "output_type": "execute_result"
    }
   ],
   "source": [
    "bureau_agg.isnull().sum().max()"
   ]
  },
  {
   "cell_type": "code",
   "execution_count": 26,
   "id": "b11f78da",
   "metadata": {},
   "outputs": [
    {
     "data": {
      "text/plain": [
       "(305811, 105)"
      ]
     },
     "execution_count": 26,
     "metadata": {},
     "output_type": "execute_result"
    }
   ],
   "source": [
    "bureau_agg.shape"
   ]
  },
  {
   "cell_type": "code",
   "execution_count": 27,
   "id": "5e7502f7",
   "metadata": {},
   "outputs": [
    {
     "data": {
      "text/plain": [
       "(305811, 105)"
      ]
     },
     "execution_count": 27,
     "metadata": {},
     "output_type": "execute_result"
    }
   ],
   "source": [
    "bureau_agg.replace([np.inf, -np.inf], np.nan, inplace=True)\n",
    "bureau_agg.dropna(inplace=True)\n",
    "\n",
    "bureau_agg.shape"
   ]
  },
  {
   "cell_type": "markdown",
   "id": "6fe395c7",
   "metadata": {},
   "source": [
    "## Previous application (3/6)"
   ]
  },
  {
   "cell_type": "code",
   "execution_count": 28,
   "id": "85f6a208",
   "metadata": {},
   "outputs": [],
   "source": [
    "# Beaucoup de données où ne connait pas le vendeur / il n'y en a pas\n",
    "prev_cols_drop = ['NAME_SELLER_INDUSTRY']\n",
    "\n",
    "prev_cols_voir = ['AMT_GOODS_PRICE', 'CHANNEL_TYPE','HOUR_APPR_PROCESS_START',\n",
    "                  'NAME_TYPE_SUITE','NFLAG_LAST_APPL_IN_DAY','SELLERPLACE_AREA',\n",
    "                  'WEEKDAY_APPR_PROCESS_START']\n",
    "\n",
    "# On supprime les colonnes choisies\n",
    "prev_app = prev_app.drop(columns = prev_cols_drop)\n",
    "prev_app = prev_app.drop(columns = prev_cols_voir)"
   ]
  },
  {
   "cell_type": "code",
   "execution_count": 29,
   "id": "0bd66c46",
   "metadata": {},
   "outputs": [],
   "source": [
    "# Si on garde \"NAME_TYPE_SUITE\"\n",
    "# for row in prev_app.index:   \n",
    "    \n",
    "#     if prev_app.loc[row, 'NAME_TYPE_SUITE'] == 'Other_A':\n",
    "#         prev_app.loc[row, 'NAME_TYPE_SUITE'] = 'Other'\n",
    "\n",
    "#     if prev_app.loc[row, 'NAME_TYPE_SUITE'] == 'Other_B':\n",
    "#         prev_app.loc[row, 'NAME_TYPE_SUITE'] = 'Other'"
   ]
  },
  {
   "cell_type": "code",
   "execution_count": 30,
   "id": "93d7dcd1",
   "metadata": {},
   "outputs": [
    {
     "data": {
      "text/plain": [
       "SK_ID_PREV                       int64\n",
       "SK_ID_CURR                       int64\n",
       "NAME_CONTRACT_TYPE              object\n",
       "AMT_ANNUITY                    float64\n",
       "AMT_APPLICATION                float64\n",
       "AMT_CREDIT                     float64\n",
       "AMT_DOWN_PAYMENT               float64\n",
       "FLAG_LAST_APPL_PER_CONTRACT     object\n",
       "RATE_DOWN_PAYMENT              float64\n",
       "RATE_INTEREST_PRIMARY          float64\n",
       "RATE_INTEREST_PRIVILEGED       float64\n",
       "NAME_CASH_LOAN_PURPOSE          object\n",
       "NAME_CONTRACT_STATUS            object\n",
       "DAYS_DECISION                    int64\n",
       "NAME_PAYMENT_TYPE               object\n",
       "CODE_REJECT_REASON              object\n",
       "NAME_CLIENT_TYPE                object\n",
       "NAME_GOODS_CATEGORY             object\n",
       "NAME_PORTFOLIO                  object\n",
       "NAME_PRODUCT_TYPE               object\n",
       "CNT_PAYMENT                    float64\n",
       "NAME_YIELD_GROUP                object\n",
       "PRODUCT_COMBINATION             object\n",
       "DAYS_FIRST_DRAWING             float64\n",
       "DAYS_FIRST_DUE                 float64\n",
       "DAYS_LAST_DUE_1ST_VERSION      float64\n",
       "DAYS_LAST_DUE                  float64\n",
       "DAYS_TERMINATION               float64\n",
       "NFLAG_INSURED_ON_APPROVAL      float64\n",
       "dtype: object"
      ]
     },
     "execution_count": 30,
     "metadata": {},
     "output_type": "execute_result"
    }
   ],
   "source": [
    "prev_app.dtypes"
   ]
  },
  {
   "cell_type": "code",
   "execution_count": 31,
   "id": "890a50b5",
   "metadata": {},
   "outputs": [],
   "source": [
    "# Preprocess previous_applications.csv\n",
    "cols_prev_change = ['SK_ID_PREV', 'SK_ID_CURR']\n",
    "prev_app, cat_cols, not_categorical_columns_prev = preprocessing(prev_app, cols_to_change=cols_prev_change)\n",
    "\n",
    "# Days 365.243 values -> nan\n",
    "prev_app['DAYS_FIRST_DRAWING'].replace(365243, np.nan, inplace= True)\n",
    "prev_app['DAYS_FIRST_DUE'].replace(365243, np.nan, inplace= True)\n",
    "prev_app['DAYS_LAST_DUE_1ST_VERSION'].replace(365243, np.nan, inplace= True)\n",
    "prev_app['DAYS_LAST_DUE'].replace(365243, np.nan, inplace= True)\n",
    "prev_app['DAYS_TERMINATION'].replace(365243, np.nan, inplace= True)\n",
    "\n",
    "# Add feature: value ask / value received percentage\n",
    "prev_app['APP_CREDIT_PERC'] = prev_app['AMT_APPLICATION'] / prev_app['AMT_CREDIT']\n",
    "\n",
    "# Previous applications numeric features\n",
    "# Si on garde les \"à voir\"\n",
    "\n",
    "# num_aggregations = {\n",
    "#     'AMT_ANNUITY': ['min', 'max', 'mean'],\n",
    "#     'AMT_APPLICATION': ['min', 'max', 'mean'],\n",
    "#     'AMT_CREDIT': ['min', 'max', 'mean'],\n",
    "#     'APP_CREDIT_PERC': ['min', 'max', 'mean', 'var'],\n",
    "#     'AMT_DOWN_PAYMENT': ['min', 'max', 'mean'],\n",
    "#     'AMT_GOODS_PRICE': ['min', 'max', 'mean'],\n",
    "#     'HOUR_APPR_PROCESS_START': ['min', 'max', 'mean'],\n",
    "#     'RATE_DOWN_PAYMENT': ['min', 'max', 'mean'],\n",
    "#     'DAYS_DECISION': ['min', 'max', 'mean'],\n",
    "#     'CNT_PAYMENT': ['mean', 'sum'],\n",
    "# }\n",
    "\n",
    "\n",
    "num_aggregations = {\n",
    "    'AMT_ANNUITY': ['min', 'max', 'mean'],\n",
    "    'AMT_APPLICATION': ['min', 'max', 'mean'],\n",
    "    'AMT_CREDIT': ['min', 'max', 'mean'],\n",
    "    'APP_CREDIT_PERC': ['min', 'max', 'mean', 'var'],\n",
    "    'AMT_DOWN_PAYMENT': ['min', 'max', 'mean'],\n",
    "    'RATE_DOWN_PAYMENT': ['min', 'max', 'mean'],\n",
    "    'DAYS_DECISION': ['min', 'max', 'mean'],\n",
    "    'CNT_PAYMENT': ['mean', 'sum'],\n",
    "}\n",
    "\n",
    "# Previous applications categorical features\n",
    "cat_aggregations = {}\n",
    "for cat in cat_cols:\n",
    "    cat_aggregations[cat] = ['mean']\n",
    "    \n",
    "prev_agg = prev_app.groupby('SK_ID_CURR').agg({**num_aggregations, **cat_aggregations})\n",
    "prev_agg.columns = pd.Index(['PREV_' + e[0] + \"_\" + e[1].upper() for e in prev_agg.columns.tolist()])\n",
    "\n",
    "# Previous Applications: Approved Applications - only numerical features\n",
    "approved = prev_app[prev_app['NAME_CONTRACT_STATUS_Approved'] == 1]\n",
    "approved_agg = approved.groupby('SK_ID_CURR').agg(num_aggregations)\n",
    "approved_agg.columns = pd.Index(['APPROVED_' + e[0] + \"_\" + e[1].upper() for e in approved_agg.columns.tolist()])\n",
    "prev_agg = prev_agg.join(approved_agg, how='left', on='SK_ID_CURR')\n",
    "\n",
    "# Previous Applications: Refused Applications - only numerical features\n",
    "refused = prev_app[prev_app['NAME_CONTRACT_STATUS_Refused'] == 1]\n",
    "refused_agg = refused.groupby('SK_ID_CURR').agg(num_aggregations)\n",
    "refused_agg.columns = pd.Index(['REFUSED_' + e[0] + \"_\" + e[1].upper() for e in refused_agg.columns.tolist()])\n",
    "prev_agg = prev_agg.join(refused_agg, how='left', on='SK_ID_CURR')"
   ]
  },
  {
   "cell_type": "code",
   "execution_count": 32,
   "id": "577100ef",
   "metadata": {},
   "outputs": [
    {
     "data": {
      "text/plain": [
       "PREV_AMT_ANNUITY_MIN             480\n",
       "PREV_AMT_ANNUITY_MAX             480\n",
       "PREV_AMT_ANNUITY_MEAN            480\n",
       "PREV_AMT_APPLICATION_MIN           0\n",
       "PREV_AMT_APPLICATION_MAX           0\n",
       "                               ...  \n",
       "REFUSED_DAYS_DECISION_MIN     220580\n",
       "REFUSED_DAYS_DECISION_MAX     220580\n",
       "REFUSED_DAYS_DECISION_MEAN    220580\n",
       "REFUSED_CNT_PAYMENT_MEAN      230761\n",
       "REFUSED_CNT_PAYMENT_SUM       220580\n",
       "Length: 182, dtype: int64"
      ]
     },
     "execution_count": 32,
     "metadata": {},
     "output_type": "execute_result"
    }
   ],
   "source": [
    "prev_agg.isnull().sum()"
   ]
  },
  {
   "cell_type": "code",
   "execution_count": 33,
   "id": "3d967e5b",
   "metadata": {},
   "outputs": [],
   "source": [
    "for col in prev_agg.columns:\n",
    "    if 'REFUSED' in col:\n",
    "        prev_agg[col] = prev_agg[col].fillna(0)\n",
    "    \n",
    "    elif 'APPROVED' in col:\n",
    "        prev_agg[col] = prev_agg[col].fillna(0)\n",
    "    \n",
    "    elif 'PREV' in col:\n",
    "        prev_agg[col] = prev_agg[col].fillna(prev_agg[col].median())"
   ]
  },
  {
   "cell_type": "code",
   "execution_count": 34,
   "id": "69f512cc",
   "metadata": {},
   "outputs": [
    {
     "data": {
      "text/plain": [
       "0"
      ]
     },
     "execution_count": 34,
     "metadata": {},
     "output_type": "execute_result"
    }
   ],
   "source": [
    "prev_agg.isnull().sum().max()"
   ]
  },
  {
   "cell_type": "code",
   "execution_count": 35,
   "id": "bbe9181c",
   "metadata": {},
   "outputs": [
    {
     "data": {
      "text/plain": [
       "(338857, 182)"
      ]
     },
     "execution_count": 35,
     "metadata": {},
     "output_type": "execute_result"
    }
   ],
   "source": [
    "prev_agg.shape"
   ]
  },
  {
   "cell_type": "code",
   "execution_count": 36,
   "id": "6ed8de65",
   "metadata": {},
   "outputs": [
    {
     "data": {
      "text/plain": [
       "(338857, 182)"
      ]
     },
     "execution_count": 36,
     "metadata": {},
     "output_type": "execute_result"
    }
   ],
   "source": [
    "prev_agg.replace([np.inf, -np.inf], np.nan, inplace=True)\n",
    "prev_agg.dropna(inplace=True)\n",
    "\n",
    "prev_agg.shape"
   ]
  },
  {
   "cell_type": "markdown",
   "id": "31d1517c",
   "metadata": {},
   "source": [
    "## POS balance (4/6)"
   ]
  },
  {
   "cell_type": "code",
   "execution_count": 37,
   "id": "872a1019",
   "metadata": {},
   "outputs": [],
   "source": [
    "# A priori on garde tout\n",
    "\n",
    "# pos_cols_drop = []\n",
    "\n",
    "# pos_cols_voir = []\n",
    "\n",
    "# Pour l'instant on supprime les colonnes où on ne sait pas trop\n",
    "# pos_cash = pos_cash.drop(columns = pos_cols_drop)\n",
    "# pos_cash = pos_cash.drop(columns = pos_cols_voir)"
   ]
  },
  {
   "cell_type": "code",
   "execution_count": 38,
   "id": "a3dd137c",
   "metadata": {},
   "outputs": [
    {
     "data": {
      "text/plain": [
       "SK_ID_PREV                 int64\n",
       "SK_ID_CURR                 int64\n",
       "MONTHS_BALANCE             int64\n",
       "CNT_INSTALMENT           float64\n",
       "CNT_INSTALMENT_FUTURE    float64\n",
       "NAME_CONTRACT_STATUS      object\n",
       "SK_DPD                     int64\n",
       "SK_DPD_DEF                 int64\n",
       "dtype: object"
      ]
     },
     "execution_count": 38,
     "metadata": {},
     "output_type": "execute_result"
    }
   ],
   "source": [
    "pos_cash.dtypes"
   ]
  },
  {
   "cell_type": "code",
   "execution_count": 39,
   "id": "14c5b1f4",
   "metadata": {},
   "outputs": [],
   "source": [
    "# Preprocess POS_CASH_balance.csv\n",
    "cols_pos_change = ['SK_ID_PREV', 'SK_ID_CURR']\n",
    "pos_cash, cat_cols, not_categorical_columns_pos = preprocessing(pos_cash, cols_to_change=cols_pos_change)\n",
    "\n",
    "# Features\n",
    "aggregations = {\n",
    "    'MONTHS_BALANCE': ['max', 'mean', 'size'],\n",
    "    'SK_DPD': ['max', 'mean'],\n",
    "    'SK_DPD_DEF': ['max', 'mean']\n",
    "}\n",
    "for cat in cat_cols:\n",
    "    aggregations[cat] = ['mean']\n",
    "    \n",
    "pos_agg = pos_cash.groupby('SK_ID_CURR').agg(aggregations)\n",
    "pos_agg.columns = pd.Index(['POS_' + e[0] + \"_\" + e[1].upper() for e in pos_agg.columns.tolist()])\n",
    "\n",
    "# Count pos cash accounts\n",
    "pos_agg['POS_COUNT'] = pos_cash.groupby('SK_ID_CURR').size()"
   ]
  },
  {
   "cell_type": "code",
   "execution_count": 42,
   "id": "813d1d82",
   "metadata": {},
   "outputs": [
    {
     "data": {
      "text/plain": [
       "POS_MONTHS_BALANCE_MAX                                 0\n",
       "POS_MONTHS_BALANCE_MEAN                                0\n",
       "POS_MONTHS_BALANCE_SIZE                                0\n",
       "POS_SK_DPD_MAX                                         0\n",
       "POS_SK_DPD_MEAN                                        0\n",
       "POS_SK_DPD_DEF_MAX                                     0\n",
       "POS_SK_DPD_DEF_MEAN                                    0\n",
       "POS_NAME_CONTRACT_STATUS_Active_MEAN                   0\n",
       "POS_NAME_CONTRACT_STATUS_Amortized debt_MEAN           0\n",
       "POS_NAME_CONTRACT_STATUS_Approved_MEAN                 0\n",
       "POS_NAME_CONTRACT_STATUS_Canceled_MEAN                 0\n",
       "POS_NAME_CONTRACT_STATUS_Completed_MEAN                0\n",
       "POS_NAME_CONTRACT_STATUS_Demand_MEAN                   0\n",
       "POS_NAME_CONTRACT_STATUS_Returned to the store_MEAN    0\n",
       "POS_NAME_CONTRACT_STATUS_Signed_MEAN                   0\n",
       "POS_NAME_CONTRACT_STATUS_XNA_MEAN                      0\n",
       "POS_COUNT                                              0\n",
       "dtype: int64"
      ]
     },
     "execution_count": 42,
     "metadata": {},
     "output_type": "execute_result"
    }
   ],
   "source": [
    "pos_agg.isnull().sum()"
   ]
  },
  {
   "cell_type": "code",
   "execution_count": 43,
   "id": "be04dd85",
   "metadata": {},
   "outputs": [
    {
     "data": {
      "text/plain": [
       "(337252, 17)"
      ]
     },
     "execution_count": 43,
     "metadata": {},
     "output_type": "execute_result"
    }
   ],
   "source": [
    "pos_agg.shape"
   ]
  },
  {
   "cell_type": "code",
   "execution_count": 44,
   "id": "882eb9c3",
   "metadata": {},
   "outputs": [
    {
     "data": {
      "text/plain": [
       "(337252, 17)"
      ]
     },
     "execution_count": 44,
     "metadata": {},
     "output_type": "execute_result"
    }
   ],
   "source": [
    "pos_agg.replace([np.inf, -np.inf], np.nan, inplace=True)\n",
    "pos_agg.dropna(inplace=True)\n",
    "\n",
    "pos_agg.shape"
   ]
  },
  {
   "cell_type": "markdown",
   "id": "1433f8ff",
   "metadata": {},
   "source": [
    "## Installments payments (5/6)"
   ]
  },
  {
   "cell_type": "code",
   "execution_count": 45,
   "id": "cd3bb5db",
   "metadata": {},
   "outputs": [],
   "source": [
    "# ins_cols_drop = []\n",
    "\n",
    "# ins_cols_voir = []\n",
    "\n",
    "# Pour l'instant on supprime les colonnes où on ne sait pas trop\n",
    "# install_pay = install_pay.drop(columns = ins_cols_drop)\n",
    "# install_pay = install_pay.drop(columns = ins_cols_voir)"
   ]
  },
  {
   "cell_type": "code",
   "execution_count": 46,
   "id": "f8281158",
   "metadata": {},
   "outputs": [
    {
     "data": {
      "text/plain": [
       "SK_ID_PREV                   0\n",
       "SK_ID_CURR                   0\n",
       "NUM_INSTALMENT_VERSION       0\n",
       "NUM_INSTALMENT_NUMBER        0\n",
       "DAYS_INSTALMENT              0\n",
       "DAYS_ENTRY_PAYMENT        2905\n",
       "AMT_INSTALMENT               0\n",
       "AMT_PAYMENT               2905\n",
       "dtype: int64"
      ]
     },
     "execution_count": 46,
     "metadata": {},
     "output_type": "execute_result"
    }
   ],
   "source": [
    "install_pay.isnull().sum()"
   ]
  },
  {
   "cell_type": "code",
   "execution_count": 47,
   "id": "1a3a77c1",
   "metadata": {},
   "outputs": [],
   "source": [
    "for col in install_pay.columns:\n",
    "    install_pay[col] = install_pay[col].fillna(install_pay[col].median())"
   ]
  },
  {
   "cell_type": "code",
   "execution_count": 48,
   "id": "5e5f3017",
   "metadata": {},
   "outputs": [
    {
     "data": {
      "text/plain": [
       "SK_ID_PREV                  int64\n",
       "SK_ID_CURR                  int64\n",
       "NUM_INSTALMENT_VERSION    float64\n",
       "NUM_INSTALMENT_NUMBER       int64\n",
       "DAYS_INSTALMENT           float64\n",
       "DAYS_ENTRY_PAYMENT        float64\n",
       "AMT_INSTALMENT            float64\n",
       "AMT_PAYMENT               float64\n",
       "dtype: object"
      ]
     },
     "execution_count": 48,
     "metadata": {},
     "output_type": "execute_result"
    }
   ],
   "source": [
    "install_pay.dtypes"
   ]
  },
  {
   "cell_type": "code",
   "execution_count": 49,
   "id": "b9b338d0",
   "metadata": {},
   "outputs": [],
   "source": [
    "# Preprocess installments_payments.csv\n",
    "cols_ins_change = ['SK_ID_PREV', 'SK_ID_CURR']\n",
    "install_pay, cat_cols, not_categorical_columns_ins = preprocessing(install_pay, cols_to_change=cols_ins_change)\n",
    "\n",
    "# Percentage and difference paid in each installment (amount paid and installment value)\n",
    "install_pay['PAYMENT_PERC'] = install_pay['AMT_PAYMENT'] / install_pay['AMT_INSTALMENT']\n",
    "install_pay['PAYMENT_DIFF'] = install_pay['AMT_INSTALMENT'] - install_pay['AMT_PAYMENT']\n",
    "\n",
    "# Days past due and days before due (no negative values)\n",
    "install_pay['DPD'] = install_pay['DAYS_ENTRY_PAYMENT'] - install_pay['DAYS_INSTALMENT']\n",
    "install_pay['DBD'] = install_pay['DAYS_INSTALMENT'] - install_pay['DAYS_ENTRY_PAYMENT']\n",
    "install_pay['DPD'] = install_pay['DPD'].apply(lambda x: x if x > 0 else 0)\n",
    "install_pay['DBD'] = install_pay['DBD'].apply(lambda x: x if x > 0 else 0)\n",
    "\n",
    "# # Features: Perform aggregations\n",
    "# aggregations = {\n",
    "#     'NUM_INSTALMENT_VERSION': ['nunique'],\n",
    "#     'DPD': ['max', 'mean', 'sum'],\n",
    "#     'DBD': ['max', 'mean', 'sum'],\n",
    "#     'PAYMENT_PERC': ['max', 'mean', 'sum'],\n",
    "#     'PAYMENT_DIFF': ['max', 'mean', 'sum'],\n",
    "#     'AMT_INSTALMENT': ['max', 'mean', 'sum'],\n",
    "#     'AMT_PAYMENT': ['min', 'max', 'mean', 'sum'],\n",
    "#     'DAYS_ENTRY_PAYMENT': ['max', 'mean', 'sum']\n",
    "# }\n",
    "\n",
    "# On enlève les variances\n",
    "# Features: Perform aggregations\n",
    "aggregations = {\n",
    "    'NUM_INSTALMENT_VERSION': ['nunique'],\n",
    "    'DPD': ['max', 'mean', 'sum'],\n",
    "    'DBD': ['max', 'mean', 'sum'],\n",
    "    'PAYMENT_PERC': ['max', 'mean', 'sum', 'var'],\n",
    "    'PAYMENT_DIFF': ['max', 'mean', 'sum', 'var'],\n",
    "    'AMT_INSTALMENT': ['max', 'mean', 'sum'],\n",
    "    'AMT_PAYMENT': ['min', 'max', 'mean', 'sum'],\n",
    "    'DAYS_ENTRY_PAYMENT': ['max', 'mean', 'sum']\n",
    "}\n",
    "\n",
    "for cat in cat_cols:\n",
    "    aggregations[cat] = ['mean']\n",
    "ins_agg = install_pay.groupby('SK_ID_CURR').agg(aggregations)\n",
    "ins_agg.columns = pd.Index(['INSTAL_' + e[0] + \"_\" + e[1].upper() for e in ins_agg.columns.tolist()])\n",
    "\n",
    "# Count installments accounts\n",
    "ins_agg['INSTAL_COUNT'] = install_pay.groupby('SK_ID_CURR').size()"
   ]
  },
  {
   "cell_type": "code",
   "execution_count": 50,
   "id": "058e6ac8",
   "metadata": {},
   "outputs": [
    {
     "data": {
      "text/plain": [
       "INSTAL_NUM_INSTALMENT_VERSION_NUNIQUE      0\n",
       "INSTAL_DPD_MAX                             0\n",
       "INSTAL_DPD_MEAN                            0\n",
       "INSTAL_DPD_SUM                             0\n",
       "INSTAL_DBD_MAX                             0\n",
       "INSTAL_DBD_MEAN                            0\n",
       "INSTAL_DBD_SUM                             0\n",
       "INSTAL_PAYMENT_PERC_MAX                    0\n",
       "INSTAL_PAYMENT_PERC_MEAN                   0\n",
       "INSTAL_PAYMENT_PERC_SUM                    0\n",
       "INSTAL_PAYMENT_PERC_VAR                  972\n",
       "INSTAL_PAYMENT_DIFF_MAX                    0\n",
       "INSTAL_PAYMENT_DIFF_MEAN                   0\n",
       "INSTAL_PAYMENT_DIFF_SUM                    0\n",
       "INSTAL_PAYMENT_DIFF_VAR                  972\n",
       "INSTAL_AMT_INSTALMENT_MAX                  0\n",
       "INSTAL_AMT_INSTALMENT_MEAN                 0\n",
       "INSTAL_AMT_INSTALMENT_SUM                  0\n",
       "INSTAL_AMT_PAYMENT_MIN                     0\n",
       "INSTAL_AMT_PAYMENT_MAX                     0\n",
       "INSTAL_AMT_PAYMENT_MEAN                    0\n",
       "INSTAL_AMT_PAYMENT_SUM                     0\n",
       "INSTAL_DAYS_ENTRY_PAYMENT_MAX              0\n",
       "INSTAL_DAYS_ENTRY_PAYMENT_MEAN             0\n",
       "INSTAL_DAYS_ENTRY_PAYMENT_SUM              0\n",
       "INSTAL_COUNT                               0\n",
       "dtype: int64"
      ]
     },
     "execution_count": 50,
     "metadata": {},
     "output_type": "execute_result"
    }
   ],
   "source": [
    "ins_agg.isnull().sum()"
   ]
  },
  {
   "cell_type": "code",
   "execution_count": 51,
   "id": "6bf1db74",
   "metadata": {},
   "outputs": [
    {
     "data": {
      "text/plain": [
       "(339587, 26)"
      ]
     },
     "execution_count": 51,
     "metadata": {},
     "output_type": "execute_result"
    }
   ],
   "source": [
    "ins_agg.shape"
   ]
  },
  {
   "cell_type": "code",
   "execution_count": 52,
   "id": "fe1f88e6",
   "metadata": {},
   "outputs": [
    {
     "data": {
      "text/plain": [
       "(338615, 26)"
      ]
     },
     "execution_count": 52,
     "metadata": {},
     "output_type": "execute_result"
    }
   ],
   "source": [
    "ins_agg.replace([np.inf, -np.inf], np.nan, inplace=True)\n",
    "ins_agg.dropna(inplace=True)\n",
    "\n",
    "ins_agg.shape"
   ]
  },
  {
   "cell_type": "markdown",
   "id": "0d2201a6",
   "metadata": {},
   "source": [
    "## Credit card balance (6/6)"
   ]
  },
  {
   "cell_type": "code",
   "execution_count": 53,
   "id": "6b912f80",
   "metadata": {},
   "outputs": [],
   "source": [
    "# ccb_cols_drop = []\n",
    "\n",
    "# ccb_cols_voir = []\n",
    "\n",
    "# Pour l'instant on supprime les colonnes où on ne sait pas trop\n",
    "# ccb = ccb.drop(columns = ins_cols_drop)\n",
    "# ccb = ccb.drop(columns = ins_cols_voir)"
   ]
  },
  {
   "cell_type": "code",
   "execution_count": 54,
   "id": "1af86c18",
   "metadata": {},
   "outputs": [
    {
     "data": {
      "text/plain": [
       "SK_ID_PREV                         0\n",
       "SK_ID_CURR                         0\n",
       "MONTHS_BALANCE                     0\n",
       "AMT_BALANCE                        0\n",
       "AMT_CREDIT_LIMIT_ACTUAL            0\n",
       "AMT_DRAWINGS_ATM_CURRENT      749816\n",
       "AMT_DRAWINGS_CURRENT               0\n",
       "AMT_DRAWINGS_OTHER_CURRENT    749816\n",
       "AMT_DRAWINGS_POS_CURRENT      749816\n",
       "AMT_INST_MIN_REGULARITY       305236\n",
       "AMT_PAYMENT_CURRENT           767988\n",
       "AMT_PAYMENT_TOTAL_CURRENT          0\n",
       "AMT_RECEIVABLE_PRINCIPAL           0\n",
       "AMT_RECIVABLE                      0\n",
       "AMT_TOTAL_RECEIVABLE               0\n",
       "CNT_DRAWINGS_ATM_CURRENT      749816\n",
       "CNT_DRAWINGS_CURRENT               0\n",
       "CNT_DRAWINGS_OTHER_CURRENT    749816\n",
       "CNT_DRAWINGS_POS_CURRENT      749816\n",
       "CNT_INSTALMENT_MATURE_CUM     305236\n",
       "NAME_CONTRACT_STATUS               0\n",
       "SK_DPD                             0\n",
       "SK_DPD_DEF                         0\n",
       "dtype: int64"
      ]
     },
     "execution_count": 54,
     "metadata": {},
     "output_type": "execute_result"
    }
   ],
   "source": [
    "ccb.isnull().sum()"
   ]
  },
  {
   "cell_type": "code",
   "execution_count": 55,
   "id": "16201839",
   "metadata": {},
   "outputs": [],
   "source": [
    "for col in ccb.columns:\n",
    "    ccb[col] = ccb[col].fillna(0)"
   ]
  },
  {
   "cell_type": "code",
   "execution_count": 56,
   "id": "195e9dda",
   "metadata": {},
   "outputs": [],
   "source": [
    "# Les 749816, on peut remplacer par 0, ce sont les individus qui n'ont pas utilisé leur crédit."
   ]
  },
  {
   "cell_type": "code",
   "execution_count": 57,
   "id": "c7e43ff2",
   "metadata": {},
   "outputs": [],
   "source": [
    "# Pour 262650 lignes, il s'agit des individus qui n'ont pas utilisé leur crédit\n",
    "# On s'intéresse au reste."
   ]
  },
  {
   "cell_type": "code",
   "execution_count": 58,
   "id": "c68aa316",
   "metadata": {},
   "outputs": [
    {
     "data": {
      "text/plain": [
       "SK_ID_PREV                      int64\n",
       "SK_ID_CURR                      int64\n",
       "MONTHS_BALANCE                  int64\n",
       "AMT_BALANCE                   float64\n",
       "AMT_CREDIT_LIMIT_ACTUAL         int64\n",
       "AMT_DRAWINGS_ATM_CURRENT      float64\n",
       "AMT_DRAWINGS_CURRENT          float64\n",
       "AMT_DRAWINGS_OTHER_CURRENT    float64\n",
       "AMT_DRAWINGS_POS_CURRENT      float64\n",
       "AMT_INST_MIN_REGULARITY       float64\n",
       "AMT_PAYMENT_CURRENT           float64\n",
       "AMT_PAYMENT_TOTAL_CURRENT     float64\n",
       "AMT_RECEIVABLE_PRINCIPAL      float64\n",
       "AMT_RECIVABLE                 float64\n",
       "AMT_TOTAL_RECEIVABLE          float64\n",
       "CNT_DRAWINGS_ATM_CURRENT      float64\n",
       "CNT_DRAWINGS_CURRENT            int64\n",
       "CNT_DRAWINGS_OTHER_CURRENT    float64\n",
       "CNT_DRAWINGS_POS_CURRENT      float64\n",
       "CNT_INSTALMENT_MATURE_CUM     float64\n",
       "NAME_CONTRACT_STATUS           object\n",
       "SK_DPD                          int64\n",
       "SK_DPD_DEF                      int64\n",
       "dtype: object"
      ]
     },
     "execution_count": 58,
     "metadata": {},
     "output_type": "execute_result"
    }
   ],
   "source": [
    "ccb.dtypes"
   ]
  },
  {
   "cell_type": "code",
   "execution_count": 59,
   "id": "f95bf2b3",
   "metadata": {},
   "outputs": [],
   "source": [
    "# Preprocess credit_card_balance.csv\n",
    "cols_ccb_change = ['SK_ID_PREV', 'SK_ID_CURR']\n",
    "ccb, cat_cols, not_categorical_columns_ccb = preprocessing(ccb, cols_to_change=cols_ccb_change)\n",
    "\n",
    "# General aggregations\n",
    "ccb.drop(['SK_ID_PREV'], axis= 1, inplace = True)\n",
    "# cc_agg = ccb.groupby('SK_ID_CURR').agg(['min', 'max', 'mean', 'sum', 'var'])\n",
    "cc_agg = ccb.groupby('SK_ID_CURR').agg(['min', 'max', 'mean', 'sum'])\n",
    "cc_agg.columns = pd.Index(['CC_' + e[0] + \"_\" + e[1].upper() for e in cc_agg.columns.tolist()])\n",
    "\n",
    "# Count credit card lines\n",
    "cc_agg['CC_COUNT'] = ccb.groupby('SK_ID_CURR').size()"
   ]
  },
  {
   "cell_type": "code",
   "execution_count": 47,
   "id": "0ff83a37",
   "metadata": {},
   "outputs": [
    {
     "data": {
      "text/plain": [
       "0"
      ]
     },
     "execution_count": 47,
     "metadata": {},
     "output_type": "execute_result"
    }
   ],
   "source": [
    "cc_agg.isnull().sum().max()"
   ]
  },
  {
   "cell_type": "code",
   "execution_count": 48,
   "id": "84efc782",
   "metadata": {},
   "outputs": [
    {
     "data": {
      "text/plain": [
       "(103558, 109)"
      ]
     },
     "execution_count": 48,
     "metadata": {},
     "output_type": "execute_result"
    }
   ],
   "source": [
    "cc_agg.shape"
   ]
  },
  {
   "cell_type": "code",
   "execution_count": 49,
   "id": "65e28aae",
   "metadata": {},
   "outputs": [
    {
     "data": {
      "text/plain": [
       "(103558, 109)"
      ]
     },
     "execution_count": 49,
     "metadata": {},
     "output_type": "execute_result"
    }
   ],
   "source": [
    "cc_agg.replace([np.inf, -np.inf], np.nan, inplace=True)\n",
    "cc_agg.dropna(inplace=True)\n",
    "\n",
    "cc_agg.shape"
   ]
  },
  {
   "cell_type": "code",
   "execution_count": 50,
   "id": "e0abbb3a",
   "metadata": {},
   "outputs": [],
   "source": [
    "# df_nan = cc_agg.isnull().sum()\n",
    "# df_nan = df_nan.sort_values(ascending=False)\n",
    "# liste_nan = []\n",
    "\n",
    "# for x, y in zip(df_nan.index, df_nan):\n",
    "#     liste_nan.append((x, y))\n",
    "\n",
    "# liste_nan[:30]"
   ]
  },
  {
   "cell_type": "markdown",
   "id": "5c590707",
   "metadata": {},
   "source": [
    "## Join"
   ]
  },
  {
   "cell_type": "code",
   "execution_count": 61,
   "id": "fac4eb75",
   "metadata": {},
   "outputs": [],
   "source": [
    "df = df.join(bureau_agg, how='left', on='SK_ID_CURR')\n",
    "df = df.join(prev_agg, how='left', on='SK_ID_CURR')\n",
    "df = df.join(pos_agg, how='left', on='SK_ID_CURR')\n",
    "df = df.join(ins_agg, how='left', on='SK_ID_CURR')\n",
    "df = df.join(cc_agg, how='left', on='SK_ID_CURR')"
   ]
  },
  {
   "cell_type": "code",
   "execution_count": 62,
   "id": "0a723c4a",
   "metadata": {},
   "outputs": [],
   "source": [
    "for col in df.columns:\n",
    "    if 'BURO' in col:\n",
    "        df[col].fillna(0, inplace=True)\n",
    "\n",
    "    elif 'ACTIVE' in col:\n",
    "        df[col].fillna(0, inplace=True)\n",
    "\n",
    "    elif 'CLOSED' in col:\n",
    "        df[col].fillna(0, inplace=True)\n",
    "\n",
    "    elif 'EXT_SOURCE' in col:\n",
    "        df[col].fillna(df[col].median(), inplace=True)\n",
    "\n",
    "    elif 'PREV' in col:\n",
    "        df[col].fillna(df[col].median(), inplace=True)\n",
    "\n",
    "    elif 'REFUSED' in col:\n",
    "        df[col].fillna(df[col].median(), inplace=True)\n",
    "\n",
    "    elif 'APPROVED' in col:\n",
    "        df[col].fillna(df[col].median(), inplace=True)\n",
    "        \n",
    "    elif 'POS' in col:\n",
    "        df[col].fillna(df[col].median(), inplace=True)\n",
    "        \n",
    "    elif 'CC' in col:\n",
    "        df[col].fillna(0, inplace=True)\n",
    "\n",
    "    elif 'INSTAL' in col:\n",
    "        df[col].fillna(df[col].median(), inplace=True)"
   ]
  },
  {
   "cell_type": "code",
   "execution_count": 63,
   "id": "cf2c88cc",
   "metadata": {},
   "outputs": [
    {
     "data": {
      "text/plain": [
       "(356251, 558)"
      ]
     },
     "execution_count": 63,
     "metadata": {},
     "output_type": "execute_result"
    }
   ],
   "source": [
    "df.shape"
   ]
  },
  {
   "cell_type": "markdown",
   "id": "7466bd07",
   "metadata": {},
   "source": [
    "## Classification"
   ]
  },
  {
   "cell_type": "code",
   "execution_count": 66,
   "id": "bc34459e",
   "metadata": {},
   "outputs": [
    {
     "data": {
      "text/plain": [
       "0"
      ]
     },
     "execution_count": 66,
     "metadata": {},
     "output_type": "execute_result"
    }
   ],
   "source": [
    "df.duplicated().sum()"
   ]
  },
  {
   "cell_type": "code",
   "execution_count": 67,
   "id": "d93888ed",
   "metadata": {},
   "outputs": [
    {
     "data": {
      "text/plain": [
       "(356251, 558)"
      ]
     },
     "execution_count": 67,
     "metadata": {},
     "output_type": "execute_result"
    }
   ],
   "source": [
    "# Normalement on est bon sur les inf !\n",
    "for col in df.columns.drop('TARGET'):\n",
    "    df[col].replace([np.inf, -np.inf], np.nan, inplace=True)\n",
    "    df[col].dropna(inplace=True)\n",
    "\n",
    "df.shape"
   ]
  },
  {
   "cell_type": "code",
   "execution_count": null,
   "id": "b1d02952",
   "metadata": {},
   "outputs": [],
   "source": []
  },
  {
   "cell_type": "code",
   "execution_count": null,
   "id": "659da427",
   "metadata": {},
   "outputs": [],
   "source": []
  },
  {
   "cell_type": "code",
   "execution_count": null,
   "id": "cfd8dd1a",
   "metadata": {},
   "outputs": [],
   "source": []
  },
  {
   "cell_type": "code",
   "execution_count": null,
   "id": "d42bca77",
   "metadata": {},
   "outputs": [],
   "source": []
  },
  {
   "cell_type": "code",
   "execution_count": null,
   "id": "e2ce5e77",
   "metadata": {},
   "outputs": [],
   "source": []
  },
  {
   "cell_type": "code",
   "execution_count": null,
   "id": "15cfd120",
   "metadata": {},
   "outputs": [],
   "source": []
  },
  {
   "cell_type": "code",
   "execution_count": null,
   "id": "c76b817a",
   "metadata": {},
   "outputs": [],
   "source": []
  },
  {
   "cell_type": "code",
   "execution_count": null,
   "id": "b4ee2a7b",
   "metadata": {},
   "outputs": [],
   "source": []
  },
  {
   "cell_type": "code",
   "execution_count": null,
   "id": "d61ec552",
   "metadata": {},
   "outputs": [],
   "source": []
  },
  {
   "cell_type": "code",
   "execution_count": null,
   "id": "ff642e3c",
   "metadata": {},
   "outputs": [],
   "source": []
  },
  {
   "cell_type": "code",
   "execution_count": 29,
   "id": "56fa230d",
   "metadata": {},
   "outputs": [],
   "source": [
    "# Globalement les mêmes variables ont des valeurs manquantes\n",
    "# Un peu plus côté train"
   ]
  },
  {
   "cell_type": "code",
   "execution_count": 31,
   "id": "a96696fd",
   "metadata": {},
   "outputs": [],
   "source": [
    "# # On remplace nos dernières valeurs manquantes par la médiane\n",
    "# cols_to_fill = ['PAYMENT_RATE', 'ANNUITY_INCOME_PERC', 'AMT_ANNUITY', 'CNT_FAM_MEMBERS', 'INCOME_PER_PERSON']\n",
    "\n",
    "# for col in cols_to_fill:\n",
    "#     train_df[col].fillna(train_df[col].median(), inplace = True)\n",
    "#     test_df[col].fillna(test_df[col].median(), inplace = True)"
   ]
  },
  {
   "cell_type": "code",
   "execution_count": 94,
   "id": "962f57b8",
   "metadata": {},
   "outputs": [],
   "source": [
    "# print('moyenne :', round(train_df['DAYS_EMPLOYED_PERC'].mean(), 2))\n",
    "# print('médiane :', round(train_df['DAYS_EMPLOYED_PERC'].median(), 2))\n",
    "# print('mode :', train_df['DAYS_EMPLOYED_PERC'].mode())\n",
    "\n",
    "# # Histrogramme de la distribution de la variable\n",
    "# plt.figure(figsize = (6, 6))\n",
    "# plt.hist(x = train_df['DAYS_EMPLOYED_PERC'].values, bins = 50, align = 'left', color = '#4d7cab',\n",
    "#          edgecolor = 'black', linewidth = 1.1)\n",
    "# plt.title('Distribution de notre colonne \"DAYS_EMPLOYED_PERC\"')\n",
    "# plt.xlabel('DAYS_EMPLOYED_PERC')\n",
    "# plt.ylabel('Count')\n",
    "# plt.show()"
   ]
  },
  {
   "cell_type": "code",
   "execution_count": 33,
   "id": "189b3207",
   "metadata": {},
   "outputs": [],
   "source": [
    "# cols_to_fill_bis = ['DAYS_EMPLOYED_PERC', 'DAYS_EMPLOYED']\n",
    "\n",
    "# for col in cols_to_fill_bis:\n",
    "#     train_df[col].fillna(train_df[col].median(), inplace = True)\n",
    "#     test_df[col].fillna(test_df[col].median(), inplace = True)"
   ]
  },
  {
   "cell_type": "code",
   "execution_count": null,
   "id": "692b89d1",
   "metadata": {},
   "outputs": [],
   "source": [
    "# df.isnull().sum"
   ]
  },
  {
   "cell_type": "code",
   "execution_count": null,
   "id": "96b23392",
   "metadata": {},
   "outputs": [],
   "source": [
    "# for col in df.columns.drop('TARGET'):\n",
    "#     df[col].replace([np.inf, -np.inf], np.nan, inplace=True)\n",
    "#     df[col].dropna(inplace=True)\n",
    "\n",
    "# df.shape"
   ]
  },
  {
   "cell_type": "code",
   "execution_count": null,
   "id": "42717754",
   "metadata": {},
   "outputs": [],
   "source": []
  },
  {
   "cell_type": "code",
   "execution_count": 52,
   "id": "45193468",
   "metadata": {},
   "outputs": [],
   "source": [
    "# Class imbalance (class weight ou SMOTE)"
   ]
  },
  {
   "cell_type": "code",
   "execution_count": 53,
   "id": "1479333e",
   "metadata": {},
   "outputs": [],
   "source": [
    "# t0 = time.time()\n",
    "# # Divide in training/validation and test data\n",
    "# print(\"Starting LogicticRegression. Train shape: {}, test shape: {}\".format(train_df.shape, test_df.shape))\n",
    "\n",
    "# # Cross validation model\n",
    "# # if stratified:\n",
    "# #     folds = StratifiedKFold(n_splits= num_folds, shuffle=True, random_state=24)\n",
    "# # else:\n",
    "# folds = KFold(n_splits= 10, shuffle=True, random_state=24)\n",
    "    \n",
    "# # Create arrays and dataframes to store results\n",
    "# oof_preds = np.zeros(train_df.shape[0])\n",
    "# sub_preds = np.zeros(test_df.shape[0])\n",
    "# feature_importance_df = pd.DataFrame()\n",
    "# feats = [f for f in train_df.columns if f not in ['TARGET','SK_ID_CURR','SK_ID_BUREAU','SK_ID_PREV','index']]\n",
    "\n",
    "# X = train_df.drop('TARGET', axis = 1)\n",
    "# y = train_df['TARGET']\n",
    "\n",
    "# clf = LogisticRegression(class_weight={0:1, 1:5}, random_state=24)\n",
    "\n",
    "# clf.fit(X, y)\n",
    "\n",
    "# y_proba_pred = clf.predict_proba(test_df.drop('TARGET', axis = 1))\n",
    "# y_pred = clf.predict(test_df.drop('TARGET', axis = 1))\n",
    "# t1 = time.time()\n",
    "# time_round = np.round(t1 - t0, 2)\n",
    "# print(f'Time : {time_round} secondes')"
   ]
  },
  {
   "cell_type": "markdown",
   "id": "c679f717",
   "metadata": {},
   "source": [
    "## Corrélations"
   ]
  },
  {
   "cell_type": "code",
   "execution_count": 69,
   "id": "11d436bb",
   "metadata": {},
   "outputs": [
    {
     "data": {
      "text/plain": [
       "(356251, 558)"
      ]
     },
     "execution_count": 69,
     "metadata": {},
     "output_type": "execute_result"
    }
   ],
   "source": [
    "df.shape"
   ]
  },
  {
   "cell_type": "code",
   "execution_count": 73,
   "id": "4f428c8a",
   "metadata": {},
   "outputs": [],
   "source": [
    "train_df = df[df['TARGET'].notnull()]\n",
    "test_df = df[df['TARGET'].isnull()]"
   ]
  },
  {
   "cell_type": "code",
   "execution_count": 85,
   "id": "e0635e20",
   "metadata": {},
   "outputs": [],
   "source": [
    "train_df['TARGET'] = train_df['TARGET'].astype('int64')"
   ]
  },
  {
   "cell_type": "code",
   "execution_count": 86,
   "id": "97989e65",
   "metadata": {},
   "outputs": [],
   "source": [
    "# Find correlations with the target and sort\n",
    "correlations = train_df.corr()['TARGET'].sort_values()"
   ]
  },
  {
   "cell_type": "code",
   "execution_count": 87,
   "id": "c13970e6",
   "metadata": {},
   "outputs": [
    {
     "name": "stdout",
     "output_type": "stream",
     "text": [
      "Most Positive Correlations:\n",
      " BURO_DAYS_CREDIT_MIN                                0.073969\n",
      "PREV_NAME_CONTRACT_STATUS_Refused_MEAN              0.077903\n",
      "DAYS_BIRTH                                          0.078242\n",
      "BURO_DAYS_CREDIT_MEAN                               0.080145\n",
      "TARGET                                              1.000000\n",
      "PREV_NAME_GOODS_CATEGORY_House Construction_MEAN         NaN\n",
      "CC_NAME_CONTRACT_STATUS_Approved_MIN                     NaN\n",
      "CC_NAME_CONTRACT_STATUS_Demand_MIN                       NaN\n",
      "CC_NAME_CONTRACT_STATUS_Refused_MIN                      NaN\n",
      "CC_NAME_CONTRACT_STATUS_Sent proposal_MIN                NaN\n",
      "Name: TARGET, dtype: float64\n",
      "\n",
      "Most Negative Correlations:\n",
      " EXT_SOURCE_2                              -0.160295\n",
      "EXT_SOURCE_3                              -0.156026\n",
      "EXT_SOURCE_1                              -0.098875\n",
      "BURO_CREDIT_ACTIVE_Closed_MEAN            -0.076500\n",
      "PREV_CODE_REJECT_REASON_XAP_MEAN          -0.074356\n",
      "PREV_NAME_CONTRACT_STATUS_Approved_MEAN   -0.062669\n",
      "NAME_EDUCATION_TYPE_Higher education      -0.056593\n",
      "CODE_GENDER                               -0.054710\n",
      "BURO_MONTHS_BALANCE_SIZE_MEAN             -0.052834\n",
      "NAME_INCOME_TYPE_Pensioner                -0.046211\n",
      "Name: TARGET, dtype: float64\n"
     ]
    }
   ],
   "source": [
    "# Display correlations\n",
    "print('Most Positive Correlations:\\n', correlations.tail(10))\n",
    "print('\\nMost Negative Correlations:\\n', correlations.head(10))"
   ]
  },
  {
   "cell_type": "markdown",
   "id": "ba0a001d",
   "metadata": {},
   "source": [
    "Normal d'avoir des NaNs, on a quasi pas de variation dans certaines colonnes.\n",
    "\n",
    "cf. : https://stackoverflow.com/questions/22655667/dataframe-correlation-produces-nan-although-its-values-are-all-integers"
   ]
  },
  {
   "cell_type": "markdown",
   "id": "8d388556",
   "metadata": {},
   "source": [
    "Réduction de dimension ?"
   ]
  },
  {
   "cell_type": "code",
   "execution_count": null,
   "id": "59104d8e",
   "metadata": {},
   "outputs": [],
   "source": []
  },
  {
   "cell_type": "code",
   "execution_count": 117,
   "id": "88c33809",
   "metadata": {},
   "outputs": [
    {
     "name": "stdout",
     "output_type": "stream",
     "text": [
      "Dimensions dataset avant réduction PCA :  (307507, 571)\n",
      "Dimensions dataset après réduction PCA :  (307507, 1)\n"
     ]
    }
   ],
   "source": [
    "# from sklearn.decomposition import PCA\n",
    "\n",
    "# print(\"Dimensions dataset avant réduction PCA : \", train_df.shape)\n",
    "# pca = PCA(n_components=0.99)\n",
    "# feat_pca= pca.fit_transform(train_df)\n",
    "# print(\"Dimensions dataset après réduction PCA : \", feat_pca.shape)"
   ]
  },
  {
   "cell_type": "code",
   "execution_count": 86,
   "id": "50c7b044",
   "metadata": {},
   "outputs": [],
   "source": [
    "# for col in df.columns.drop([list_categorical_columns, 'SK_ID_CURR', 'TARGET', 'CODE_GENDER', 'FLAG_OWN_CAR'\n",
    "#                            'FLAG_OWN_REALTY']):\n",
    "#     scaler = StandardScaler()\n",
    "#     df[col] = scaler.fit_transform(df[col])"
   ]
  },
  {
   "cell_type": "code",
   "execution_count": null,
   "id": "9fe96f62",
   "metadata": {},
   "outputs": [],
   "source": []
  },
  {
   "cell_type": "code",
   "execution_count": null,
   "id": "c37423ab",
   "metadata": {},
   "outputs": [],
   "source": [
    "# train_df = df[df['TARGET'].notnull()]\n",
    "# test_df = df[df['TARGET'].isnull()]"
   ]
  },
  {
   "cell_type": "code",
   "execution_count": 88,
   "id": "df11e6a2",
   "metadata": {},
   "outputs": [
    {
     "data": {
      "text/plain": [
       "0    282682\n",
       "1     24825\n",
       "Name: TARGET, dtype: int64"
      ]
     },
     "execution_count": 88,
     "metadata": {},
     "output_type": "execute_result"
    }
   ],
   "source": [
    "# On regarde l'équilibre de nos classes\n",
    "train_df['TARGET'].value_counts()"
   ]
  },
  {
   "cell_type": "code",
   "execution_count": 89,
   "id": "0adaf387",
   "metadata": {},
   "outputs": [],
   "source": [
    "X = train_df.drop('TARGET', axis = 1)\n",
    "y = train_df['TARGET']\n",
    "folds = StratifiedKFold(n_splits=5, shuffle=True, random_state=24)\n",
    "cv = folds.split(X, y)\n",
    "cv = list(cv)"
   ]
  },
  {
   "cell_type": "code",
   "execution_count": 92,
   "id": "b2d60770",
   "metadata": {},
   "outputs": [
    {
     "name": "stdout",
     "output_type": "stream",
     "text": [
      "Fold  1 AUC : 0.602041\n"
     ]
    },
    {
     "name": "stderr",
     "output_type": "stream",
     "text": [
      "C:\\Users\\victo\\AppData\\Roaming\\Python\\Python38\\site-packages\\sklearn\\linear_model\\_logistic.py:814: ConvergenceWarning: lbfgs failed to converge (status=1):\n",
      "STOP: TOTAL NO. of ITERATIONS REACHED LIMIT.\n",
      "\n",
      "Increase the number of iterations (max_iter) or scale the data as shown in:\n",
      "    https://scikit-learn.org/stable/modules/preprocessing.html\n",
      "Please also refer to the documentation for alternative solver options:\n",
      "    https://scikit-learn.org/stable/modules/linear_model.html#logistic-regression\n",
      "  n_iter_i = _check_optimize_result(\n"
     ]
    },
    {
     "name": "stdout",
     "output_type": "stream",
     "text": [
      "Fold  2 AUC : 0.602395\n"
     ]
    },
    {
     "name": "stderr",
     "output_type": "stream",
     "text": [
      "C:\\Users\\victo\\AppData\\Roaming\\Python\\Python38\\site-packages\\sklearn\\linear_model\\_logistic.py:814: ConvergenceWarning: lbfgs failed to converge (status=2):\n",
      "ABNORMAL_TERMINATION_IN_LNSRCH.\n",
      "\n",
      "Increase the number of iterations (max_iter) or scale the data as shown in:\n",
      "    https://scikit-learn.org/stable/modules/preprocessing.html\n",
      "Please also refer to the documentation for alternative solver options:\n",
      "    https://scikit-learn.org/stable/modules/linear_model.html#logistic-regression\n",
      "  n_iter_i = _check_optimize_result(\n"
     ]
    },
    {
     "name": "stdout",
     "output_type": "stream",
     "text": [
      "Fold  3 AUC : 0.602213\n"
     ]
    },
    {
     "name": "stderr",
     "output_type": "stream",
     "text": [
      "C:\\Users\\victo\\AppData\\Roaming\\Python\\Python38\\site-packages\\sklearn\\linear_model\\_logistic.py:814: ConvergenceWarning: lbfgs failed to converge (status=2):\n",
      "ABNORMAL_TERMINATION_IN_LNSRCH.\n",
      "\n",
      "Increase the number of iterations (max_iter) or scale the data as shown in:\n",
      "    https://scikit-learn.org/stable/modules/preprocessing.html\n",
      "Please also refer to the documentation for alternative solver options:\n",
      "    https://scikit-learn.org/stable/modules/linear_model.html#logistic-regression\n",
      "  n_iter_i = _check_optimize_result(\n"
     ]
    },
    {
     "name": "stdout",
     "output_type": "stream",
     "text": [
      "Fold  4 AUC : 0.554487\n"
     ]
    },
    {
     "name": "stderr",
     "output_type": "stream",
     "text": [
      "C:\\Users\\victo\\AppData\\Roaming\\Python\\Python38\\site-packages\\sklearn\\linear_model\\_logistic.py:814: ConvergenceWarning: lbfgs failed to converge (status=1):\n",
      "STOP: TOTAL NO. of ITERATIONS REACHED LIMIT.\n",
      "\n",
      "Increase the number of iterations (max_iter) or scale the data as shown in:\n",
      "    https://scikit-learn.org/stable/modules/preprocessing.html\n",
      "Please also refer to the documentation for alternative solver options:\n",
      "    https://scikit-learn.org/stable/modules/linear_model.html#logistic-regression\n",
      "  n_iter_i = _check_optimize_result(\n"
     ]
    },
    {
     "name": "stdout",
     "output_type": "stream",
     "text": [
      "Fold  5 AUC : 0.669810\n",
      "Time : -365.62 secondes\n"
     ]
    }
   ],
   "source": [
    "t0 = time.time()\n",
    "\n",
    "oof_preds = np.zeros(train_df.shape[0])\n",
    "sub_preds = np.zeros(test_df.shape[0])\n",
    "feature_importance_df = pd.DataFrame()\n",
    "feats = [f for f in train_df.columns if f not in ['TARGET','SK_ID_CURR','SK_ID_BUREAU','SK_ID_PREV','index']]\n",
    "\n",
    "# On sépare notre train en train et validation\n",
    "for n_fold, (train_idx, valid_idx) in enumerate(cv):\n",
    "    train_x, train_y = train_df[feats].iloc[train_idx], train_df['TARGET'].iloc[train_idx]\n",
    "    valid_x, valid_y = train_df[feats].iloc[valid_idx], train_df['TARGET'].iloc[valid_idx]\n",
    "    \n",
    "    clf = LogisticRegression(class_weight={0:1, 1:10}, max_iter=500, random_state=24)\n",
    "    clf.fit(train_x, train_y)\n",
    "    \n",
    "    oof_preds[valid_idx] = clf.predict_proba(valid_x)[:, 1]\n",
    "    sub_preds += clf.predict_proba(test_df[feats])[:, 1] / folds.n_splits\n",
    "    \n",
    "    \n",
    "    fold_importance_df = pd.DataFrame()\n",
    "    fold_importance_df[\"feature\"] = feats\n",
    "    \n",
    "    feature_importances = []\n",
    "    for _, v in enumerate(clf.coef_[0]):\n",
    "        feature_importances.append(v)\n",
    "    \n",
    "    fold_importance_df[\"importance\"] = feature_importances\n",
    "    fold_importance_df[\"fold\"] = n_fold + 1\n",
    "    feature_importance_df = pd.concat([feature_importance_df, fold_importance_df], axis=0)\n",
    "    print('Fold %2d AUC : %.6f' % (n_fold + 1, roc_auc_score(valid_y, oof_preds[valid_idx])))\n",
    "\n",
    "t1 = time.time()\n",
    "time_round = np.round(t0 - t1, 2)\n",
    "print(f'Time : {time_round} secondes')"
   ]
  },
  {
   "cell_type": "code",
   "execution_count": 44,
   "id": "2a756b75",
   "metadata": {},
   "outputs": [],
   "source": [
    "# On met nos scores dans le bon DF et on calcule accuracy pour voir ce que ça donne\n",
    "# Voir la confusion matrix"
   ]
  },
  {
   "cell_type": "code",
   "execution_count": null,
   "id": "669f0fc1",
   "metadata": {},
   "outputs": [],
   "source": [
    "# Mettre d'autres metrics"
   ]
  },
  {
   "cell_type": "code",
   "execution_count": 60,
   "id": "c3a4fca9",
   "metadata": {},
   "outputs": [],
   "source": [
    "y_pred_train = clf.predict(train_df.drop('TARGET', axis = 1))"
   ]
  },
  {
   "cell_type": "code",
   "execution_count": 61,
   "id": "8acadc45",
   "metadata": {},
   "outputs": [
    {
     "data": {
      "text/plain": [
       "0.9192701304360551"
      ]
     },
     "execution_count": 61,
     "metadata": {},
     "output_type": "execute_result"
    }
   ],
   "source": [
    "accuracy_score(y, y_pred_train)"
   ]
  },
  {
   "cell_type": "code",
   "execution_count": null,
   "id": "668e6403",
   "metadata": {},
   "outputs": [],
   "source": [
    "df_try = train_df"
   ]
  },
  {
   "cell_type": "code",
   "execution_count": null,
   "id": "ce54f36c",
   "metadata": {},
   "outputs": [],
   "source": []
  },
  {
   "cell_type": "code",
   "execution_count": null,
   "id": "c00ff6f7",
   "metadata": {},
   "outputs": [],
   "source": []
  },
  {
   "cell_type": "code",
   "execution_count": null,
   "id": "f286797a",
   "metadata": {},
   "outputs": [],
   "source": []
  },
  {
   "cell_type": "code",
   "execution_count": null,
   "id": "395a3bad",
   "metadata": {},
   "outputs": [],
   "source": []
  }
 ],
 "metadata": {
  "kernelspec": {
   "display_name": "Python 3",
   "language": "python",
   "name": "python3"
  },
  "language_info": {
   "codemirror_mode": {
    "name": "ipython",
    "version": 3
   },
   "file_extension": ".py",
   "mimetype": "text/x-python",
   "name": "python",
   "nbconvert_exporter": "python",
   "pygments_lexer": "ipython3",
   "version": "3.8.8"
  }
 },
 "nbformat": 4,
 "nbformat_minor": 5
}
