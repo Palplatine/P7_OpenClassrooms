{
 "cells": [
  {
   "cell_type": "code",
   "execution_count": 1,
   "id": "d8b2885e",
   "metadata": {},
   "outputs": [],
   "source": [
    "import pandas as pd\n",
    "import numpy as np"
   ]
  },
  {
   "cell_type": "code",
   "execution_count": 2,
   "id": "d40395c5",
   "metadata": {},
   "outputs": [],
   "source": [
    "# On charge nos jeux de données\n",
    "df_appli_test = pd.read_csv('application_test.csv')\n",
    "df = pd.read_csv('application_train.csv')\n",
    "bureau = pd.read_csv('bureau.csv')\n",
    "bureau_balance = pd.read_csv('bureau_balance.csv')\n",
    "prev_app = pd.read_csv('previous_application.csv')"
   ]
  },
  {
   "cell_type": "code",
   "execution_count": 3,
   "id": "0ca2b4ed",
   "metadata": {},
   "outputs": [],
   "source": [
    "# On veut tous nos clients\n",
    "df = df.append(df_appli_test).reset_index()"
   ]
  },
  {
   "cell_type": "markdown",
   "id": "75eb9d8c",
   "metadata": {},
   "source": [
    "## Informations sur les clients"
   ]
  },
  {
   "cell_type": "code",
   "execution_count": 4,
   "id": "83713790",
   "metadata": {},
   "outputs": [],
   "source": [
    "# On crée des copies pour ne pas changer nos dataframes initiaux\n",
    "df_bis = df.copy()\n",
    "bureau_bis = bureau.copy()"
   ]
  },
  {
   "cell_type": "code",
   "execution_count": 5,
   "id": "5e9a6b2e",
   "metadata": {},
   "outputs": [],
   "source": [
    "# On ne garde que quelques colonnes\n",
    "df_bis = df_bis[['SK_ID_CURR', 'CODE_GENDER', 'DAYS_BIRTH', 'OCCUPATION_TYPE',\n",
    "                 'NAME_INCOME_TYPE', 'AMT_INCOME_TOTAL', 'FLAG_OWN_CAR', 'FLAG_OWN_REALTY']]\n",
    "\n",
    "bureau_bis = bureau_bis[['SK_ID_CURR', 'AMT_CREDIT_SUM_DEBT']]"
   ]
  },
  {
   "cell_type": "code",
   "execution_count": 6,
   "id": "5d80f6ff",
   "metadata": {},
   "outputs": [],
   "source": [
    "# On joint les dataframes\n",
    "infos_clients = df_bis.join(bureau_bis.set_index('SK_ID_CURR'), how='left', on='SK_ID_CURR')"
   ]
  },
  {
   "cell_type": "code",
   "execution_count": 7,
   "id": "c4b01963",
   "metadata": {},
   "outputs": [
    {
     "data": {
      "text/plain": [
       "SK_ID_CURR                  0\n",
       "CODE_GENDER                 0\n",
       "DAYS_BIRTH                  0\n",
       "OCCUPATION_TYPE        552858\n",
       "NAME_INCOME_TYPE            0\n",
       "AMT_INCOME_TOTAL            0\n",
       "FLAG_OWN_CAR                0\n",
       "FLAG_OWN_REALTY             0\n",
       "AMT_CREDIT_SUM_DEBT    308113\n",
       "dtype: int64"
      ]
     },
     "execution_count": 7,
     "metadata": {},
     "output_type": "execute_result"
    }
   ],
   "source": [
    "# On regarde nos valeurs manquantes\n",
    "infos_clients.isnull().sum()"
   ]
  },
  {
   "cell_type": "code",
   "execution_count": 8,
   "id": "9bb65f40",
   "metadata": {},
   "outputs": [],
   "source": [
    "# On les remplit\n",
    "infos_clients['OCCUPATION_TYPE'].fillna('Not applicable / Not specified', inplace=True)\n",
    "infos_clients['AMT_CREDIT_SUM_DEBT'].fillna(-1, inplace=True)"
   ]
  },
  {
   "cell_type": "code",
   "execution_count": 9,
   "id": "3d5b0d2a",
   "metadata": {},
   "outputs": [],
   "source": [
    "# On regroupe selon les numéros de prêt\n",
    "infos_clients.set_index('SK_ID_CURR', inplace=True)\n",
    "infos_clients['AMT_CREDIT_SUM_DEBT'] = infos_clients.groupby(['SK_ID_CURR'])['AMT_CREDIT_SUM_DEBT'].max()\n",
    "infos_clients = infos_clients.reset_index()"
   ]
  },
  {
   "cell_type": "code",
   "execution_count": 10,
   "id": "cd173bd4",
   "metadata": {},
   "outputs": [],
   "source": [
    "# On remplace nos -1 par un message\n",
    "infos_clients.loc[infos_clients['AMT_CREDIT_SUM_DEBT'] == -1, 'AMT_CREDIT_SUM_DEBT'] = 'Not applicable / Not specified'"
   ]
  },
  {
   "cell_type": "code",
   "execution_count": 11,
   "id": "e3eea701",
   "metadata": {},
   "outputs": [
    {
     "name": "stdout",
     "output_type": "stream",
     "text": [
      "(1766872, 9) \n",
      "\n",
      "(356255, 9)\n"
     ]
    }
   ],
   "source": [
    "# On supprime les doublons\n",
    "print(infos_clients.shape, '\\n')\n",
    "infos_clients = infos_clients.drop_duplicates()\n",
    "print(infos_clients.shape)"
   ]
  },
  {
   "cell_type": "code",
   "execution_count": 12,
   "id": "e87fd47f",
   "metadata": {},
   "outputs": [],
   "source": [
    "# On gère notre colonne date de naissance\n",
    "infos_clients['DAYS_BIRTH'] = round(infos_clients['DAYS_BIRTH'] / 365.25 * (-1)).astype(int)"
   ]
  },
  {
   "cell_type": "code",
   "execution_count": 13,
   "id": "05c78511",
   "metadata": {},
   "outputs": [
    {
     "data": {
      "text/html": [
       "<div>\n",
       "<style scoped>\n",
       "    .dataframe tbody tr th:only-of-type {\n",
       "        vertical-align: middle;\n",
       "    }\n",
       "\n",
       "    .dataframe tbody tr th {\n",
       "        vertical-align: top;\n",
       "    }\n",
       "\n",
       "    .dataframe thead th {\n",
       "        text-align: right;\n",
       "    }\n",
       "</style>\n",
       "<table border=\"1\" class=\"dataframe\">\n",
       "  <thead>\n",
       "    <tr style=\"text-align: right;\">\n",
       "      <th></th>\n",
       "      <th>SK_ID_CURR</th>\n",
       "      <th>CODE_GENDER</th>\n",
       "      <th>DAYS_BIRTH</th>\n",
       "      <th>OCCUPATION_TYPE</th>\n",
       "      <th>NAME_INCOME_TYPE</th>\n",
       "      <th>AMT_INCOME_TOTAL</th>\n",
       "      <th>FLAG_OWN_CAR</th>\n",
       "      <th>FLAG_OWN_REALTY</th>\n",
       "      <th>AMT_CREDIT_SUM_DEBT</th>\n",
       "    </tr>\n",
       "  </thead>\n",
       "  <tbody>\n",
       "    <tr>\n",
       "      <th>0</th>\n",
       "      <td>100002</td>\n",
       "      <td>M</td>\n",
       "      <td>26</td>\n",
       "      <td>Laborers</td>\n",
       "      <td>Working</td>\n",
       "      <td>202500.0</td>\n",
       "      <td>N</td>\n",
       "      <td>Y</td>\n",
       "      <td>245781.0</td>\n",
       "    </tr>\n",
       "    <tr>\n",
       "      <th>8</th>\n",
       "      <td>100003</td>\n",
       "      <td>F</td>\n",
       "      <td>46</td>\n",
       "      <td>Core staff</td>\n",
       "      <td>State servant</td>\n",
       "      <td>270000.0</td>\n",
       "      <td>N</td>\n",
       "      <td>N</td>\n",
       "      <td>0.0</td>\n",
       "    </tr>\n",
       "    <tr>\n",
       "      <th>12</th>\n",
       "      <td>100004</td>\n",
       "      <td>M</td>\n",
       "      <td>52</td>\n",
       "      <td>Laborers</td>\n",
       "      <td>Working</td>\n",
       "      <td>67500.0</td>\n",
       "      <td>Y</td>\n",
       "      <td>Y</td>\n",
       "      <td>0.0</td>\n",
       "    </tr>\n",
       "    <tr>\n",
       "      <th>14</th>\n",
       "      <td>100006</td>\n",
       "      <td>F</td>\n",
       "      <td>52</td>\n",
       "      <td>Laborers</td>\n",
       "      <td>Working</td>\n",
       "      <td>135000.0</td>\n",
       "      <td>N</td>\n",
       "      <td>Y</td>\n",
       "      <td>Not applicable / Not specified</td>\n",
       "    </tr>\n",
       "    <tr>\n",
       "      <th>15</th>\n",
       "      <td>100007</td>\n",
       "      <td>M</td>\n",
       "      <td>55</td>\n",
       "      <td>Core staff</td>\n",
       "      <td>Working</td>\n",
       "      <td>121500.0</td>\n",
       "      <td>N</td>\n",
       "      <td>Y</td>\n",
       "      <td>0.0</td>\n",
       "    </tr>\n",
       "  </tbody>\n",
       "</table>\n",
       "</div>"
      ],
      "text/plain": [
       "    SK_ID_CURR CODE_GENDER  DAYS_BIRTH OCCUPATION_TYPE NAME_INCOME_TYPE  \\\n",
       "0       100002           M          26        Laborers          Working   \n",
       "8       100003           F          46      Core staff    State servant   \n",
       "12      100004           M          52        Laborers          Working   \n",
       "14      100006           F          52        Laborers          Working   \n",
       "15      100007           M          55      Core staff          Working   \n",
       "\n",
       "    AMT_INCOME_TOTAL FLAG_OWN_CAR FLAG_OWN_REALTY  \\\n",
       "0           202500.0            N               Y   \n",
       "8           270000.0            N               N   \n",
       "12           67500.0            Y               Y   \n",
       "14          135000.0            N               Y   \n",
       "15          121500.0            N               Y   \n",
       "\n",
       "               AMT_CREDIT_SUM_DEBT  \n",
       "0                         245781.0  \n",
       "8                              0.0  \n",
       "12                             0.0  \n",
       "14  Not applicable / Not specified  \n",
       "15                             0.0  "
      ]
     },
     "execution_count": 13,
     "metadata": {},
     "output_type": "execute_result"
    }
   ],
   "source": [
    "# On vérifie\n",
    "infos_clients.head()"
   ]
  },
  {
   "cell_type": "code",
   "execution_count": 14,
   "id": "86e3b3d4",
   "metadata": {},
   "outputs": [],
   "source": [
    "# On sauvegarde\n",
    "df_csv_clients = infos_clients.to_csv('infos_clients.csv')"
   ]
  },
  {
   "cell_type": "markdown",
   "id": "89c00bb7",
   "metadata": {},
   "source": [
    "## Informations sur les prêts"
   ]
  },
  {
   "cell_type": "code",
   "execution_count": 15,
   "id": "2d73a5c4",
   "metadata": {},
   "outputs": [],
   "source": [
    "# On crée des copies pour ne pas changer nos dataframes initiaux\n",
    "df_bis = df.copy()\n",
    "prev_app_bis = prev_app.copy()\n",
    "bureau_bis = bureau.copy()\n",
    "bureau_balance_bis = bureau_balance.copy()"
   ]
  },
  {
   "cell_type": "code",
   "execution_count": 16,
   "id": "8797f822",
   "metadata": {},
   "outputs": [],
   "source": [
    "# On ne garde que quelques colonnes\n",
    "df_bis = df_bis[['SK_ID_CURR', 'NAME_CONTRACT_TYPE', 'AMT_CREDIT', 'AMT_ANNUITY',\n",
    "                 'EXT_SOURCE_1', 'EXT_SOURCE_2', 'EXT_SOURCE_3']]\n",
    "\n",
    "prev_app_bis = prev_app_bis[['SK_ID_CURR', 'CODE_REJECT_REASON', 'NAME_CASH_LOAN_PURPOSE']]\n",
    "\n",
    "bureau_bis = bureau_bis[['SK_ID_CURR', 'SK_ID_BUREAU', 'AMT_CREDIT_MAX_OVERDUE', 'AMT_CREDIT_SUM_OVERDUE']]\n",
    "\n",
    "bureau_balance_bis = bureau_balance_bis[['SK_ID_BUREAU', 'STATUS']]"
   ]
  },
  {
   "cell_type": "code",
   "execution_count": 17,
   "id": "e6d6ce25",
   "metadata": {},
   "outputs": [],
   "source": [
    "# On joint les dataframes bureau et bureau_balance\n",
    "bureau_bis = bureau_bis.join(bureau_balance_bis.set_index('SK_ID_BUREAU'), how='left', on='SK_ID_BUREAU')"
   ]
  },
  {
   "cell_type": "code",
   "execution_count": 18,
   "id": "a8689d45",
   "metadata": {},
   "outputs": [
    {
     "data": {
      "text/plain": [
       "SK_ID_CURR                       0\n",
       "SK_ID_BUREAU                     0\n",
       "AMT_CREDIT_MAX_OVERDUE    18130741\n",
       "AMT_CREDIT_SUM_OVERDUE           0\n",
       "STATUS                      942074\n",
       "dtype: int64"
      ]
     },
     "execution_count": 18,
     "metadata": {},
     "output_type": "execute_result"
    }
   ],
   "source": [
    "# On regarde les valeurs manquantes\n",
    "bureau_bis.isnull().sum()"
   ]
  },
  {
   "cell_type": "code",
   "execution_count": 19,
   "id": "9f1513ff",
   "metadata": {},
   "outputs": [],
   "source": [
    "# On remplit les valeurs manquantes\n",
    "bureau_bis['STATUS'].fillna('Not applicable / Not specified', inplace=True)\n",
    "bureau_bis['AMT_CREDIT_MAX_OVERDUE'].fillna(-1, inplace=True)"
   ]
  },
  {
   "cell_type": "code",
   "execution_count": 20,
   "id": "0759b681",
   "metadata": {},
   "outputs": [],
   "source": [
    "# On regroupe selon les numéros de prêt\n",
    "bureau_bis['AMT_CREDIT_MAX_OVERDUE'] = bureau_bis.groupby(['SK_ID_CURR'])['AMT_CREDIT_MAX_OVERDUE'].max()\n",
    "bureau_bis['AMT_CREDIT_SUM_OVERDUE'] = bureau_bis.groupby(['SK_ID_CURR'])['AMT_CREDIT_SUM_OVERDUE'].max()"
   ]
  },
  {
   "cell_type": "code",
   "execution_count": 21,
   "id": "4c2004a5",
   "metadata": {},
   "outputs": [
    {
     "data": {
      "text/plain": [
       "SK_ID_CURR                       0\n",
       "SK_ID_BUREAU                     0\n",
       "AMT_CREDIT_MAX_OVERDUE    19672252\n",
       "AMT_CREDIT_SUM_OVERDUE    19672252\n",
       "STATUS                           0\n",
       "dtype: int64"
      ]
     },
     "execution_count": 21,
     "metadata": {},
     "output_type": "execute_result"
    }
   ],
   "source": [
    "# On regarde les valeurs manquantes\n",
    "bureau_bis.isnull().sum()"
   ]
  },
  {
   "cell_type": "code",
   "execution_count": 22,
   "id": "568cf949",
   "metadata": {},
   "outputs": [],
   "source": [
    "# On remplit les valeurs manquantes\n",
    "bureau_bis.fillna('Not applicable / Not specified', inplace=True)"
   ]
  },
  {
   "cell_type": "code",
   "execution_count": 23,
   "id": "d3ecf472",
   "metadata": {},
   "outputs": [
    {
     "name": "stdout",
     "output_type": "stream",
     "text": [
      "(25121815, 5) \n",
      "\n",
      "(2573172, 5)\n"
     ]
    }
   ],
   "source": [
    "# On supprime les doublons\n",
    "print(bureau_bis.shape, '\\n')\n",
    "bureau_bis = bureau_bis.drop_duplicates()\n",
    "print(bureau_bis.shape)"
   ]
  },
  {
   "cell_type": "code",
   "execution_count": 24,
   "id": "3cefd469",
   "metadata": {},
   "outputs": [],
   "source": [
    "# On joint les dataframes\n",
    "infos_prets = df_bis.join(prev_app_bis.set_index('SK_ID_CURR'), how='left', on='SK_ID_CURR')\n",
    "infos_prets = infos_prets.join(bureau_bis.set_index('SK_ID_CURR'), how='left', on='SK_ID_CURR')\n",
    "infos_prets.drop(columns=['SK_ID_BUREAU'], inplace=True)"
   ]
  },
  {
   "cell_type": "code",
   "execution_count": 25,
   "id": "d38ca341",
   "metadata": {},
   "outputs": [
    {
     "data": {
      "text/plain": [
       "SK_ID_CURR                      0\n",
       "NAME_CONTRACT_TYPE              0\n",
       "AMT_CREDIT                      0\n",
       "AMT_ANNUITY                  1876\n",
       "EXT_SOURCE_1              7327887\n",
       "EXT_SOURCE_2                 8572\n",
       "EXT_SOURCE_3               526619\n",
       "CODE_REJECT_REASON          90218\n",
       "NAME_CASH_LOAN_PURPOSE      90218\n",
       "AMT_CREDIT_MAX_OVERDUE     203367\n",
       "AMT_CREDIT_SUM_OVERDUE     203367\n",
       "STATUS                     203367\n",
       "dtype: int64"
      ]
     },
     "execution_count": 25,
     "metadata": {},
     "output_type": "execute_result"
    }
   ],
   "source": [
    "# On regarde les valeurs manquantes\n",
    "infos_prets.isnull().sum()"
   ]
  },
  {
   "cell_type": "code",
   "execution_count": 26,
   "id": "e3530a7e",
   "metadata": {},
   "outputs": [],
   "source": [
    "# On remplit les valeurs manquantes\n",
    "infos_prets.fillna('Not applicable / Not specified', inplace=True)"
   ]
  },
  {
   "cell_type": "code",
   "execution_count": 27,
   "id": "15f3a5e7",
   "metadata": {},
   "outputs": [
    {
     "name": "stdout",
     "output_type": "stream",
     "text": [
      "(14710209, 12) \n",
      "\n",
      "(2034152, 12)\n"
     ]
    }
   ],
   "source": [
    "# On supprime les doublons\n",
    "print(infos_prets.shape, '\\n')\n",
    "infos_prets = infos_prets.drop_duplicates()\n",
    "print(infos_prets.shape)"
   ]
  },
  {
   "cell_type": "code",
   "execution_count": 28,
   "id": "74462901",
   "metadata": {},
   "outputs": [
    {
     "data": {
      "text/html": [
       "<div>\n",
       "<style scoped>\n",
       "    .dataframe tbody tr th:only-of-type {\n",
       "        vertical-align: middle;\n",
       "    }\n",
       "\n",
       "    .dataframe tbody tr th {\n",
       "        vertical-align: top;\n",
       "    }\n",
       "\n",
       "    .dataframe thead th {\n",
       "        text-align: right;\n",
       "    }\n",
       "</style>\n",
       "<table border=\"1\" class=\"dataframe\">\n",
       "  <thead>\n",
       "    <tr style=\"text-align: right;\">\n",
       "      <th></th>\n",
       "      <th>SK_ID_CURR</th>\n",
       "      <th>NAME_CONTRACT_TYPE</th>\n",
       "      <th>AMT_CREDIT</th>\n",
       "      <th>AMT_ANNUITY</th>\n",
       "      <th>EXT_SOURCE_1</th>\n",
       "      <th>EXT_SOURCE_2</th>\n",
       "      <th>EXT_SOURCE_3</th>\n",
       "      <th>CODE_REJECT_REASON</th>\n",
       "      <th>NAME_CASH_LOAN_PURPOSE</th>\n",
       "      <th>AMT_CREDIT_MAX_OVERDUE</th>\n",
       "      <th>AMT_CREDIT_SUM_OVERDUE</th>\n",
       "      <th>STATUS</th>\n",
       "    </tr>\n",
       "  </thead>\n",
       "  <tbody>\n",
       "    <tr>\n",
       "      <th>0</th>\n",
       "      <td>100002</td>\n",
       "      <td>Cash loans</td>\n",
       "      <td>406597.5</td>\n",
       "      <td>24700.5</td>\n",
       "      <td>0.083037</td>\n",
       "      <td>0.262949</td>\n",
       "      <td>0.139376</td>\n",
       "      <td>XAP</td>\n",
       "      <td>XAP</td>\n",
       "      <td>Not applicable / Not specified</td>\n",
       "      <td>Not applicable / Not specified</td>\n",
       "      <td>C</td>\n",
       "    </tr>\n",
       "    <tr>\n",
       "      <th>0</th>\n",
       "      <td>100002</td>\n",
       "      <td>Cash loans</td>\n",
       "      <td>406597.5</td>\n",
       "      <td>24700.5</td>\n",
       "      <td>0.083037</td>\n",
       "      <td>0.262949</td>\n",
       "      <td>0.139376</td>\n",
       "      <td>XAP</td>\n",
       "      <td>XAP</td>\n",
       "      <td>Not applicable / Not specified</td>\n",
       "      <td>Not applicable / Not specified</td>\n",
       "      <td>0</td>\n",
       "    </tr>\n",
       "    <tr>\n",
       "      <th>0</th>\n",
       "      <td>100002</td>\n",
       "      <td>Cash loans</td>\n",
       "      <td>406597.5</td>\n",
       "      <td>24700.5</td>\n",
       "      <td>0.083037</td>\n",
       "      <td>0.262949</td>\n",
       "      <td>0.139376</td>\n",
       "      <td>XAP</td>\n",
       "      <td>XAP</td>\n",
       "      <td>Not applicable / Not specified</td>\n",
       "      <td>Not applicable / Not specified</td>\n",
       "      <td>1</td>\n",
       "    </tr>\n",
       "    <tr>\n",
       "      <th>0</th>\n",
       "      <td>100002</td>\n",
       "      <td>Cash loans</td>\n",
       "      <td>406597.5</td>\n",
       "      <td>24700.5</td>\n",
       "      <td>0.083037</td>\n",
       "      <td>0.262949</td>\n",
       "      <td>0.139376</td>\n",
       "      <td>XAP</td>\n",
       "      <td>XAP</td>\n",
       "      <td>Not applicable / Not specified</td>\n",
       "      <td>Not applicable / Not specified</td>\n",
       "      <td>X</td>\n",
       "    </tr>\n",
       "    <tr>\n",
       "      <th>1</th>\n",
       "      <td>100003</td>\n",
       "      <td>Cash loans</td>\n",
       "      <td>1293502.5</td>\n",
       "      <td>35698.5</td>\n",
       "      <td>0.311267</td>\n",
       "      <td>0.622246</td>\n",
       "      <td>Not applicable / Not specified</td>\n",
       "      <td>XAP</td>\n",
       "      <td>XNA</td>\n",
       "      <td>Not applicable / Not specified</td>\n",
       "      <td>Not applicable / Not specified</td>\n",
       "      <td>Not applicable / Not specified</td>\n",
       "    </tr>\n",
       "  </tbody>\n",
       "</table>\n",
       "</div>"
      ],
      "text/plain": [
       "   SK_ID_CURR NAME_CONTRACT_TYPE  AMT_CREDIT AMT_ANNUITY EXT_SOURCE_1  \\\n",
       "0      100002         Cash loans    406597.5     24700.5     0.083037   \n",
       "0      100002         Cash loans    406597.5     24700.5     0.083037   \n",
       "0      100002         Cash loans    406597.5     24700.5     0.083037   \n",
       "0      100002         Cash loans    406597.5     24700.5     0.083037   \n",
       "1      100003         Cash loans   1293502.5     35698.5     0.311267   \n",
       "\n",
       "  EXT_SOURCE_2                    EXT_SOURCE_3 CODE_REJECT_REASON  \\\n",
       "0     0.262949                        0.139376                XAP   \n",
       "0     0.262949                        0.139376                XAP   \n",
       "0     0.262949                        0.139376                XAP   \n",
       "0     0.262949                        0.139376                XAP   \n",
       "1     0.622246  Not applicable / Not specified                XAP   \n",
       "\n",
       "  NAME_CASH_LOAN_PURPOSE          AMT_CREDIT_MAX_OVERDUE  \\\n",
       "0                    XAP  Not applicable / Not specified   \n",
       "0                    XAP  Not applicable / Not specified   \n",
       "0                    XAP  Not applicable / Not specified   \n",
       "0                    XAP  Not applicable / Not specified   \n",
       "1                    XNA  Not applicable / Not specified   \n",
       "\n",
       "           AMT_CREDIT_SUM_OVERDUE                          STATUS  \n",
       "0  Not applicable / Not specified                               C  \n",
       "0  Not applicable / Not specified                               0  \n",
       "0  Not applicable / Not specified                               1  \n",
       "0  Not applicable / Not specified                               X  \n",
       "1  Not applicable / Not specified  Not applicable / Not specified  "
      ]
     },
     "execution_count": 28,
     "metadata": {},
     "output_type": "execute_result"
    }
   ],
   "source": [
    "# On regarde les premières lignes\n",
    "infos_prets.head()"
   ]
  },
  {
   "cell_type": "code",
   "execution_count": 29,
   "id": "b84b1573",
   "metadata": {},
   "outputs": [],
   "source": [
    "# On ne garde qu'une seule ligne par prêt\n",
    "infos_prets = infos_prets.drop_duplicates(subset='SK_ID_CURR')"
   ]
  },
  {
   "cell_type": "code",
   "execution_count": 30,
   "id": "49462d24",
   "metadata": {},
   "outputs": [
    {
     "data": {
      "text/html": [
       "<div>\n",
       "<style scoped>\n",
       "    .dataframe tbody tr th:only-of-type {\n",
       "        vertical-align: middle;\n",
       "    }\n",
       "\n",
       "    .dataframe tbody tr th {\n",
       "        vertical-align: top;\n",
       "    }\n",
       "\n",
       "    .dataframe thead th {\n",
       "        text-align: right;\n",
       "    }\n",
       "</style>\n",
       "<table border=\"1\" class=\"dataframe\">\n",
       "  <thead>\n",
       "    <tr style=\"text-align: right;\">\n",
       "      <th></th>\n",
       "      <th>SK_ID_CURR</th>\n",
       "      <th>NAME_CONTRACT_TYPE</th>\n",
       "      <th>AMT_CREDIT</th>\n",
       "      <th>AMT_ANNUITY</th>\n",
       "      <th>EXT_SOURCE_1</th>\n",
       "      <th>EXT_SOURCE_2</th>\n",
       "      <th>EXT_SOURCE_3</th>\n",
       "      <th>CODE_REJECT_REASON</th>\n",
       "      <th>NAME_CASH_LOAN_PURPOSE</th>\n",
       "      <th>AMT_CREDIT_MAX_OVERDUE</th>\n",
       "      <th>AMT_CREDIT_SUM_OVERDUE</th>\n",
       "      <th>STATUS</th>\n",
       "    </tr>\n",
       "  </thead>\n",
       "  <tbody>\n",
       "    <tr>\n",
       "      <th>0</th>\n",
       "      <td>100002</td>\n",
       "      <td>Cash loans</td>\n",
       "      <td>406597.5</td>\n",
       "      <td>24700.5</td>\n",
       "      <td>0.083037</td>\n",
       "      <td>0.262949</td>\n",
       "      <td>0.139376</td>\n",
       "      <td>XAP</td>\n",
       "      <td>XAP</td>\n",
       "      <td>Not applicable / Not specified</td>\n",
       "      <td>Not applicable / Not specified</td>\n",
       "      <td>C</td>\n",
       "    </tr>\n",
       "    <tr>\n",
       "      <th>1</th>\n",
       "      <td>100003</td>\n",
       "      <td>Cash loans</td>\n",
       "      <td>1293502.5</td>\n",
       "      <td>35698.5</td>\n",
       "      <td>0.311267</td>\n",
       "      <td>0.622246</td>\n",
       "      <td>Not applicable / Not specified</td>\n",
       "      <td>XAP</td>\n",
       "      <td>XNA</td>\n",
       "      <td>Not applicable / Not specified</td>\n",
       "      <td>Not applicable / Not specified</td>\n",
       "      <td>Not applicable / Not specified</td>\n",
       "    </tr>\n",
       "    <tr>\n",
       "      <th>2</th>\n",
       "      <td>100004</td>\n",
       "      <td>Revolving loans</td>\n",
       "      <td>135000.0</td>\n",
       "      <td>6750.0</td>\n",
       "      <td>Not applicable / Not specified</td>\n",
       "      <td>0.555912</td>\n",
       "      <td>0.729567</td>\n",
       "      <td>XAP</td>\n",
       "      <td>XAP</td>\n",
       "      <td>10172.205</td>\n",
       "      <td>0.0</td>\n",
       "      <td>Not applicable / Not specified</td>\n",
       "    </tr>\n",
       "    <tr>\n",
       "      <th>3</th>\n",
       "      <td>100006</td>\n",
       "      <td>Cash loans</td>\n",
       "      <td>312682.5</td>\n",
       "      <td>29686.5</td>\n",
       "      <td>Not applicable / Not specified</td>\n",
       "      <td>0.650442</td>\n",
       "      <td>Not applicable / Not specified</td>\n",
       "      <td>XAP</td>\n",
       "      <td>XNA</td>\n",
       "      <td>Not applicable / Not specified</td>\n",
       "      <td>Not applicable / Not specified</td>\n",
       "      <td>Not applicable / Not specified</td>\n",
       "    </tr>\n",
       "    <tr>\n",
       "      <th>4</th>\n",
       "      <td>100007</td>\n",
       "      <td>Cash loans</td>\n",
       "      <td>513000.0</td>\n",
       "      <td>21865.5</td>\n",
       "      <td>Not applicable / Not specified</td>\n",
       "      <td>0.322738</td>\n",
       "      <td>Not applicable / Not specified</td>\n",
       "      <td>XAP</td>\n",
       "      <td>XNA</td>\n",
       "      <td>Not applicable / Not specified</td>\n",
       "      <td>Not applicable / Not specified</td>\n",
       "      <td>Not applicable / Not specified</td>\n",
       "    </tr>\n",
       "  </tbody>\n",
       "</table>\n",
       "</div>"
      ],
      "text/plain": [
       "   SK_ID_CURR NAME_CONTRACT_TYPE  AMT_CREDIT AMT_ANNUITY  \\\n",
       "0      100002         Cash loans    406597.5     24700.5   \n",
       "1      100003         Cash loans   1293502.5     35698.5   \n",
       "2      100004    Revolving loans    135000.0      6750.0   \n",
       "3      100006         Cash loans    312682.5     29686.5   \n",
       "4      100007         Cash loans    513000.0     21865.5   \n",
       "\n",
       "                     EXT_SOURCE_1 EXT_SOURCE_2  \\\n",
       "0                        0.083037     0.262949   \n",
       "1                        0.311267     0.622246   \n",
       "2  Not applicable / Not specified     0.555912   \n",
       "3  Not applicable / Not specified     0.650442   \n",
       "4  Not applicable / Not specified     0.322738   \n",
       "\n",
       "                     EXT_SOURCE_3 CODE_REJECT_REASON NAME_CASH_LOAN_PURPOSE  \\\n",
       "0                        0.139376                XAP                    XAP   \n",
       "1  Not applicable / Not specified                XAP                    XNA   \n",
       "2                        0.729567                XAP                    XAP   \n",
       "3  Not applicable / Not specified                XAP                    XNA   \n",
       "4  Not applicable / Not specified                XAP                    XNA   \n",
       "\n",
       "           AMT_CREDIT_MAX_OVERDUE          AMT_CREDIT_SUM_OVERDUE  \\\n",
       "0  Not applicable / Not specified  Not applicable / Not specified   \n",
       "1  Not applicable / Not specified  Not applicable / Not specified   \n",
       "2                       10172.205                             0.0   \n",
       "3  Not applicable / Not specified  Not applicable / Not specified   \n",
       "4  Not applicable / Not specified  Not applicable / Not specified   \n",
       "\n",
       "                           STATUS  \n",
       "0                               C  \n",
       "1  Not applicable / Not specified  \n",
       "2  Not applicable / Not specified  \n",
       "3  Not applicable / Not specified  \n",
       "4  Not applicable / Not specified  "
      ]
     },
     "execution_count": 30,
     "metadata": {},
     "output_type": "execute_result"
    }
   ],
   "source": [
    "# On vérifie\n",
    "infos_prets.head()"
   ]
  },
  {
   "cell_type": "code",
   "execution_count": 31,
   "id": "b5b2a4df",
   "metadata": {},
   "outputs": [
    {
     "data": {
      "text/plain": [
       "(356255, 12)"
      ]
     },
     "execution_count": 31,
     "metadata": {},
     "output_type": "execute_result"
    }
   ],
   "source": [
    "# On regarde les dimensions de notre dataframe\n",
    "infos_prets.shape"
   ]
  },
  {
   "cell_type": "code",
   "execution_count": 32,
   "id": "c256c9f7",
   "metadata": {},
   "outputs": [],
   "source": [
    "# On sauvegarde\n",
    "df_csv_prets = infos_prets.to_csv('infos_prets.csv')"
   ]
  },
  {
   "cell_type": "code",
   "execution_count": null,
   "id": "e431df3c",
   "metadata": {},
   "outputs": [],
   "source": []
  }
 ],
 "metadata": {
  "kernelspec": {
   "display_name": "Python 3",
   "language": "python",
   "name": "python3"
  },
  "language_info": {
   "codemirror_mode": {
    "name": "ipython",
    "version": 3
   },
   "file_extension": ".py",
   "mimetype": "text/x-python",
   "name": "python",
   "nbconvert_exporter": "python",
   "pygments_lexer": "ipython3",
   "version": "3.8.8"
  }
 },
 "nbformat": 4,
 "nbformat_minor": 5
}
