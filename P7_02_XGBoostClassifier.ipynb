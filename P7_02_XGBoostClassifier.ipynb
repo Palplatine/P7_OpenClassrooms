{
 "cells": [
  {
   "cell_type": "code",
   "execution_count": 1,
   "id": "d8b2885e",
   "metadata": {},
   "outputs": [],
   "source": [
    "import warnings\n",
    "warnings.simplefilter(action='ignore', category=FutureWarning)\n",
    "\n",
    "import pandas as pd\n",
    "import numpy as np\n",
    "\n",
    "import matplotlib\n",
    "import matplotlib.pyplot as plt\n",
    "\n",
    "import seaborn as sns\n",
    "\n",
    "import sklearn\n",
    "from sklearn.metrics import roc_auc_score\n",
    "from sklearn.metrics import confusion_matrix\n",
    "from sklearn.model_selection import StratifiedKFold\n",
    "from sklearn.model_selection import RandomizedSearchCV\n",
    "\n",
    "import xgboost as xgb\n",
    "from xgboost import XGBClassifier\n",
    "from xgboost import plot_importance\n",
    "\n",
    "import time\n",
    "\n",
    "import pickle\n",
    "\n",
    "import shap"
   ]
  },
  {
   "cell_type": "code",
   "execution_count": 2,
   "id": "fc87b635",
   "metadata": {},
   "outputs": [],
   "source": [
    "# On supprime les avertissements nous indiquant que l'on change les valeurs de notre jeu de données d'origine\n",
    "pd.options.mode.chained_assignment = None"
   ]
  },
  {
   "cell_type": "markdown",
   "id": "7466bd07",
   "metadata": {},
   "source": [
    "## Classification"
   ]
  },
  {
   "cell_type": "code",
   "execution_count": 3,
   "id": "a3d59617",
   "metadata": {},
   "outputs": [],
   "source": [
    "# On charge nos données\n",
    "df = pd.read_csv('data_preprocessed.csv')\n",
    "df.drop(columns=['Unnamed: 0', 'index'], inplace=True)\n",
    "df.set_index('SK_ID_CURR', inplace=True)"
   ]
  },
  {
   "cell_type": "code",
   "execution_count": 4,
   "id": "8541f364",
   "metadata": {},
   "outputs": [],
   "source": [
    "# On sépare en jeu de test et jeu d'entraînement\n",
    "train_df = df[df['TARGET'].notnull()]\n",
    "test_df = df[df['TARGET'].isnull()]"
   ]
  },
  {
   "cell_type": "code",
   "execution_count": 5,
   "id": "92cd5454",
   "metadata": {},
   "outputs": [
    {
     "data": {
      "text/plain": [
       "(307507, 573)"
      ]
     },
     "execution_count": 5,
     "metadata": {},
     "output_type": "execute_result"
    }
   ],
   "source": [
    "train_df.shape"
   ]
  },
  {
   "cell_type": "code",
   "execution_count": 6,
   "id": "df11e6a2",
   "metadata": {},
   "outputs": [
    {
     "data": {
      "text/plain": [
       "0.0    282682\n",
       "1.0     24825\n",
       "Name: TARGET, dtype: int64"
      ]
     },
     "execution_count": 6,
     "metadata": {},
     "output_type": "execute_result"
    }
   ],
   "source": [
    "# On regarde l'équilibre de nos classes\n",
    "train_df['TARGET'].value_counts()"
   ]
  },
  {
   "cell_type": "code",
   "execution_count": 7,
   "id": "0adaf387",
   "metadata": {},
   "outputs": [],
   "source": [
    "# On prépare nos folds\n",
    "X = train_df.drop('TARGET', axis = 1)\n",
    "y = train_df['TARGET']\n",
    "folds = StratifiedKFold(n_splits=5, shuffle=True, random_state=24)\n",
    "cv = folds.split(X, y)\n",
    "cv = list(cv)"
   ]
  },
  {
   "cell_type": "markdown",
   "id": "9b3c574e",
   "metadata": {},
   "source": [
    "## Baseline"
   ]
  },
  {
   "cell_type": "code",
   "execution_count": 8,
   "id": "9403e0be",
   "metadata": {
    "scrolled": true
   },
   "outputs": [
    {
     "name": "stdout",
     "output_type": "stream",
     "text": [
      "Fold  1 AUC : 0.765381\n",
      "Fold  2 AUC : 0.771034\n",
      "Fold  3 AUC : 0.766545\n",
      "Fold  4 AUC : 0.772625\n",
      "Fold  5 AUC : 0.764677\n",
      "Time : 103.25 secondes\n"
     ]
    }
   ],
   "source": [
    "t0 = time.time()\n",
    "\n",
    "oof_preds = np.zeros(train_df.shape[0])\n",
    "sub_preds = np.zeros(test_df.shape[0])\n",
    "feature_importance_df = pd.DataFrame()\n",
    "feats = [f for f in train_df.columns if f not in ['TARGET','SK_ID_CURR','SK_ID_BUREAU','SK_ID_PREV','index']]\n",
    "\n",
    "# On sépare notre train en train et validation\n",
    "for n_fold, (train_idx, valid_idx) in enumerate(cv):\n",
    "    train_x, train_y = train_df[feats].iloc[train_idx], train_df['TARGET'].iloc[train_idx]\n",
    "    valid_x, valid_y = train_df[feats].iloc[valid_idx], train_df['TARGET'].iloc[valid_idx]\n",
    "    \n",
    "    clf = XGBClassifier(booster='gblinear', random_state=24, use_label_encoder=False, eval_metric='logloss')\n",
    "    clf.fit(train_x, train_y)\n",
    "    \n",
    "    oof_preds[valid_idx] = clf.predict_proba(valid_x)[:, 1]\n",
    "    sub_preds += clf.predict_proba(test_df[feats])[:, 1] / folds.n_splits\n",
    "\n",
    "    print('Fold %2d AUC : %.6f' % (n_fold + 1, roc_auc_score(valid_y, oof_preds[valid_idx])))\n",
    "\n",
    "t1 = time.time()\n",
    "time_round = np.round(t1 - t0, 2)\n",
    "print(f'Time : {time_round} secondes')"
   ]
  },
  {
   "cell_type": "markdown",
   "id": "c3677ce7",
   "metadata": {},
   "source": [
    "## Gestion des classes"
   ]
  },
  {
   "cell_type": "code",
   "execution_count": 9,
   "id": "1fb4853a",
   "metadata": {},
   "outputs": [],
   "source": [
    "results = []"
   ]
  },
  {
   "cell_type": "code",
   "execution_count": 10,
   "id": "d55a85ed",
   "metadata": {},
   "outputs": [],
   "source": [
    "scale_class = np.sqrt(df['TARGET'].value_counts()[0] / df['TARGET'].value_counts()[1])"
   ]
  },
  {
   "cell_type": "code",
   "execution_count": 11,
   "id": "b2d60770",
   "metadata": {
    "scrolled": true
   },
   "outputs": [
    {
     "name": "stdout",
     "output_type": "stream",
     "text": [
      "Fold  1 AUC : 0.766141\n",
      "Fold  2 AUC : 0.771751\n",
      "Fold  3 AUC : 0.767247\n",
      "Fold  4 AUC : 0.773094\n",
      "Fold  5 AUC : 0.765850\n",
      "Time : 254.02 secondes\n"
     ]
    }
   ],
   "source": [
    "t0 = time.time()\n",
    "\n",
    "oof_preds = np.zeros(train_df.shape[0])\n",
    "sub_preds = np.zeros(test_df.shape[0])\n",
    "feature_importance_df = pd.DataFrame()\n",
    "feats = [f for f in train_df.columns if f not in ['TARGET','SK_ID_CURR','SK_ID_BUREAU','SK_ID_PREV','index']]\n",
    "\n",
    "# On sépare notre train en train et validation\n",
    "for n_fold, (train_idx, valid_idx) in enumerate(cv):\n",
    "    train_x, train_y = train_df[feats].iloc[train_idx], train_df['TARGET'].iloc[train_idx]\n",
    "    valid_x, valid_y = train_df[feats].iloc[valid_idx], train_df['TARGET'].iloc[valid_idx]\n",
    "    \n",
    "    clf = XGBClassifier(n_estimators=300, booster='gblinear', learning_rate=0.2, random_state=24,\n",
    "                        scale_pos_weight=scale_class, use_label_encoder=False, eval_metric='logloss')\n",
    "    clf.fit(train_x, train_y)\n",
    "    \n",
    "    oof_preds[valid_idx] = clf.predict_proba(valid_x)[:, 1]\n",
    "    sub_preds += clf.predict_proba(test_df[feats])[:, 1] / folds.n_splits\n",
    "\n",
    "    roc_score = roc_auc_score(valid_y, oof_preds[valid_idx])\n",
    "    results.append(roc_score)\n",
    "    print('Fold %2d AUC : %.6f' % (n_fold + 1, roc_score))\n",
    "\n",
    "t1 = time.time()\n",
    "time_round = np.round(t1 - t0, 2)\n",
    "print(f'Time : {time_round} secondes')"
   ]
  },
  {
   "cell_type": "code",
   "execution_count": 12,
   "id": "05b1d172",
   "metadata": {},
   "outputs": [
    {
     "name": "stdout",
     "output_type": "stream",
     "text": [
      "Score moyen : 0.7688\n"
     ]
    }
   ],
   "source": [
    "print('Score moyen :', round(np.mean(results), 4))"
   ]
  },
  {
   "cell_type": "markdown",
   "id": "4ec9a6ce",
   "metadata": {},
   "source": [
    "## RandomizedSearch"
   ]
  },
  {
   "cell_type": "code",
   "execution_count": 9,
   "id": "217e934b",
   "metadata": {},
   "outputs": [],
   "source": [
    "model = XGBClassifier(scale_pos_weight=scale_class, random_state=24,\n",
    "                      use_label_encoder=False, eval_metric='logloss')\n",
    "\n",
    "params_xgbr = {'learning_rate' : (0.05, 0.10, 0.15, 0.20, 0.25), 'n_estimators' : [100, 250, 400, 500, 600]}"
   ]
  },
  {
   "cell_type": "code",
   "execution_count": 10,
   "id": "8ed9c88e",
   "metadata": {},
   "outputs": [
    {
     "name": "stdout",
     "output_type": "stream",
     "text": [
      "Fitting 5 folds for each of 10 candidates, totalling 50 fits\n",
      "{'n_estimators': 400, 'learning_rate': 0.05} \n",
      "\n",
      "XGBClassifier(base_score=0.5, booster='gbtree', colsample_bylevel=1,\n",
      "              colsample_bynode=1, colsample_bytree=1, enable_categorical=False,\n",
      "              eval_metric='logloss', gamma=0, gpu_id=-1, importance_type=None,\n",
      "              interaction_constraints='', learning_rate=0.05, max_delta_step=0,\n",
      "              max_depth=6, min_child_weight=1, missing=nan,\n",
      "              monotone_constraints='()', n_estimators=400, n_jobs=16,\n",
      "              num_parallel_tree=1, predictor='auto', random_state=24,\n",
      "              reg_alpha=0, reg_lambda=1, scale_pos_weight=3.374461278849885,\n",
      "              subsample=1, tree_method='exact', use_label_encoder=False,\n",
      "              validate_parameters=1, verbosity=None) \n",
      "\n",
      "0.7843409036113077\n"
     ]
    }
   ],
   "source": [
    "model_cv = RandomizedSearchCV(model, params_xgbr, verbose=1, cv=5, scoring='roc_auc')             \n",
    "\n",
    "model_cv.fit(X, y)\n",
    "\n",
    "# Meilleur paramètres du modèle\n",
    "best_hyperparam = model_cv.best_params_\n",
    "best_model_cv = model_cv.best_estimator_\n",
    "\n",
    "#Score moyen des validations croisées du meilleur estimateur\n",
    "best_score_cv = model_cv.best_score_\n",
    "\n",
    "print(best_hyperparam, '\\n')\n",
    "print(best_model_cv, '\\n')\n",
    "print(best_score_cv)"
   ]
  },
  {
   "cell_type": "markdown",
   "id": "84aaa1fb",
   "metadata": {},
   "source": [
    "## Notre modèle"
   ]
  },
  {
   "cell_type": "code",
   "execution_count": 13,
   "id": "05e5403f",
   "metadata": {},
   "outputs": [
    {
     "data": {
      "text/plain": [
       "XGBClassifier(base_score=0.5, booster='gbtree', colsample_bylevel=1,\n",
       "              colsample_bynode=1, colsample_bytree=1, enable_categorical=False,\n",
       "              eval_metric='logloss', gamma=0, gpu_id=-1, importance_type=None,\n",
       "              interaction_constraints='', learning_rate=0.05, max_delta_step=0,\n",
       "              max_depth=6, min_child_weight=1, missing=nan,\n",
       "              monotone_constraints='()', n_estimators=400, n_jobs=16,\n",
       "              num_parallel_tree=1, predictor='auto', random_state=24,\n",
       "              reg_alpha=0, reg_lambda=1, scale_pos_weight=3.374461278849885,\n",
       "              subsample=1, tree_method='exact', use_label_encoder=False,\n",
       "              validate_parameters=1, verbosity=None)"
      ]
     },
     "execution_count": 13,
     "metadata": {},
     "output_type": "execute_result"
    }
   ],
   "source": [
    "# On utilise le résultat de notre RandomizedSearchCV\n",
    "clf = XGBClassifier(n_estimators=400, learning_rate=0.05, scale_pos_weight=scale_class,\n",
    "                    random_state=24, use_label_encoder=False, eval_metric='logloss')\n",
    "clf.fit(X, y)"
   ]
  },
  {
   "cell_type": "code",
   "execution_count": 14,
   "id": "d1b8b16b",
   "metadata": {},
   "outputs": [],
   "source": [
    "# On enregistre le modèle\n",
    "filename = 'xgboostclassifier.pkl'\n",
    "pickle.dump(clf, open(filename, 'wb'))"
   ]
  },
  {
   "cell_type": "markdown",
   "id": "d3c2df3d",
   "metadata": {},
   "source": [
    "## Feature importance (Shap explainer)"
   ]
  },
  {
   "cell_type": "code",
   "execution_count": 15,
   "id": "434db337",
   "metadata": {},
   "outputs": [],
   "source": [
    "# On utilise toutes nos données sauf notre cible\n",
    "val_explainer = df.drop('TARGET', axis = 1)"
   ]
  },
  {
   "cell_type": "code",
   "execution_count": 16,
   "id": "f46d81c3",
   "metadata": {},
   "outputs": [],
   "source": [
    "# On calcule l'explainer de notre modèle\n",
    "explainer = shap.Explainer(clf, val_explainer)"
   ]
  },
  {
   "cell_type": "code",
   "execution_count": 17,
   "id": "b4d62d64",
   "metadata": {},
   "outputs": [],
   "source": [
    "# On enregistre le modèle\n",
    "filename = 'shap_explainer.pkl'\n",
    "pickle.dump(explainer, open(filename, 'wb'))"
   ]
  },
  {
   "cell_type": "markdown",
   "id": "52e5a7bc",
   "metadata": {},
   "source": [
    "## Feature importance (plot_importance)"
   ]
  },
  {
   "cell_type": "code",
   "execution_count": 18,
   "id": "078391b6",
   "metadata": {},
   "outputs": [
    {
     "data": {
      "image/png": "[encoded data removed]",
      "text/plain": [
       "<Figure size 432x288 with 1 Axes>"
      ]
     },
     "metadata": {
      "needs_background": "light"
     },
     "output_type": "display_data"
    }
   ],
   "source": [
    "plot_importance(clf, max_num_features=10)\n",
    "plt.show()"
   ]
  },
  {
   "cell_type": "markdown",
   "id": "22f3adaf",
   "metadata": {},
   "source": [
    "## Fonction coût métier"
   ]
  },
  {
   "cell_type": "code",
   "execution_count": 19,
   "id": "eab2d7e0",
   "metadata": {},
   "outputs": [],
   "source": [
    "# On calcule nos probabilités\n",
    "predictions_proba = clf.predict_proba(df.drop('TARGET', axis = 1))\n",
    "\n",
    "predictions = clf.predict(df.drop('TARGET', axis = 1))"
   ]
  },
  {
   "cell_type": "code",
   "execution_count": 20,
   "id": "e87c240a",
   "metadata": {},
   "outputs": [],
   "source": [
    "# On crée une copie de notre jeu de données\n",
    "df_metier = df.copy()"
   ]
  },
  {
   "cell_type": "code",
   "execution_count": 21,
   "id": "e0ad2c19",
   "metadata": {},
   "outputs": [],
   "source": [
    "# On associe nos probabilités et prédictions à de nouvelles colonnes\n",
    "df_metier['PREDICTIONS_PROBA'] = predictions_proba[:, 0]\n",
    "df_metier['PREDICTIONS'] = predictions\n",
    "\n",
    "# On se concentre sur les prêts où on connait la décision\n",
    "df_metier = df_metier[df_metier['TARGET'].notnull()]\n",
    "\n",
    "# On crée une colonne pour nos tests\n",
    "df_metier['PREDICTIONS_TEST'] = df_metier['PREDICTIONS']"
   ]
  },
  {
   "cell_type": "code",
   "execution_count": 24,
   "id": "b0400f79",
   "metadata": {},
   "outputs": [],
   "source": [
    "def cout_metier(value=0.5):\n",
    "    df_metier.loc[df_metier['PREDICTIONS_PROBA'] >= value, 'PREDICTIONS_TEST'] = 0\n",
    "    df_metier.loc[df_metier['PREDICTIONS_PROBA'] < value, 'PREDICTIONS_TEST'] = 1\n",
    "    \n",
    "    matrix = confusion_matrix(df_metier['TARGET'], df_metier['PREDICTIONS_TEST'])\n",
    "\n",
    "    false_neg = matrix[1, 0]\n",
    "    false_pos = matrix[0, 1]\n",
    "    total = df_metier.shape[0]\n",
    "    false_neg_error = round(false_neg / total*100, 2)\n",
    "    false_pos_error = round(false_pos / total*100, 2)\n",
    "    total_error = round(false_neg_error + false_pos_error, 2)\n",
    "    \n",
    "    print('False negative (ceux qui ne remboursent pas mais on a prédit que oui) :',\n",
    "          false_neg_error, '%\\n')\n",
    "    print('False positive (ceux qui remboursent mais on a prédit que non) :',\n",
    "          false_pos_error, '%')\n",
    "    print('Erreur total =', total_error, '%')"
   ]
  },
  {
   "cell_type": "code",
   "execution_count": 25,
   "id": "ecdbd4da",
   "metadata": {
    "scrolled": false
   },
   "outputs": [
    {
     "name": "stdout",
     "output_type": "stream",
     "text": [
      "Valeur = 0.5 \n",
      "\n",
      "False negative (ceux qui ne remboursent pas mais on a prédit que oui) : 5.06 %\n",
      "\n",
      "False positive (ceux qui remboursent mais on a prédit que non) : 3.2 %\n",
      "Erreur total = 8.26 %\n",
      "\n",
      "-------------------------------\n",
      "Valeur = 0.51 \n",
      "\n",
      "False negative (ceux qui ne remboursent pas mais on a prédit que oui) : 4.94 %\n",
      "\n",
      "False positive (ceux qui remboursent mais on a prédit que non) : 3.48 %\n",
      "Erreur total = 8.42 %\n",
      "\n",
      "-------------------------------\n",
      "Valeur = 0.52 \n",
      "\n",
      "False negative (ceux qui ne remboursent pas mais on a prédit que oui) : 4.81 %\n",
      "\n",
      "False positive (ceux qui remboursent mais on a prédit que non) : 3.79 %\n",
      "Erreur total = 8.6 %\n",
      "\n",
      "-------------------------------\n",
      "Valeur = 0.53 \n",
      "\n",
      "False negative (ceux qui ne remboursent pas mais on a prédit que oui) : 4.68 %\n",
      "\n",
      "False positive (ceux qui remboursent mais on a prédit que non) : 4.11 %\n",
      "Erreur total = 8.79 %\n",
      "\n",
      "-------------------------------\n",
      "Valeur = 0.54 \n",
      "\n",
      "False negative (ceux qui ne remboursent pas mais on a prédit que oui) : 4.55 %\n",
      "\n",
      "False positive (ceux qui remboursent mais on a prédit que non) : 4.47 %\n",
      "Erreur total = 9.02 %\n",
      "\n",
      "-------------------------------\n",
      "Valeur = 0.55 \n",
      "\n",
      "False negative (ceux qui ne remboursent pas mais on a prédit que oui) : 4.43 %\n",
      "\n",
      "False positive (ceux qui remboursent mais on a prédit que non) : 4.84 %\n",
      "Erreur total = 9.27 %\n",
      "\n",
      "-------------------------------\n",
      "Valeur = 0.56 \n",
      "\n",
      "False negative (ceux qui ne remboursent pas mais on a prédit que oui) : 4.3 %\n",
      "\n",
      "False positive (ceux qui remboursent mais on a prédit que non) : 5.23 %\n",
      "Erreur total = 9.53 %\n",
      "\n",
      "-------------------------------\n",
      "Valeur = 0.57 \n",
      "\n",
      "False negative (ceux qui ne remboursent pas mais on a prédit que oui) : 4.16 %\n",
      "\n",
      "False positive (ceux qui remboursent mais on a prédit que non) : 5.66 %\n",
      "Erreur total = 9.82 %\n",
      "\n",
      "-------------------------------\n",
      "Valeur = 0.58 \n",
      "\n",
      "False negative (ceux qui ne remboursent pas mais on a prédit que oui) : 4.04 %\n",
      "\n",
      "False positive (ceux qui remboursent mais on a prédit que non) : 6.1 %\n",
      "Erreur total = 10.14 %\n",
      "\n",
      "-------------------------------\n",
      "Valeur = 0.59 \n",
      "\n",
      "False negative (ceux qui ne remboursent pas mais on a prédit que oui) : 3.91 %\n",
      "\n",
      "False positive (ceux qui remboursent mais on a prédit que non) : 6.59 %\n",
      "Erreur total = 10.5 %\n",
      "\n",
      "-------------------------------\n",
      "Valeur = 0.6 \n",
      "\n",
      "False negative (ceux qui ne remboursent pas mais on a prédit que oui) : 3.78 %\n",
      "\n",
      "False positive (ceux qui remboursent mais on a prédit que non) : 7.11 %\n",
      "Erreur total = 10.89 %\n",
      "\n",
      "-------------------------------\n"
     ]
    }
   ],
   "source": [
    "# On teste plusieurs valeurs\n",
    "for value in [0.5, 0.51, 0.52, 0.53, 0.54, 0.55, 0.56, 0.57, 0.58, 0.59, 0.6]:\n",
    "    print('Valeur =', value, '\\n')\n",
    "    cout_metier(value)\n",
    "    print()\n",
    "    print('-------------------------------')"
   ]
  },
  {
   "cell_type": "markdown",
   "id": "02b12eb8",
   "metadata": {},
   "source": [
    "On va choisir 0.57 comme seuil."
   ]
  },
  {
   "cell_type": "code",
   "execution_count": null,
   "id": "c9f1f7f9",
   "metadata": {},
   "outputs": [],
   "source": []
  }
 ],
 "metadata": {
  "kernelspec": {
   "display_name": "Python 3 (ipykernel)",
   "language": "python",
   "name": "python3"
  },
  "language_info": {
   "codemirror_mode": {
    "name": "ipython",
    "version": 3
   },
   "file_extension": ".py",
   "mimetype": "text/x-python",
   "name": "python",
   "nbconvert_exporter": "python",
   "pygments_lexer": "ipython3",
   "version": "3.8.8"
  }
 },
 "nbformat": 4,
 "nbformat_minor": 5
}
