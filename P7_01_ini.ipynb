{
 "cells": [
  {
   "cell_type": "code",
   "execution_count": 1,
   "id": "d8b2885e",
   "metadata": {},
   "outputs": [],
   "source": [
    "import pandas as pd\n",
    "import numpy as np\n",
    "import missingno as msno\n",
    "\n",
    "import matplotlib\n",
    "import matplotlib.pyplot as plt\n",
    "import seaborn as sns"
   ]
  },
  {
   "cell_type": "code",
   "execution_count": 2,
   "id": "d40395c5",
   "metadata": {},
   "outputs": [],
   "source": [
    "# On charge nos deux jeux de données\n",
    "df_test = pd.read_csv('application_test.csv')\n",
    "df = pd.read_csv('application_train.csv')\n",
    "bureau = pd.read_csv('bureau.csv')\n",
    "bureau_balance = pd.read_csv('bureau_balance.csv')\n",
    "ccb = pd.read_csv('credit_card_balance.csv')\n",
    "install_pay = pd.read_csv('installments_payments.csv')\n",
    "pos_cash = pd.read_csv('POS_CASH_balance.csv')\n",
    "prev_app = pd.read_csv('previous_application.csv')"
   ]
  },
  {
   "cell_type": "markdown",
   "id": "cb2f7a5e",
   "metadata": {},
   "source": [
    "# Fonctions"
   ]
  },
  {
   "cell_type": "code",
   "execution_count": 3,
   "id": "6fea2dee",
   "metadata": {},
   "outputs": [],
   "source": [
    "# One-hot encoding for categorical columns with get_dummies\n",
    "def one_hot_encoder(df, nan_as_category = True):\n",
    "    original_columns = list(df.columns)\n",
    "    categorical_columns = [col for col in df.columns if df[col].dtype == 'object']\n",
    "    df = pd.get_dummies(df, columns= categorical_columns, dummy_na= nan_as_category)\n",
    "    new_columns = [c for c in df.columns if c not in original_columns]\n",
    "    return df, new_columns"
   ]
  },
  {
   "cell_type": "markdown",
   "id": "73c2a28b",
   "metadata": {},
   "source": [
    "## Application (1/6)"
   ]
  },
  {
   "cell_type": "code",
   "execution_count": 4,
   "id": "82fd2bb4",
   "metadata": {},
   "outputs": [
    {
     "data": {
      "text/plain": [
       "(307511, 122)"
      ]
     },
     "execution_count": 4,
     "metadata": {},
     "output_type": "execute_result"
    }
   ],
   "source": [
    "df.shape"
   ]
  },
  {
   "cell_type": "code",
   "execution_count": 5,
   "id": "308ff856",
   "metadata": {},
   "outputs": [
    {
     "data": {
      "text/plain": [
       "(307511, 18)"
      ]
     },
     "execution_count": 5,
     "metadata": {},
     "output_type": "execute_result"
    }
   ],
   "source": [
    "df_cols_drop = ['REGION_POPULATION_RELATIVE', 'DAYS_REGISTRATION','DAYS_ID_PUBLISH',\n",
    "                'FLAG_MOBIL', 'FLAG_EMP_PHONE', 'FLAG_WORK_PHONE', 'FLAG_PHONE', 'FLAG_EMAIL',\n",
    "                'REG_REGION_NOT_LIVE_REGION', 'REG_REGION_NOT_WORK_REGION', 'LIVE_REGION_NOT_WORK_REGION',\n",
    "                'REG_CITY_NOT_LIVE_CITY', 'REG_CITY_NOT_WORK_CITY', 'LIVE_CITY_NOT_WORK_CITY',\n",
    "                'APARTMENTS_AVG', 'BASEMENTAREA_AVG', 'YEARS_BEGINEXPLUATATION_AVG', 'YEARS_BUILD_AVG',\n",
    "                'COMMONAREA_AVG', 'ELEVATORS_AVG', 'ENTRANCES_AVG', 'FLOORSMAX_AVG', 'FLOORSMIN_AVG',\n",
    "                'LANDAREA_AVG', 'LIVINGAPARTMENTS_AVG', 'LIVINGAREA_AVG', 'NONLIVINGAPARTMENTS_AVG',\n",
    "                'NONLIVINGAREA_AVG', 'APARTMENTS_MODE', 'BASEMENTAREA_MODE', 'YEARS_BEGINEXPLUATATION_MODE',\n",
    "                'YEARS_BUILD_MODE', 'COMMONAREA_MODE', 'ELEVATORS_MODE', 'ENTRANCES_MODE', 'FLOORSMAX_MODE',\n",
    "                'FLOORSMIN_MODE', 'LANDAREA_MODE', 'LIVINGAPARTMENTS_MODE', 'LIVINGAREA_MODE',\n",
    "                'NONLIVINGAPARTMENTS_MODE', 'NONLIVINGAREA_MODE', 'APARTMENTS_MEDI', 'BASEMENTAREA_MEDI',\n",
    "                'YEARS_BEGINEXPLUATATION_MEDI', 'YEARS_BUILD_MEDI', 'COMMONAREA_MEDI', 'ELEVATORS_MEDI',\n",
    "                'ENTRANCES_MEDI', 'FLOORSMAX_MEDI', 'FLOORSMIN_MEDI', 'LANDAREA_MEDI', 'LIVINGAPARTMENTS_MEDI',\n",
    "                'LIVINGAREA_MEDI', 'NONLIVINGAPARTMENTS_MEDI', 'NONLIVINGAREA_MEDI', 'FONDKAPREMONT_MODE',\n",
    "                'HOUSETYPE_MODE', 'TOTALAREA_MODE', 'WALLSMATERIAL_MODE', 'EMERGENCYSTATE_MODE']\n",
    "\n",
    "df_cols_voir = ['NAME_TYPE_SUITE', 'CNT_CHILDREN', 'AMT_GOODS_PRICE','NAME_FAMILY_STATUS', 'OWN_CAR_AGE',\n",
    "               'REGION_RATING_CLIENT', 'REGION_RATING_CLIENT_W_CITY', 'WEEKDAY_APPR_PROCESS_START',\n",
    "               'HOUR_APPR_PROCESS_START', 'EXT_SOURCE_1', 'EXT_SOURCE_2', 'EXT_SOURCE_3',\n",
    "               'OBS_30_CNT_SOCIAL_CIRCLE', 'DEF_30_CNT_SOCIAL_CIRCLE', 'OBS_60_CNT_SOCIAL_CIRCLE',\n",
    "               'DEF_60_CNT_SOCIAL_CIRCLE', 'DAYS_LAST_PHONE_CHANGE', 'FLAG_DOCUMENT_2', 'FLAG_DOCUMENT_3',\n",
    "               'FLAG_DOCUMENT_4', 'FLAG_DOCUMENT_5', 'FLAG_DOCUMENT_6', 'FLAG_DOCUMENT_7', 'FLAG_DOCUMENT_8',\n",
    "               'FLAG_DOCUMENT_9', 'FLAG_DOCUMENT_10', 'FLAG_DOCUMENT_11', 'FLAG_DOCUMENT_12', 'FLAG_DOCUMENT_13',\n",
    "               'FLAG_DOCUMENT_14', 'FLAG_DOCUMENT_15', 'FLAG_DOCUMENT_16', 'FLAG_DOCUMENT_17', 'FLAG_DOCUMENT_18',\n",
    "               'FLAG_DOCUMENT_19', 'FLAG_DOCUMENT_20', 'FLAG_DOCUMENT_21', 'AMT_REQ_CREDIT_BUREAU_HOUR',\n",
    "               'AMT_REQ_CREDIT_BUREAU_DAY', 'AMT_REQ_CREDIT_BUREAU_WEEK', 'AMT_REQ_CREDIT_BUREAU_MON',\n",
    "               'AMT_REQ_CREDIT_BUREAU_QRT', 'AMT_REQ_CREDIT_BUREAU_YEAR']\n",
    "\n",
    "# On supprime les colonnes qui ne nous intéressent pas\n",
    "df = df.drop(columns = df_cols_drop)\n",
    "df_test = df_test.drop(columns = df_cols_drop)\n",
    "\n",
    "# Pour l'instant on supprime les colonnes où on ne sait pas trop\n",
    "df = df.drop(columns = df_cols_voir)\n",
    "df_test = df_test.drop(columns = df_cols_voir)\n",
    "\n",
    "# Taille des jeux de données après les changements\n",
    "df.shape"
   ]
  },
  {
   "cell_type": "code",
   "execution_count": 6,
   "id": "d47d071c",
   "metadata": {},
   "outputs": [
    {
     "name": "stdout",
     "output_type": "stream",
     "text": [
      "Taille Train: 307511, taille test: 48744\n"
     ]
    }
   ],
   "source": [
    "# Read data and merge\n",
    "print(\"Taille Train: {}, taille test: {}\".format(len(df), len(df_test)))\n",
    "df = df.append(df_test).reset_index()\n",
    "\n",
    "# On append train et test pour faire les mêmes preprocessing\n",
    "# On les redivise après\n",
    "\n",
    "# Optional: Remove 4 applications with XNA CODE_GENDER (train set)\n",
    "df = df[df['CODE_GENDER'] != 'XNA']\n",
    "\n",
    "# Categorical features with Binary encode (0 or 1; two categories)\n",
    "for binary_feat in ['CODE_GENDER', 'FLAG_OWN_CAR', 'FLAG_OWN_REALTY']:\n",
    "    df[binary_feat], uniques = pd.factorize(df[binary_feat])\n",
    "\n",
    "# Categorical features with One-Hot encode\n",
    "df, cat_cols = one_hot_encoder(df, nan_as_category=False)\n",
    "\n",
    "# NaN values for DAYS_EMPLOYED: 365.243 -> nan\n",
    "df['DAYS_EMPLOYED'].replace(365243, np.nan, inplace= True)\n",
    "\n",
    "# Some simple new features (percentages)\n",
    "df['DAYS_EMPLOYED_PERC'] = df['DAYS_EMPLOYED'] / df['DAYS_BIRTH']\n",
    "\n",
    "# Taux d'endettement plutôt ?\n",
    "df['INCOME_CREDIT_PERC'] = df['AMT_INCOME_TOTAL'] / df['AMT_CREDIT']\n",
    "df['CREDIT_INCOME_PERC'] = df['AMT_CREDIT'] / df['AMT_INCOME_TOTAL'] # Taux d'endettement\n",
    "\n",
    "df['INCOME_PER_PERSON'] = df['AMT_INCOME_TOTAL'] / df['CNT_FAM_MEMBERS']\n",
    "df['ANNUITY_INCOME_PERC'] = df['AMT_ANNUITY'] / df['AMT_INCOME_TOTAL']\n",
    "df['PAYMENT_RATE'] = df['AMT_ANNUITY'] / df['AMT_CREDIT']"
   ]
  },
  {
   "cell_type": "code",
   "execution_count": 7,
   "id": "f24fab17",
   "metadata": {},
   "outputs": [
    {
     "data": {
      "text/plain": [
       "index                      0\n",
       "SK_ID_CURR                 0\n",
       "TARGET                 48744\n",
       "CODE_GENDER                0\n",
       "FLAG_OWN_CAR               0\n",
       "                       ...  \n",
       "INCOME_CREDIT_PERC         0\n",
       "CREDIT_INCOME_PERC         0\n",
       "INCOME_PER_PERSON          2\n",
       "ANNUITY_INCOME_PERC       36\n",
       "PAYMENT_RATE              36\n",
       "Length: 116, dtype: int64"
      ]
     },
     "execution_count": 7,
     "metadata": {},
     "output_type": "execute_result"
    }
   ],
   "source": [
    "df.isnull().sum()"
   ]
  },
  {
   "cell_type": "code",
   "execution_count": 9,
   "id": "531b948d",
   "metadata": {},
   "outputs": [],
   "source": [
    "df_nan = df.isnull().mean()\n",
    "df_nan = df_nan.sort_values(ascending=False)\n",
    "liste_nan = []\n",
    "\n",
    "for x, y in zip(df_nan.index, df_nan):\n",
    "    liste_nan.append((x, y))\n",
    "\n",
    "liste_nan[:10]"
   ]
  },
  {
   "cell_type": "code",
   "execution_count": 12,
   "id": "44430eb9",
   "metadata": {},
   "outputs": [],
   "source": [
    "cols = ['DAYS_EMPLOYED', 'DAYS_EMPLOYED_PERC', 'AMT_ANNUITY',\n",
    "        'PAYMENT_RATE', 'ANNUITY_INCOME_PERC', 'INCOME_PER_PERSON',\n",
    "        'CNT_FAM_MEMBERS']\n",
    "\n",
    "for col in cols:\n",
    "    df[col] = df[col].fillna(df[col].median())"
   ]
  },
  {
   "cell_type": "markdown",
   "id": "edcc5f63",
   "metadata": {},
   "source": [
    "## Bureau & bureau_balance (2/6)"
   ]
  },
  {
   "cell_type": "code",
   "execution_count": 13,
   "id": "7c9d9559",
   "metadata": {},
   "outputs": [],
   "source": [
    "# Pas de col à supprimer a priori\n",
    "# bb_cols_drop = []\n",
    "\n",
    "bb_cols_voir = ['CREDIT_CURRENCY', 'DAYS_CREDIT_UPDATE', 'DAYS_ENDDATE_FACT']\n",
    "\n",
    "# Pour l'instant on supprime les colonnes où on ne sait pas trop\n",
    "# bureau = bureau.drop(columns = bb_cols_drop)\n",
    "bureau = bureau.drop(columns = bb_cols_voir)"
   ]
  },
  {
   "cell_type": "code",
   "execution_count": 14,
   "id": "df6e0a80",
   "metadata": {},
   "outputs": [],
   "source": [
    "bureau_balance, bb_cat = one_hot_encoder(bureau_balance, nan_as_category=True)\n",
    "bureau, bureau_cat = one_hot_encoder(bureau, nan_as_category=True)\n",
    "    \n",
    "# Bureau balance: Perform aggregations and merge with bureau.csv\n",
    "bb_aggregations = {'MONTHS_BALANCE': ['min', 'max', 'size']}\n",
    "\n",
    "for col in bb_cat:\n",
    "    bb_aggregations[col] = ['mean']\n",
    "bb_agg = bureau_balance.groupby('SK_ID_BUREAU').agg(bb_aggregations)\n",
    "bb_agg.columns = pd.Index([e[0] + \"_\" + e[1].upper() for e in bb_agg.columns.tolist()])\n",
    "bureau = bureau.join(bb_agg, how='left', on='SK_ID_BUREAU')\n",
    "bureau.drop(['SK_ID_BUREAU'], axis=1, inplace= True)\n",
    "    \n",
    "# Bureau and bureau_balance numeric features\n",
    "num_aggregations = {\n",
    "    'DAYS_CREDIT': ['min', 'max', 'mean', 'var'],\n",
    "    'DAYS_CREDIT_ENDDATE': ['min', 'max', 'mean'],\n",
    "    'CREDIT_DAY_OVERDUE': ['max', 'mean'],\n",
    "    'AMT_CREDIT_MAX_OVERDUE': ['mean'],\n",
    "    'AMT_CREDIT_SUM': ['max', 'mean', 'sum'],\n",
    "    'AMT_CREDIT_SUM_DEBT': ['max', 'mean', 'sum'],\n",
    "    'AMT_CREDIT_SUM_OVERDUE': ['mean'],\n",
    "    'AMT_CREDIT_SUM_LIMIT': ['mean', 'sum'],\n",
    "    'AMT_ANNUITY': ['max', 'mean'],\n",
    "    'CNT_CREDIT_PROLONG': ['sum'],\n",
    "    'MONTHS_BALANCE_MIN': ['min'],\n",
    "    'MONTHS_BALANCE_MAX': ['max'],\n",
    "    'MONTHS_BALANCE_SIZE': ['mean', 'sum']\n",
    "}\n",
    "# 'DAYS_CREDIT_UPDATE': ['mean'],\n",
    "\n",
    "# Bureau and bureau_balance categorical features\n",
    "cat_aggregations = {}\n",
    "for cat in bureau_cat: cat_aggregations[cat] = ['mean']\n",
    "for cat in bb_cat: cat_aggregations[cat + \"_MEAN\"] = ['mean']\n",
    "\n",
    "bureau_agg = bureau.groupby('SK_ID_CURR').agg({**num_aggregations, **cat_aggregations})\n",
    "bureau_agg.columns = pd.Index(['BURO_' + e[0] + \"_\" + e[1].upper() for e in bureau_agg.columns.tolist()])\n",
    "\n",
    "# Bureau: Active credits - using only numerical aggregations\n",
    "active = bureau[bureau['CREDIT_ACTIVE_Active'] == 1]\n",
    "active_agg = active.groupby('SK_ID_CURR').agg(num_aggregations)\n",
    "active_agg.columns = pd.Index(['ACTIVE_' + e[0] + \"_\" + e[1].upper() for e in active_agg.columns.tolist()])\n",
    "bureau_agg = bureau_agg.join(active_agg, how='left', on='SK_ID_CURR')\n",
    "\n",
    "# Bureau: Closed credits - using only numerical aggregations\n",
    "closed = bureau[bureau['CREDIT_ACTIVE_Closed'] == 1]\n",
    "closed_agg = closed.groupby('SK_ID_CURR').agg(num_aggregations)\n",
    "closed_agg.columns = pd.Index(['CLOSED_' + e[0] + \"_\" + e[1].upper() for e in closed_agg.columns.tolist()])\n",
    "bureau_agg = bureau_agg.join(closed_agg, how='left', on='SK_ID_CURR')"
   ]
  },
  {
   "cell_type": "code",
   "execution_count": 15,
   "id": "f717416b",
   "metadata": {},
   "outputs": [
    {
     "data": {
      "text/plain": [
       "BURO_DAYS_CREDIT_MIN                    0\n",
       "BURO_DAYS_CREDIT_MAX                    0\n",
       "BURO_DAYS_CREDIT_MEAN                   0\n",
       "BURO_DAYS_CREDIT_VAR                41520\n",
       "BURO_DAYS_CREDIT_ENDDATE_MIN         2585\n",
       "                                    ...  \n",
       "CLOSED_CNT_CREDIT_PROLONG_SUM       37886\n",
       "CLOSED_MONTHS_BALANCE_MIN_MIN      187316\n",
       "CLOSED_MONTHS_BALANCE_MAX_MAX      187316\n",
       "CLOSED_MONTHS_BALANCE_SIZE_MEAN    187316\n",
       "CLOSED_MONTHS_BALANCE_SIZE_SUM      37886\n",
       "Length: 108, dtype: int64"
      ]
     },
     "execution_count": 15,
     "metadata": {},
     "output_type": "execute_result"
    }
   ],
   "source": [
    "bureau_agg.isnull().sum()"
   ]
  },
  {
   "cell_type": "code",
   "execution_count": 17,
   "id": "bf3f43eb",
   "metadata": {},
   "outputs": [],
   "source": [
    "for col in bureau_agg.columns:\n",
    "    if 'CLOSED' in col:\n",
    "        bureau_agg[col] = bureau_agg[col].fillna(0)\n",
    "    \n",
    "    elif 'ACTIVE' in col:\n",
    "        bureau_agg[col] = bureau_agg[col].fillna(0)\n",
    "    \n",
    "    elif 'BURO' in col:\n",
    "        bureau_agg[col] = bureau_agg[col].fillna(bureau_agg[col].median())"
   ]
  },
  {
   "cell_type": "markdown",
   "id": "6fe395c7",
   "metadata": {},
   "source": [
    "## Previous application (3/6)"
   ]
  },
  {
   "cell_type": "code",
   "execution_count": 18,
   "id": "85f6a208",
   "metadata": {},
   "outputs": [],
   "source": [
    "# Beaucoup de données où ne connait pas le vendeur / il n'y en a pas\n",
    "prev_cols_drop = ['NAME_SELLER_INDUSTRY']\n",
    "\n",
    "prev_cols_voir = ['AMT_GOODS_PRICE', 'CHANNEL_TYPE','HOUR_APPR_PROCESS_START',\n",
    "                  'NAME_TYPE_SUITE','NFLAG_LAST_APPL_IN_DAY','SELLERPLACE_AREA',\n",
    "                  'WEEKDAY_APPR_PROCESS_START']\n",
    "\n",
    "# On supprime les colonnes choisies\n",
    "prev_app = prev_app.drop(columns = prev_cols_drop)\n",
    "prev_app = prev_app.drop(columns = prev_cols_voir)"
   ]
  },
  {
   "cell_type": "code",
   "execution_count": 19,
   "id": "0bd66c46",
   "metadata": {},
   "outputs": [],
   "source": [
    "# Si on garde \"NAME_TYPE_SUITE\"\n",
    "# for row in prev_app.index:   \n",
    "    \n",
    "#     if prev_app.loc[row, 'NAME_TYPE_SUITE'] == 'Other_A':\n",
    "#         prev_app.loc[row, 'NAME_TYPE_SUITE'] = 'Other'\n",
    "\n",
    "#     if prev_app.loc[row, 'NAME_TYPE_SUITE'] == 'Other_B':\n",
    "#         prev_app.loc[row, 'NAME_TYPE_SUITE'] = 'Other'"
   ]
  },
  {
   "cell_type": "code",
   "execution_count": 20,
   "id": "890a50b5",
   "metadata": {},
   "outputs": [],
   "source": [
    "# Preprocess previous_applications.csv\n",
    "prev_app, cat_cols = one_hot_encoder(prev_app, nan_as_category= True)\n",
    "\n",
    "# Days 365.243 values -> nan\n",
    "prev_app['DAYS_FIRST_DRAWING'].replace(365243, np.nan, inplace= True)\n",
    "prev_app['DAYS_FIRST_DUE'].replace(365243, np.nan, inplace= True)\n",
    "prev_app['DAYS_LAST_DUE_1ST_VERSION'].replace(365243, np.nan, inplace= True)\n",
    "prev_app['DAYS_LAST_DUE'].replace(365243, np.nan, inplace= True)\n",
    "prev_app['DAYS_TERMINATION'].replace(365243, np.nan, inplace= True)\n",
    "\n",
    "# Add feature: value ask / value received percentage\n",
    "prev_app['APP_CREDIT_PERC'] = prev_app['AMT_APPLICATION'] / prev_app['AMT_CREDIT']\n",
    "\n",
    "# Previous applications numeric features\n",
    "# Si on garde les \"à voir\"\n",
    "\n",
    "# num_aggregations = {\n",
    "#     'AMT_ANNUITY': ['min', 'max', 'mean'],\n",
    "#     'AMT_APPLICATION': ['min', 'max', 'mean'],\n",
    "#     'AMT_CREDIT': ['min', 'max', 'mean'],\n",
    "#     'APP_CREDIT_PERC': ['min', 'max', 'mean', 'var'],\n",
    "#     'AMT_DOWN_PAYMENT': ['min', 'max', 'mean'],\n",
    "#     'AMT_GOODS_PRICE': ['min', 'max', 'mean'],\n",
    "#     'HOUR_APPR_PROCESS_START': ['min', 'max', 'mean'],\n",
    "#     'RATE_DOWN_PAYMENT': ['min', 'max', 'mean'],\n",
    "#     'DAYS_DECISION': ['min', 'max', 'mean'],\n",
    "#     'CNT_PAYMENT': ['mean', 'sum'],\n",
    "# }\n",
    "\n",
    "\n",
    "num_aggregations = {\n",
    "    'AMT_ANNUITY': ['min', 'max', 'mean'],\n",
    "    'AMT_APPLICATION': ['min', 'max', 'mean'],\n",
    "    'AMT_CREDIT': ['min', 'max', 'mean'],\n",
    "    'APP_CREDIT_PERC': ['min', 'max', 'mean', 'var'],\n",
    "    'AMT_DOWN_PAYMENT': ['min', 'max', 'mean'],\n",
    "    'RATE_DOWN_PAYMENT': ['min', 'max', 'mean'],\n",
    "    'DAYS_DECISION': ['min', 'max', 'mean'],\n",
    "    'CNT_PAYMENT': ['mean', 'sum'],\n",
    "}\n",
    "\n",
    "# Previous applications categorical features\n",
    "cat_aggregations = {}\n",
    "for cat in cat_cols:\n",
    "    cat_aggregations[cat] = ['mean']\n",
    "    \n",
    "prev_agg = prev_app.groupby('SK_ID_CURR').agg({**num_aggregations, **cat_aggregations})\n",
    "prev_agg.columns = pd.Index(['PREV_' + e[0] + \"_\" + e[1].upper() for e in prev_agg.columns.tolist()])\n",
    "\n",
    "# Previous Applications: Approved Applications - only numerical features\n",
    "approved = prev_app[prev_app['NAME_CONTRACT_STATUS_Approved'] == 1]\n",
    "approved_agg = approved.groupby('SK_ID_CURR').agg(num_aggregations)\n",
    "approved_agg.columns = pd.Index(['APPROVED_' + e[0] + \"_\" + e[1].upper() for e in approved_agg.columns.tolist()])\n",
    "prev_agg = prev_agg.join(approved_agg, how='left', on='SK_ID_CURR')\n",
    "\n",
    "# Previous Applications: Refused Applications - only numerical features\n",
    "refused = prev_app[prev_app['NAME_CONTRACT_STATUS_Refused'] == 1]\n",
    "refused_agg = refused.groupby('SK_ID_CURR').agg(num_aggregations)\n",
    "refused_agg.columns = pd.Index(['REFUSED_' + e[0] + \"_\" + e[1].upper() for e in refused_agg.columns.tolist()])\n",
    "prev_agg = prev_agg.join(refused_agg, how='left', on='SK_ID_CURR')"
   ]
  },
  {
   "cell_type": "code",
   "execution_count": 21,
   "id": "577100ef",
   "metadata": {},
   "outputs": [
    {
     "data": {
      "text/plain": [
       "PREV_AMT_ANNUITY_MIN             480\n",
       "PREV_AMT_ANNUITY_MAX             480\n",
       "PREV_AMT_ANNUITY_MEAN            480\n",
       "PREV_AMT_APPLICATION_MIN           0\n",
       "PREV_AMT_APPLICATION_MAX           0\n",
       "                               ...  \n",
       "REFUSED_DAYS_DECISION_MIN     220580\n",
       "REFUSED_DAYS_DECISION_MAX     220580\n",
       "REFUSED_DAYS_DECISION_MEAN    220580\n",
       "REFUSED_CNT_PAYMENT_MEAN      230761\n",
       "REFUSED_CNT_PAYMENT_SUM       220580\n",
       "Length: 194, dtype: int64"
      ]
     },
     "execution_count": 21,
     "metadata": {},
     "output_type": "execute_result"
    }
   ],
   "source": [
    "prev_agg.isnull().sum()"
   ]
  },
  {
   "cell_type": "code",
   "execution_count": 22,
   "id": "3d967e5b",
   "metadata": {},
   "outputs": [],
   "source": [
    "for col in prev_agg.columns:\n",
    "    if 'REFUSED' in col:\n",
    "        prev_agg[col] = prev_agg[col].fillna(0)\n",
    "    \n",
    "    elif 'APPROVED' in col:\n",
    "        prev_agg[col] = prev_agg[col].fillna(0)\n",
    "    \n",
    "    elif 'PREV' in col:\n",
    "        prev_agg[col] = prev_agg[col].fillna(prev_agg[col].median())"
   ]
  },
  {
   "cell_type": "markdown",
   "id": "31d1517c",
   "metadata": {},
   "source": [
    "## POS balance (4/6)"
   ]
  },
  {
   "cell_type": "code",
   "execution_count": 23,
   "id": "872a1019",
   "metadata": {},
   "outputs": [],
   "source": [
    "# A priori on garde tout\n",
    "\n",
    "# pos_cols_drop = []\n",
    "\n",
    "# pos_cols_voir = []\n",
    "\n",
    "# Pour l'instant on supprime les colonnes où on ne sait pas trop\n",
    "# pos_cash = pos_cash.drop(columns = pos_cols_drop)\n",
    "# pos_cash = pos_cash.drop(columns = pos_cols_voir)"
   ]
  },
  {
   "cell_type": "code",
   "execution_count": 24,
   "id": "14c5b1f4",
   "metadata": {},
   "outputs": [],
   "source": [
    "# Preprocess POS_CASH_balance.csv\n",
    "pos_cash, cat_cols = one_hot_encoder(pos_cash, nan_as_category= True)\n",
    "\n",
    "# Features\n",
    "aggregations = {\n",
    "    'MONTHS_BALANCE': ['max', 'mean', 'size'],\n",
    "    'SK_DPD': ['max', 'mean'],\n",
    "    'SK_DPD_DEF': ['max', 'mean']\n",
    "}\n",
    "for cat in cat_cols:\n",
    "    aggregations[cat] = ['mean']\n",
    "    \n",
    "pos_agg = pos_cash.groupby('SK_ID_CURR').agg(aggregations)\n",
    "pos_agg.columns = pd.Index(['POS_' + e[0] + \"_\" + e[1].upper() for e in pos_agg.columns.tolist()])\n",
    "\n",
    "# Count pos cash accounts\n",
    "pos_agg['POS_COUNT'] = pos_cash.groupby('SK_ID_CURR').size()"
   ]
  },
  {
   "cell_type": "code",
   "execution_count": 26,
   "id": "813d1d82",
   "metadata": {},
   "outputs": [
    {
     "data": {
      "text/plain": [
       "POS_MONTHS_BALANCE_MAX                                 0\n",
       "POS_MONTHS_BALANCE_MEAN                                0\n",
       "POS_MONTHS_BALANCE_SIZE                                0\n",
       "POS_SK_DPD_MAX                                         0\n",
       "POS_SK_DPD_MEAN                                        0\n",
       "POS_SK_DPD_DEF_MAX                                     0\n",
       "POS_SK_DPD_DEF_MEAN                                    0\n",
       "POS_NAME_CONTRACT_STATUS_Active_MEAN                   0\n",
       "POS_NAME_CONTRACT_STATUS_Amortized debt_MEAN           0\n",
       "POS_NAME_CONTRACT_STATUS_Approved_MEAN                 0\n",
       "POS_NAME_CONTRACT_STATUS_Canceled_MEAN                 0\n",
       "POS_NAME_CONTRACT_STATUS_Completed_MEAN                0\n",
       "POS_NAME_CONTRACT_STATUS_Demand_MEAN                   0\n",
       "POS_NAME_CONTRACT_STATUS_Returned to the store_MEAN    0\n",
       "POS_NAME_CONTRACT_STATUS_Signed_MEAN                   0\n",
       "POS_NAME_CONTRACT_STATUS_XNA_MEAN                      0\n",
       "POS_NAME_CONTRACT_STATUS_nan_MEAN                      0\n",
       "POS_COUNT                                              0\n",
       "dtype: int64"
      ]
     },
     "execution_count": 26,
     "metadata": {},
     "output_type": "execute_result"
    }
   ],
   "source": [
    "pos_agg.isnull().sum()"
   ]
  },
  {
   "cell_type": "markdown",
   "id": "1433f8ff",
   "metadata": {},
   "source": [
    "## Installments payments (5/6)"
   ]
  },
  {
   "cell_type": "code",
   "execution_count": 27,
   "id": "cd3bb5db",
   "metadata": {},
   "outputs": [],
   "source": [
    "# ins_cols_drop = []\n",
    "\n",
    "# ins_cols_voir = []\n",
    "\n",
    "# Pour l'instant on supprime les colonnes où on ne sait pas trop\n",
    "# install_pay = install_pay.drop(columns = ins_cols_drop)\n",
    "# install_pay = install_pay.drop(columns = ins_cols_voir)"
   ]
  },
  {
   "cell_type": "code",
   "execution_count": 28,
   "id": "b9b338d0",
   "metadata": {},
   "outputs": [],
   "source": [
    "# Preprocess installments_payments.csv\n",
    "install_pay, cat_cols = one_hot_encoder(install_pay, nan_as_category= True)\n",
    "\n",
    "# Percentage and difference paid in each installment (amount paid and installment value)\n",
    "install_pay['PAYMENT_PERC'] = install_pay['AMT_PAYMENT'] / install_pay['AMT_INSTALMENT']\n",
    "install_pay['PAYMENT_DIFF'] = install_pay['AMT_INSTALMENT'] - install_pay['AMT_PAYMENT']\n",
    "\n",
    "# Days past due and days before due (no negative values)\n",
    "install_pay['DPD'] = install_pay['DAYS_ENTRY_PAYMENT'] - install_pay['DAYS_INSTALMENT']\n",
    "install_pay['DBD'] = install_pay['DAYS_INSTALMENT'] - install_pay['DAYS_ENTRY_PAYMENT']\n",
    "install_pay['DPD'] = install_pay['DPD'].apply(lambda x: x if x > 0 else 0)\n",
    "install_pay['DBD'] = install_pay['DBD'].apply(lambda x: x if x > 0 else 0)\n",
    "\n",
    "# Features: Perform aggregations\n",
    "aggregations = {\n",
    "    'NUM_INSTALMENT_VERSION': ['nunique'],\n",
    "    'DPD': ['max', 'mean', 'sum'],\n",
    "    'DBD': ['max', 'mean', 'sum'],\n",
    "    'PAYMENT_PERC': ['max', 'mean', 'sum', 'var'],\n",
    "    'PAYMENT_DIFF': ['max', 'mean', 'sum', 'var'],\n",
    "    'AMT_INSTALMENT': ['max', 'mean', 'sum'],\n",
    "    'AMT_PAYMENT': ['min', 'max', 'mean', 'sum'],\n",
    "    'DAYS_ENTRY_PAYMENT': ['max', 'mean', 'sum']\n",
    "}\n",
    "for cat in cat_cols:\n",
    "    aggregations[cat] = ['mean']\n",
    "ins_agg = install_pay.groupby('SK_ID_CURR').agg(aggregations)\n",
    "ins_agg.columns = pd.Index(['INSTAL_' + e[0] + \"_\" + e[1].upper() for e in ins_agg.columns.tolist()])\n",
    "\n",
    "# Count installments accounts\n",
    "ins_agg['INSTAL_COUNT'] = install_pay.groupby('SK_ID_CURR').size()"
   ]
  },
  {
   "cell_type": "code",
   "execution_count": 29,
   "id": "058e6ac8",
   "metadata": {},
   "outputs": [
    {
     "data": {
      "text/plain": [
       "INSTAL_NUM_INSTALMENT_VERSION_NUNIQUE      0\n",
       "INSTAL_DPD_MAX                             0\n",
       "INSTAL_DPD_MEAN                            0\n",
       "INSTAL_DPD_SUM                             0\n",
       "INSTAL_DBD_MAX                             0\n",
       "INSTAL_DBD_MEAN                            0\n",
       "INSTAL_DBD_SUM                             0\n",
       "INSTAL_PAYMENT_PERC_MAX                    9\n",
       "INSTAL_PAYMENT_PERC_MEAN                   9\n",
       "INSTAL_PAYMENT_PERC_SUM                    0\n",
       "INSTAL_PAYMENT_PERC_VAR                  996\n",
       "INSTAL_PAYMENT_DIFF_MAX                    9\n",
       "INSTAL_PAYMENT_DIFF_MEAN                   9\n",
       "INSTAL_PAYMENT_DIFF_SUM                    0\n",
       "INSTAL_PAYMENT_DIFF_VAR                  977\n",
       "INSTAL_AMT_INSTALMENT_MAX                  0\n",
       "INSTAL_AMT_INSTALMENT_MEAN                 0\n",
       "INSTAL_AMT_INSTALMENT_SUM                  0\n",
       "INSTAL_AMT_PAYMENT_MIN                     9\n",
       "INSTAL_AMT_PAYMENT_MAX                     9\n",
       "INSTAL_AMT_PAYMENT_MEAN                    9\n",
       "INSTAL_AMT_PAYMENT_SUM                     0\n",
       "INSTAL_DAYS_ENTRY_PAYMENT_MAX              9\n",
       "INSTAL_DAYS_ENTRY_PAYMENT_MEAN             9\n",
       "INSTAL_DAYS_ENTRY_PAYMENT_SUM              0\n",
       "INSTAL_COUNT                               0\n",
       "dtype: int64"
      ]
     },
     "execution_count": 29,
     "metadata": {},
     "output_type": "execute_result"
    }
   ],
   "source": [
    "ins_agg.isnull().sum()"
   ]
  },
  {
   "cell_type": "markdown",
   "id": "0d2201a6",
   "metadata": {},
   "source": [
    "## Credit card balance (6/6)"
   ]
  },
  {
   "cell_type": "code",
   "execution_count": 30,
   "id": "6b912f80",
   "metadata": {},
   "outputs": [],
   "source": [
    "# ccb_cols_drop = []\n",
    "\n",
    "# ccb_cols_voir = []\n",
    "\n",
    "# Pour l'instant on supprime les colonnes où on ne sait pas trop\n",
    "# ccb = ccb.drop(columns = ins_cols_drop)\n",
    "# ccb = ccb.drop(columns = ins_cols_voir)"
   ]
  },
  {
   "cell_type": "code",
   "execution_count": 4,
   "id": "f95bf2b3",
   "metadata": {},
   "outputs": [],
   "source": [
    "# Preprocess credit_card_balance.csv\n",
    "ccb, cat_cols = one_hot_encoder(ccb, nan_as_category= False)\n",
    "\n",
    "# General aggregations\n",
    "ccb.drop(['SK_ID_PREV'], axis= 1, inplace = True)\n",
    "cc_agg = ccb.groupby('SK_ID_CURR').agg(['min', 'max', 'mean', 'sum', 'var'])\n",
    "cc_agg.columns = pd.Index(['CC_' + e[0] + \"_\" + e[1].upper() for e in cc_agg.columns.tolist()])\n",
    "\n",
    "# Count credit card lines\n",
    "cc_agg['CC_COUNT'] = ccb.groupby('SK_ID_CURR').size()"
   ]
  },
  {
   "cell_type": "code",
   "execution_count": 5,
   "id": "0ff83a37",
   "metadata": {},
   "outputs": [
    {
     "data": {
      "text/plain": [
       "CC_MONTHS_BALANCE_MIN                    0\n",
       "CC_MONTHS_BALANCE_MAX                    0\n",
       "CC_MONTHS_BALANCE_MEAN                   0\n",
       "CC_MONTHS_BALANCE_SUM                    0\n",
       "CC_MONTHS_BALANCE_VAR                  692\n",
       "                                      ... \n",
       "CC_NAME_CONTRACT_STATUS_Signed_MAX       0\n",
       "CC_NAME_CONTRACT_STATUS_Signed_MEAN      0\n",
       "CC_NAME_CONTRACT_STATUS_Signed_SUM       0\n",
       "CC_NAME_CONTRACT_STATUS_Signed_VAR     692\n",
       "CC_COUNT                                 0\n",
       "Length: 136, dtype: int64"
      ]
     },
     "execution_count": 5,
     "metadata": {},
     "output_type": "execute_result"
    }
   ],
   "source": [
    "cc_agg.isnull().sum()"
   ]
  },
  {
   "cell_type": "code",
   "execution_count": 36,
   "id": "2d3c348a",
   "metadata": {},
   "outputs": [
    {
     "data": {
      "text/plain": [
       "array([0], dtype=uint8)"
      ]
     },
     "execution_count": 36,
     "metadata": {},
     "output_type": "execute_result"
    }
   ],
   "source": [
    "cc_agg['CC_NAME_CONTRACT_STATUS_nan_MEAN'].unique()"
   ]
  },
  {
   "cell_type": "code",
   "execution_count": 33,
   "id": "e0abbb3a",
   "metadata": {},
   "outputs": [
    {
     "data": {
      "text/plain": [
       "[('TARGET', 0.1368248790880587),\n",
       " ('index', 0.0),\n",
       " ('ORGANIZATION_TYPE_Industry: type 4', 0.0),\n",
       " ('ORGANIZATION_TYPE_Other', 0.0),\n",
       " ('ORGANIZATION_TYPE_Mobile', 0.0),\n",
       " ('ORGANIZATION_TYPE_Military', 0.0),\n",
       " ('ORGANIZATION_TYPE_Medicine', 0.0),\n",
       " ('ORGANIZATION_TYPE_Legal Services', 0.0),\n",
       " ('ORGANIZATION_TYPE_Kindergarten', 0.0),\n",
       " ('ORGANIZATION_TYPE_Insurance', 0.0)]"
      ]
     },
     "execution_count": 33,
     "metadata": {},
     "output_type": "execute_result"
    }
   ],
   "source": [
    "df_nan = df.isnull().mean()\n",
    "df_nan = df_nan.sort_values(ascending=False)\n",
    "liste_nan = []\n",
    "\n",
    "for x, y in zip(df_nan.index, df_nan):\n",
    "    liste_nan.append((x, y))\n",
    "\n",
    "liste_nan[:10]"
   ]
  },
  {
   "cell_type": "code",
   "execution_count": null,
   "id": "f069a754",
   "metadata": {},
   "outputs": [],
   "source": []
  },
  {
   "cell_type": "code",
   "execution_count": 18,
   "id": "fac4eb75",
   "metadata": {},
   "outputs": [],
   "source": [
    "df = df.join(bureau_agg, how='left', on='SK_ID_CURR')\n",
    "\n",
    "df = df.join(prev_agg, how='left', on='SK_ID_CURR')\n",
    "\n",
    "df = df.join(pos_agg, how='left', on='SK_ID_CURR')\n",
    "\n",
    "df = df.join(ins_agg, how='left', on='SK_ID_CURR')\n",
    "\n",
    "df = df.join(cc_agg, how='left', on='SK_ID_CURR')"
   ]
  },
  {
   "cell_type": "markdown",
   "id": "7466bd07",
   "metadata": {},
   "source": [
    "## Classification"
   ]
  },
  {
   "cell_type": "code",
   "execution_count": 19,
   "id": "5987627c",
   "metadata": {},
   "outputs": [],
   "source": [
    "from sklearn.dummy import DummyClassifier\n",
    "from sklearn.model_selection import KFold, StratifiedKFold\n",
    "from sklearn.linear_model import LogisticRegression"
   ]
  },
  {
   "cell_type": "code",
   "execution_count": 20,
   "id": "417a9310",
   "metadata": {},
   "outputs": [],
   "source": [
    "df_nan = df.isnull().mean()\n",
    "df_nan = df_nan.sort_values(ascending=False)\n",
    "liste_nan = []\n",
    "\n",
    "for x, y in zip(df_nan.index, df_nan):\n",
    "    liste_nan.append((x, y))"
   ]
  },
  {
   "cell_type": "code",
   "execution_count": 21,
   "id": "9bab56fa",
   "metadata": {},
   "outputs": [
    {
     "data": {
      "text/plain": [
       "[('REFUSED_RATE_DOWN_PAYMENT_MAX', 0.8523428706165035),\n",
       " ('REFUSED_RATE_DOWN_PAYMENT_MEAN', 0.8523428706165035),\n",
       " ('REFUSED_AMT_DOWN_PAYMENT_MIN', 0.8523428706165035),\n",
       " ('REFUSED_AMT_DOWN_PAYMENT_MAX', 0.8523428706165035),\n",
       " ('REFUSED_AMT_DOWN_PAYMENT_MEAN', 0.8523428706165035),\n",
       " ('REFUSED_RATE_DOWN_PAYMENT_MIN', 0.8523428706165035),\n",
       " ('REFUSED_APP_CREDIT_PERC_VAR', 0.8365843183598081),\n",
       " ('CC_AMT_PAYMENT_CURRENT_VAR', 0.7990124940000168),\n",
       " ('CC_CNT_DRAWINGS_ATM_CURRENT_VAR', 0.7987598631302087),\n",
       " ('CC_AMT_DRAWINGS_POS_CURRENT_VAR', 0.7987598631302087),\n",
       " ('CC_CNT_DRAWINGS_POS_CURRENT_VAR', 0.7987598631302087),\n",
       " ('CC_CNT_DRAWINGS_OTHER_CURRENT_VAR', 0.7987598631302087),\n",
       " ('CC_AMT_DRAWINGS_ATM_CURRENT_VAR', 0.7987598631302087),\n",
       " ('CC_AMT_DRAWINGS_OTHER_CURRENT_VAR', 0.7987598631302087),\n",
       " ('CC_AMT_PAYMENT_CURRENT_MAX', 0.7975584629937881),\n",
       " ('CC_AMT_PAYMENT_CURRENT_MEAN', 0.7975584629937881),\n",
       " ('CC_AMT_PAYMENT_CURRENT_MIN', 0.7975584629937881),\n",
       " ('CC_AMT_DRAWINGS_POS_CURRENT_MEAN', 0.7973507442786125),\n",
       " ('CC_CNT_DRAWINGS_POS_CURRENT_MEAN', 0.7973507442786125),\n",
       " ('CC_CNT_DRAWINGS_POS_CURRENT_MAX', 0.7973507442786125)]"
      ]
     },
     "execution_count": 21,
     "metadata": {},
     "output_type": "execute_result"
    }
   ],
   "source": [
    "liste_nan[:20]"
   ]
  },
  {
   "cell_type": "code",
   "execution_count": 24,
   "id": "94de8a0f",
   "metadata": {},
   "outputs": [
    {
     "data": {
      "text/plain": [
       "0.965193080159775"
      ]
     },
     "execution_count": 24,
     "metadata": {},
     "output_type": "execute_result"
    }
   ],
   "source": [
    "df['APPROVED_RATE_DOWN_PAYMENT_MAX'].isnull().mean() + df['REFUSED_RATE_DOWN_PAYMENT_MAX'].isnull().mean()"
   ]
  },
  {
   "cell_type": "code",
   "execution_count": 28,
   "id": "9ed49a98",
   "metadata": {},
   "outputs": [
    {
     "data": {
      "text/plain": [
       "0.0"
      ]
     },
     "execution_count": 28,
     "metadata": {},
     "output_type": "execute_result"
    }
   ],
   "source": [
    "df['REFUSED_RATE_DOWN_PAYMENT_MAX'].min()"
   ]
  },
  {
   "cell_type": "code",
   "execution_count": 33,
   "id": "544051a9",
   "metadata": {},
   "outputs": [],
   "source": [
    "test = df[df['REFUSED_RATE_DOWN_PAYMENT_MAX'].isnull()]"
   ]
  },
  {
   "cell_type": "code",
   "execution_count": 34,
   "id": "6989bc11",
   "metadata": {},
   "outputs": [
    {
     "data": {
      "text/html": [
       "<div>\n",
       "<style scoped>\n",
       "    .dataframe tbody tr th:only-of-type {\n",
       "        vertical-align: middle;\n",
       "    }\n",
       "\n",
       "    .dataframe tbody tr th {\n",
       "        vertical-align: top;\n",
       "    }\n",
       "\n",
       "    .dataframe thead th {\n",
       "        text-align: right;\n",
       "    }\n",
       "</style>\n",
       "<table border=\"1\" class=\"dataframe\">\n",
       "  <thead>\n",
       "    <tr style=\"text-align: right;\">\n",
       "      <th></th>\n",
       "      <th>index</th>\n",
       "      <th>SK_ID_CURR</th>\n",
       "      <th>TARGET</th>\n",
       "      <th>CODE_GENDER</th>\n",
       "      <th>FLAG_OWN_CAR</th>\n",
       "      <th>FLAG_OWN_REALTY</th>\n",
       "      <th>AMT_INCOME_TOTAL</th>\n",
       "      <th>AMT_CREDIT</th>\n",
       "      <th>AMT_ANNUITY</th>\n",
       "      <th>DAYS_BIRTH</th>\n",
       "      <th>...</th>\n",
       "      <th>CC_NAME_CONTRACT_STATUS_Signed_MAX</th>\n",
       "      <th>CC_NAME_CONTRACT_STATUS_Signed_MEAN</th>\n",
       "      <th>CC_NAME_CONTRACT_STATUS_Signed_SUM</th>\n",
       "      <th>CC_NAME_CONTRACT_STATUS_Signed_VAR</th>\n",
       "      <th>CC_NAME_CONTRACT_STATUS_nan_MIN</th>\n",
       "      <th>CC_NAME_CONTRACT_STATUS_nan_MAX</th>\n",
       "      <th>CC_NAME_CONTRACT_STATUS_nan_MEAN</th>\n",
       "      <th>CC_NAME_CONTRACT_STATUS_nan_SUM</th>\n",
       "      <th>CC_NAME_CONTRACT_STATUS_nan_VAR</th>\n",
       "      <th>CC_COUNT</th>\n",
       "    </tr>\n",
       "  </thead>\n",
       "  <tbody>\n",
       "    <tr>\n",
       "      <th>0</th>\n",
       "      <td>0</td>\n",
       "      <td>100002</td>\n",
       "      <td>1.0</td>\n",
       "      <td>0</td>\n",
       "      <td>0</td>\n",
       "      <td>0</td>\n",
       "      <td>202500.0</td>\n",
       "      <td>406597.5</td>\n",
       "      <td>24700.5</td>\n",
       "      <td>-9461</td>\n",
       "      <td>...</td>\n",
       "      <td>NaN</td>\n",
       "      <td>NaN</td>\n",
       "      <td>NaN</td>\n",
       "      <td>NaN</td>\n",
       "      <td>NaN</td>\n",
       "      <td>NaN</td>\n",
       "      <td>NaN</td>\n",
       "      <td>NaN</td>\n",
       "      <td>NaN</td>\n",
       "      <td>NaN</td>\n",
       "    </tr>\n",
       "    <tr>\n",
       "      <th>1</th>\n",
       "      <td>1</td>\n",
       "      <td>100003</td>\n",
       "      <td>0.0</td>\n",
       "      <td>1</td>\n",
       "      <td>0</td>\n",
       "      <td>1</td>\n",
       "      <td>270000.0</td>\n",
       "      <td>1293502.5</td>\n",
       "      <td>35698.5</td>\n",
       "      <td>-16765</td>\n",
       "      <td>...</td>\n",
       "      <td>NaN</td>\n",
       "      <td>NaN</td>\n",
       "      <td>NaN</td>\n",
       "      <td>NaN</td>\n",
       "      <td>NaN</td>\n",
       "      <td>NaN</td>\n",
       "      <td>NaN</td>\n",
       "      <td>NaN</td>\n",
       "      <td>NaN</td>\n",
       "      <td>NaN</td>\n",
       "    </tr>\n",
       "    <tr>\n",
       "      <th>2</th>\n",
       "      <td>2</td>\n",
       "      <td>100004</td>\n",
       "      <td>0.0</td>\n",
       "      <td>0</td>\n",
       "      <td>1</td>\n",
       "      <td>0</td>\n",
       "      <td>67500.0</td>\n",
       "      <td>135000.0</td>\n",
       "      <td>6750.0</td>\n",
       "      <td>-19046</td>\n",
       "      <td>...</td>\n",
       "      <td>NaN</td>\n",
       "      <td>NaN</td>\n",
       "      <td>NaN</td>\n",
       "      <td>NaN</td>\n",
       "      <td>NaN</td>\n",
       "      <td>NaN</td>\n",
       "      <td>NaN</td>\n",
       "      <td>NaN</td>\n",
       "      <td>NaN</td>\n",
       "      <td>NaN</td>\n",
       "    </tr>\n",
       "    <tr>\n",
       "      <th>3</th>\n",
       "      <td>3</td>\n",
       "      <td>100006</td>\n",
       "      <td>0.0</td>\n",
       "      <td>1</td>\n",
       "      <td>0</td>\n",
       "      <td>0</td>\n",
       "      <td>135000.0</td>\n",
       "      <td>312682.5</td>\n",
       "      <td>29686.5</td>\n",
       "      <td>-19005</td>\n",
       "      <td>...</td>\n",
       "      <td>0.0</td>\n",
       "      <td>0.0</td>\n",
       "      <td>0.0</td>\n",
       "      <td>0.0</td>\n",
       "      <td>0.0</td>\n",
       "      <td>0.0</td>\n",
       "      <td>0.0</td>\n",
       "      <td>0.0</td>\n",
       "      <td>0.0</td>\n",
       "      <td>6.0</td>\n",
       "    </tr>\n",
       "    <tr>\n",
       "      <th>4</th>\n",
       "      <td>4</td>\n",
       "      <td>100007</td>\n",
       "      <td>0.0</td>\n",
       "      <td>0</td>\n",
       "      <td>0</td>\n",
       "      <td>0</td>\n",
       "      <td>121500.0</td>\n",
       "      <td>513000.0</td>\n",
       "      <td>21865.5</td>\n",
       "      <td>-19932</td>\n",
       "      <td>...</td>\n",
       "      <td>NaN</td>\n",
       "      <td>NaN</td>\n",
       "      <td>NaN</td>\n",
       "      <td>NaN</td>\n",
       "      <td>NaN</td>\n",
       "      <td>NaN</td>\n",
       "      <td>NaN</td>\n",
       "      <td>NaN</td>\n",
       "      <td>NaN</td>\n",
       "      <td>NaN</td>\n",
       "    </tr>\n",
       "    <tr>\n",
       "      <th>5</th>\n",
       "      <td>5</td>\n",
       "      <td>100008</td>\n",
       "      <td>0.0</td>\n",
       "      <td>0</td>\n",
       "      <td>0</td>\n",
       "      <td>0</td>\n",
       "      <td>99000.0</td>\n",
       "      <td>490495.5</td>\n",
       "      <td>27517.5</td>\n",
       "      <td>-16941</td>\n",
       "      <td>...</td>\n",
       "      <td>NaN</td>\n",
       "      <td>NaN</td>\n",
       "      <td>NaN</td>\n",
       "      <td>NaN</td>\n",
       "      <td>NaN</td>\n",
       "      <td>NaN</td>\n",
       "      <td>NaN</td>\n",
       "      <td>NaN</td>\n",
       "      <td>NaN</td>\n",
       "      <td>NaN</td>\n",
       "    </tr>\n",
       "    <tr>\n",
       "      <th>6</th>\n",
       "      <td>6</td>\n",
       "      <td>100009</td>\n",
       "      <td>0.0</td>\n",
       "      <td>1</td>\n",
       "      <td>1</td>\n",
       "      <td>0</td>\n",
       "      <td>171000.0</td>\n",
       "      <td>1560726.0</td>\n",
       "      <td>41301.0</td>\n",
       "      <td>-13778</td>\n",
       "      <td>...</td>\n",
       "      <td>NaN</td>\n",
       "      <td>NaN</td>\n",
       "      <td>NaN</td>\n",
       "      <td>NaN</td>\n",
       "      <td>NaN</td>\n",
       "      <td>NaN</td>\n",
       "      <td>NaN</td>\n",
       "      <td>NaN</td>\n",
       "      <td>NaN</td>\n",
       "      <td>NaN</td>\n",
       "    </tr>\n",
       "    <tr>\n",
       "      <th>7</th>\n",
       "      <td>7</td>\n",
       "      <td>100010</td>\n",
       "      <td>0.0</td>\n",
       "      <td>0</td>\n",
       "      <td>1</td>\n",
       "      <td>0</td>\n",
       "      <td>360000.0</td>\n",
       "      <td>1530000.0</td>\n",
       "      <td>42075.0</td>\n",
       "      <td>-18850</td>\n",
       "      <td>...</td>\n",
       "      <td>NaN</td>\n",
       "      <td>NaN</td>\n",
       "      <td>NaN</td>\n",
       "      <td>NaN</td>\n",
       "      <td>NaN</td>\n",
       "      <td>NaN</td>\n",
       "      <td>NaN</td>\n",
       "      <td>NaN</td>\n",
       "      <td>NaN</td>\n",
       "      <td>NaN</td>\n",
       "    </tr>\n",
       "    <tr>\n",
       "      <th>8</th>\n",
       "      <td>8</td>\n",
       "      <td>100011</td>\n",
       "      <td>0.0</td>\n",
       "      <td>1</td>\n",
       "      <td>0</td>\n",
       "      <td>0</td>\n",
       "      <td>112500.0</td>\n",
       "      <td>1019610.0</td>\n",
       "      <td>33826.5</td>\n",
       "      <td>-20099</td>\n",
       "      <td>...</td>\n",
       "      <td>0.0</td>\n",
       "      <td>0.0</td>\n",
       "      <td>0.0</td>\n",
       "      <td>0.0</td>\n",
       "      <td>0.0</td>\n",
       "      <td>0.0</td>\n",
       "      <td>0.0</td>\n",
       "      <td>0.0</td>\n",
       "      <td>0.0</td>\n",
       "      <td>74.0</td>\n",
       "    </tr>\n",
       "    <tr>\n",
       "      <th>9</th>\n",
       "      <td>9</td>\n",
       "      <td>100012</td>\n",
       "      <td>0.0</td>\n",
       "      <td>0</td>\n",
       "      <td>0</td>\n",
       "      <td>0</td>\n",
       "      <td>135000.0</td>\n",
       "      <td>405000.0</td>\n",
       "      <td>20250.0</td>\n",
       "      <td>-14469</td>\n",
       "      <td>...</td>\n",
       "      <td>NaN</td>\n",
       "      <td>NaN</td>\n",
       "      <td>NaN</td>\n",
       "      <td>NaN</td>\n",
       "      <td>NaN</td>\n",
       "      <td>NaN</td>\n",
       "      <td>NaN</td>\n",
       "      <td>NaN</td>\n",
       "      <td>NaN</td>\n",
       "      <td>NaN</td>\n",
       "    </tr>\n",
       "  </tbody>\n",
       "</table>\n",
       "<p>10 rows × 603 columns</p>\n",
       "</div>"
      ],
      "text/plain": [
       "   index  SK_ID_CURR  TARGET  CODE_GENDER  FLAG_OWN_CAR  FLAG_OWN_REALTY  \\\n",
       "0      0      100002     1.0            0             0                0   \n",
       "1      1      100003     0.0            1             0                1   \n",
       "2      2      100004     0.0            0             1                0   \n",
       "3      3      100006     0.0            1             0                0   \n",
       "4      4      100007     0.0            0             0                0   \n",
       "5      5      100008     0.0            0             0                0   \n",
       "6      6      100009     0.0            1             1                0   \n",
       "7      7      100010     0.0            0             1                0   \n",
       "8      8      100011     0.0            1             0                0   \n",
       "9      9      100012     0.0            0             0                0   \n",
       "\n",
       "   AMT_INCOME_TOTAL  AMT_CREDIT  AMT_ANNUITY  DAYS_BIRTH  ...  \\\n",
       "0          202500.0    406597.5      24700.5       -9461  ...   \n",
       "1          270000.0   1293502.5      35698.5      -16765  ...   \n",
       "2           67500.0    135000.0       6750.0      -19046  ...   \n",
       "3          135000.0    312682.5      29686.5      -19005  ...   \n",
       "4          121500.0    513000.0      21865.5      -19932  ...   \n",
       "5           99000.0    490495.5      27517.5      -16941  ...   \n",
       "6          171000.0   1560726.0      41301.0      -13778  ...   \n",
       "7          360000.0   1530000.0      42075.0      -18850  ...   \n",
       "8          112500.0   1019610.0      33826.5      -20099  ...   \n",
       "9          135000.0    405000.0      20250.0      -14469  ...   \n",
       "\n",
       "   CC_NAME_CONTRACT_STATUS_Signed_MAX  CC_NAME_CONTRACT_STATUS_Signed_MEAN  \\\n",
       "0                                 NaN                                  NaN   \n",
       "1                                 NaN                                  NaN   \n",
       "2                                 NaN                                  NaN   \n",
       "3                                 0.0                                  0.0   \n",
       "4                                 NaN                                  NaN   \n",
       "5                                 NaN                                  NaN   \n",
       "6                                 NaN                                  NaN   \n",
       "7                                 NaN                                  NaN   \n",
       "8                                 0.0                                  0.0   \n",
       "9                                 NaN                                  NaN   \n",
       "\n",
       "   CC_NAME_CONTRACT_STATUS_Signed_SUM  CC_NAME_CONTRACT_STATUS_Signed_VAR  \\\n",
       "0                                 NaN                                 NaN   \n",
       "1                                 NaN                                 NaN   \n",
       "2                                 NaN                                 NaN   \n",
       "3                                 0.0                                 0.0   \n",
       "4                                 NaN                                 NaN   \n",
       "5                                 NaN                                 NaN   \n",
       "6                                 NaN                                 NaN   \n",
       "7                                 NaN                                 NaN   \n",
       "8                                 0.0                                 0.0   \n",
       "9                                 NaN                                 NaN   \n",
       "\n",
       "   CC_NAME_CONTRACT_STATUS_nan_MIN  CC_NAME_CONTRACT_STATUS_nan_MAX  \\\n",
       "0                              NaN                              NaN   \n",
       "1                              NaN                              NaN   \n",
       "2                              NaN                              NaN   \n",
       "3                              0.0                              0.0   \n",
       "4                              NaN                              NaN   \n",
       "5                              NaN                              NaN   \n",
       "6                              NaN                              NaN   \n",
       "7                              NaN                              NaN   \n",
       "8                              0.0                              0.0   \n",
       "9                              NaN                              NaN   \n",
       "\n",
       "   CC_NAME_CONTRACT_STATUS_nan_MEAN  CC_NAME_CONTRACT_STATUS_nan_SUM  \\\n",
       "0                               NaN                              NaN   \n",
       "1                               NaN                              NaN   \n",
       "2                               NaN                              NaN   \n",
       "3                               0.0                              0.0   \n",
       "4                               NaN                              NaN   \n",
       "5                               NaN                              NaN   \n",
       "6                               NaN                              NaN   \n",
       "7                               NaN                              NaN   \n",
       "8                               0.0                              0.0   \n",
       "9                               NaN                              NaN   \n",
       "\n",
       "   CC_NAME_CONTRACT_STATUS_nan_VAR  CC_COUNT  \n",
       "0                              NaN       NaN  \n",
       "1                              NaN       NaN  \n",
       "2                              NaN       NaN  \n",
       "3                              0.0       6.0  \n",
       "4                              NaN       NaN  \n",
       "5                              NaN       NaN  \n",
       "6                              NaN       NaN  \n",
       "7                              NaN       NaN  \n",
       "8                              0.0      74.0  \n",
       "9                              NaN       NaN  \n",
       "\n",
       "[10 rows x 603 columns]"
      ]
     },
     "execution_count": 34,
     "metadata": {},
     "output_type": "execute_result"
    }
   ],
   "source": [
    "test.head(10)"
   ]
  },
  {
   "cell_type": "code",
   "execution_count": null,
   "id": "0322e312",
   "metadata": {},
   "outputs": [],
   "source": []
  },
  {
   "cell_type": "code",
   "execution_count": null,
   "id": "c540d745",
   "metadata": {},
   "outputs": [],
   "source": []
  },
  {
   "cell_type": "code",
   "execution_count": null,
   "id": "d93888ed",
   "metadata": {},
   "outputs": [],
   "source": []
  },
  {
   "cell_type": "code",
   "execution_count": null,
   "id": "15cfd120",
   "metadata": {},
   "outputs": [],
   "source": []
  },
  {
   "cell_type": "code",
   "execution_count": 27,
   "id": "c8728d44",
   "metadata": {},
   "outputs": [
    {
     "data": {
      "text/plain": [
       "array([0.        , 0.1000606 , 0.2120076 , ..., 0.52887408, 0.23145062,\n",
       "       0.10893491])"
      ]
     },
     "execution_count": 27,
     "metadata": {},
     "output_type": "execute_result"
    }
   ],
   "source": [
    "df['APPROVED_RATE_DOWN_PAYMENT_MAX'].unique()"
   ]
  },
  {
   "cell_type": "code",
   "execution_count": 20,
   "id": "21b422aa",
   "metadata": {},
   "outputs": [],
   "source": [
    "train_df = df[df['TARGET'].notnull()]\n",
    "test_df = df[df['TARGET'].isnull()]"
   ]
  },
  {
   "cell_type": "code",
   "execution_count": 25,
   "id": "a05321af",
   "metadata": {},
   "outputs": [],
   "source": [
    "nan_train = train_df.isnull().mean()\n",
    "nan_train = nan_train.sort_values(ascending=False)\n",
    "liste_nan_train = []\n",
    "\n",
    "for x, y in zip(nan_train.index, nan_train):\n",
    "    liste_nan_train.append((x, y))"
   ]
  },
  {
   "cell_type": "code",
   "execution_count": 26,
   "id": "cf41446a",
   "metadata": {},
   "outputs": [],
   "source": [
    "nan_test = test_df.isnull().mean()\n",
    "nan_test = nan_test.sort_values(ascending=False)\n",
    "liste_nan_test = []\n",
    "\n",
    "for x, y in zip(nan_test.index, nan_test):\n",
    "    liste_nan_test.append((x, y))"
   ]
  },
  {
   "cell_type": "code",
   "execution_count": 27,
   "id": "0e6f0ce0",
   "metadata": {},
   "outputs": [
    {
     "data": {
      "text/plain": [
       "[('DAYS_EMPLOYED_PERC', 0.1800739495361081),\n",
       " ('DAYS_EMPLOYED', 0.1800739495361081),\n",
       " ('PAYMENT_RATE', 3.9023501904021696e-05),\n",
       " ('ANNUITY_INCOME_PERC', 3.9023501904021696e-05),\n",
       " ('AMT_ANNUITY', 3.9023501904021696e-05),\n",
       " ('CNT_FAM_MEMBERS', 6.503916984003616e-06),\n",
       " ('INCOME_PER_PERSON', 6.503916984003616e-06),\n",
       " ('ORGANIZATION_TYPE_Industry: type 6', 0.0),\n",
       " ('ORGANIZATION_TYPE_Industry: type 7', 0.0),\n",
       " ('ORGANIZATION_TYPE_Industry: type 8', 0.0)]"
      ]
     },
     "execution_count": 27,
     "metadata": {},
     "output_type": "execute_result"
    }
   ],
   "source": [
    "liste_nan_train[:10]"
   ]
  },
  {
   "cell_type": "code",
   "execution_count": 28,
   "id": "4fc2594e",
   "metadata": {},
   "outputs": [
    {
     "data": {
      "text/plain": [
       "[('TARGET', 1.0),\n",
       " ('DAYS_EMPLOYED_PERC', 0.1902593139668472),\n",
       " ('DAYS_EMPLOYED', 0.1902593139668472),\n",
       " ('PAYMENT_RATE', 0.0004923682914820286),\n",
       " ('ANNUITY_INCOME_PERC', 0.0004923682914820286),\n",
       " ('AMT_ANNUITY', 0.0004923682914820286),\n",
       " ('ORGANIZATION_TYPE_Kindergarten', 0.0),\n",
       " ('ORGANIZATION_TYPE_Industry: type 7', 0.0),\n",
       " ('ORGANIZATION_TYPE_Industry: type 8', 0.0),\n",
       " ('ORGANIZATION_TYPE_Industry: type 9', 0.0)]"
      ]
     },
     "execution_count": 28,
     "metadata": {},
     "output_type": "execute_result"
    }
   ],
   "source": [
    "liste_nan_test[:10]"
   ]
  },
  {
   "cell_type": "code",
   "execution_count": 29,
   "id": "56fa230d",
   "metadata": {},
   "outputs": [],
   "source": [
    "# Globalement les mêmes variables ont des valeurs manquantes\n",
    "# Un peu plus côté train"
   ]
  },
  {
   "cell_type": "code",
   "execution_count": 30,
   "id": "e618969c",
   "metadata": {},
   "outputs": [],
   "source": [
    "# On supprime les avertissements nous indiquant que l'on change les valeurs de notre jeu de données d'origine\n",
    "pd.options.mode.chained_assignment = None"
   ]
  },
  {
   "cell_type": "code",
   "execution_count": 31,
   "id": "a96696fd",
   "metadata": {},
   "outputs": [],
   "source": [
    "# On remplace nos dernières valeurs manquantes par la médiane\n",
    "cols_to_fill = ['PAYMENT_RATE', 'ANNUITY_INCOME_PERC', 'AMT_ANNUITY', 'CNT_FAM_MEMBERS', 'INCOME_PER_PERSON']\n",
    "\n",
    "for col in cols_to_fill:\n",
    "    train_df[col].fillna(train_df[col].median(), inplace = True)\n",
    "    test_df[col].fillna(test_df[col].median(), inplace = True)"
   ]
  },
  {
   "cell_type": "code",
   "execution_count": 32,
   "id": "962f57b8",
   "metadata": {},
   "outputs": [
    {
     "name": "stdout",
     "output_type": "stream",
     "text": [
      "moyenne : 0.16\n",
      "médiane : 0.12\n",
      "mode : 0    0.083333\n",
      "dtype: float64\n"
     ]
    },
    {
     "data": {
      "image/png": "[encoded data removed]",
      "text/plain": [
       "<Figure size 432x432 with 1 Axes>"
      ]
     },
     "metadata": {
      "needs_background": "light"
     },
     "output_type": "display_data"
    }
   ],
   "source": [
    "print('moyenne :', round(train_df['DAYS_EMPLOYED_PERC'].mean(), 2))\n",
    "print('médiane :', round(train_df['DAYS_EMPLOYED_PERC'].median(), 2))\n",
    "print('mode :', train_df['DAYS_EMPLOYED_PERC'].mode())\n",
    "\n",
    "# Histrogramme de la distribution de la variable\n",
    "plt.figure(figsize = (6, 6))\n",
    "plt.hist(x = train_df['DAYS_EMPLOYED_PERC'].values, bins = 50, align = 'left', color = '#4d7cab',\n",
    "         edgecolor = 'black', linewidth = 1.1)\n",
    "plt.title('Distribution de notre colonne \"DAYS_EMPLOYED_PERC\"')\n",
    "plt.xlabel('DAYS_EMPLOYED_PERC')\n",
    "plt.ylabel('Count')\n",
    "plt.show()"
   ]
  },
  {
   "cell_type": "code",
   "execution_count": 33,
   "id": "189b3207",
   "metadata": {},
   "outputs": [],
   "source": [
    "cols_to_fill_bis = ['DAYS_EMPLOYED_PERC', 'DAYS_EMPLOYED']\n",
    "\n",
    "for col in cols_to_fill_bis:\n",
    "    train_df[col].fillna(train_df[col].median(), inplace = True)\n",
    "    test_df[col].fillna(test_df[col].median(), inplace = True)"
   ]
  },
  {
   "cell_type": "code",
   "execution_count": 34,
   "id": "ada25aee",
   "metadata": {},
   "outputs": [
    {
     "data": {
      "text/plain": [
       "0.0    282682\n",
       "1.0     24825\n",
       "Name: TARGET, dtype: int64"
      ]
     },
     "execution_count": 34,
     "metadata": {},
     "output_type": "execute_result"
    }
   ],
   "source": [
    "# On regarde l'équilibre de nos classes\n",
    "train_df['TARGET'].value_counts()"
   ]
  },
  {
   "cell_type": "code",
   "execution_count": 44,
   "id": "9f89e613",
   "metadata": {},
   "outputs": [],
   "source": [
    "import time"
   ]
  },
  {
   "cell_type": "code",
   "execution_count": 51,
   "id": "40cfbc7c",
   "metadata": {},
   "outputs": [],
   "source": [
    "# Standard Scaler ???"
   ]
  },
  {
   "cell_type": "code",
   "execution_count": 52,
   "id": "45193468",
   "metadata": {},
   "outputs": [],
   "source": [
    "# Class imbalance (class weight ou SMOTE)"
   ]
  },
  {
   "cell_type": "code",
   "execution_count": 53,
   "id": "1479333e",
   "metadata": {},
   "outputs": [],
   "source": [
    "# t0 = time.time()\n",
    "# # Divide in training/validation and test data\n",
    "# print(\"Starting LogicticRegression. Train shape: {}, test shape: {}\".format(train_df.shape, test_df.shape))\n",
    "\n",
    "# # Cross validation model\n",
    "# # if stratified:\n",
    "# #     folds = StratifiedKFold(n_splits= num_folds, shuffle=True, random_state=24)\n",
    "# # else:\n",
    "# folds = KFold(n_splits= 10, shuffle=True, random_state=24)\n",
    "    \n",
    "# # Create arrays and dataframes to store results\n",
    "# oof_preds = np.zeros(train_df.shape[0])\n",
    "# sub_preds = np.zeros(test_df.shape[0])\n",
    "# feature_importance_df = pd.DataFrame()\n",
    "# feats = [f for f in train_df.columns if f not in ['TARGET','SK_ID_CURR','SK_ID_BUREAU','SK_ID_PREV','index']]\n",
    "\n",
    "# X = train_df.drop('TARGET', axis = 1)\n",
    "# y = train_df['TARGET']\n",
    "\n",
    "# clf = LogisticRegression(class_weight={0:1, 1:5}, random_state=24)\n",
    "\n",
    "# clf.fit(X, y)\n",
    "\n",
    "# y_proba_pred = clf.predict_proba(test_df.drop('TARGET', axis = 1))\n",
    "# y_pred = clf.predict(test_df.drop('TARGET', axis = 1))\n",
    "# t1 = time.time()\n",
    "# time_round = np.round(t1 - t0, 2)\n",
    "# print(f'Time : {time_round} secondes')"
   ]
  },
  {
   "cell_type": "markdown",
   "id": "c679f717",
   "metadata": {},
   "source": [
    "## Corrélations"
   ]
  },
  {
   "cell_type": "code",
   "execution_count": 36,
   "id": "11d436bb",
   "metadata": {},
   "outputs": [
    {
     "data": {
      "text/plain": [
       "(356251, 603)"
      ]
     },
     "execution_count": 36,
     "metadata": {},
     "output_type": "execute_result"
    }
   ],
   "source": [
    "df.shape"
   ]
  },
  {
   "cell_type": "code",
   "execution_count": 48,
   "id": "97989e65",
   "metadata": {},
   "outputs": [
    {
     "ename": "KeyError",
     "evalue": "'CC_NAME_CONTRACT_STATUS_nan_MAX'",
     "output_type": "error",
     "traceback": [
      "\u001b[1;31m---------------------------------------------------------------------------\u001b[0m",
      "\u001b[1;31mKeyError\u001b[0m                                  Traceback (most recent call last)",
      "\u001b[1;32m~\\anaconda3\\lib\\site-packages\\pandas\\core\\indexes\\base.py\u001b[0m in \u001b[0;36mget_loc\u001b[1;34m(self, key, method, tolerance)\u001b[0m\n\u001b[0;32m   3079\u001b[0m             \u001b[1;32mtry\u001b[0m\u001b[1;33m:\u001b[0m\u001b[1;33m\u001b[0m\u001b[1;33m\u001b[0m\u001b[0m\n\u001b[1;32m-> 3080\u001b[1;33m                 \u001b[1;32mreturn\u001b[0m \u001b[0mself\u001b[0m\u001b[1;33m.\u001b[0m\u001b[0m_engine\u001b[0m\u001b[1;33m.\u001b[0m\u001b[0mget_loc\u001b[0m\u001b[1;33m(\u001b[0m\u001b[0mcasted_key\u001b[0m\u001b[1;33m)\u001b[0m\u001b[1;33m\u001b[0m\u001b[1;33m\u001b[0m\u001b[0m\n\u001b[0m\u001b[0;32m   3081\u001b[0m             \u001b[1;32mexcept\u001b[0m \u001b[0mKeyError\u001b[0m \u001b[1;32mas\u001b[0m \u001b[0merr\u001b[0m\u001b[1;33m:\u001b[0m\u001b[1;33m\u001b[0m\u001b[1;33m\u001b[0m\u001b[0m\n",
      "\u001b[1;32mpandas\\_libs\\index.pyx\u001b[0m in \u001b[0;36mpandas._libs.index.IndexEngine.get_loc\u001b[1;34m()\u001b[0m\n",
      "\u001b[1;32mpandas\\_libs\\index.pyx\u001b[0m in \u001b[0;36mpandas._libs.index.IndexEngine.get_loc\u001b[1;34m()\u001b[0m\n",
      "\u001b[1;32mpandas\\_libs\\hashtable_class_helper.pxi\u001b[0m in \u001b[0;36mpandas._libs.hashtable.PyObjectHashTable.get_item\u001b[1;34m()\u001b[0m\n",
      "\u001b[1;32mpandas\\_libs\\hashtable_class_helper.pxi\u001b[0m in \u001b[0;36mpandas._libs.hashtable.PyObjectHashTable.get_item\u001b[1;34m()\u001b[0m\n",
      "\u001b[1;31mKeyError\u001b[0m: 'CC_NAME_CONTRACT_STATUS_nan_MAX'",
      "\nThe above exception was the direct cause of the following exception:\n",
      "\u001b[1;31mKeyError\u001b[0m                                  Traceback (most recent call last)",
      "\u001b[1;32m<ipython-input-48-efdf128576a9>\u001b[0m in \u001b[0;36m<module>\u001b[1;34m\u001b[0m\n\u001b[1;32m----> 1\u001b[1;33m \u001b[0mtrain_df\u001b[0m\u001b[1;33m[\u001b[0m\u001b[1;34m'CC_NAME_CONTRACT_STATUS_nan_MAX'\u001b[0m\u001b[1;33m]\u001b[0m\u001b[1;33m\u001b[0m\u001b[1;33m\u001b[0m\u001b[0m\n\u001b[0m",
      "\u001b[1;32m~\\anaconda3\\lib\\site-packages\\pandas\\core\\frame.py\u001b[0m in \u001b[0;36m__getitem__\u001b[1;34m(self, key)\u001b[0m\n\u001b[0;32m   3022\u001b[0m             \u001b[1;32mif\u001b[0m \u001b[0mself\u001b[0m\u001b[1;33m.\u001b[0m\u001b[0mcolumns\u001b[0m\u001b[1;33m.\u001b[0m\u001b[0mnlevels\u001b[0m \u001b[1;33m>\u001b[0m \u001b[1;36m1\u001b[0m\u001b[1;33m:\u001b[0m\u001b[1;33m\u001b[0m\u001b[1;33m\u001b[0m\u001b[0m\n\u001b[0;32m   3023\u001b[0m                 \u001b[1;32mreturn\u001b[0m \u001b[0mself\u001b[0m\u001b[1;33m.\u001b[0m\u001b[0m_getitem_multilevel\u001b[0m\u001b[1;33m(\u001b[0m\u001b[0mkey\u001b[0m\u001b[1;33m)\u001b[0m\u001b[1;33m\u001b[0m\u001b[1;33m\u001b[0m\u001b[0m\n\u001b[1;32m-> 3024\u001b[1;33m             \u001b[0mindexer\u001b[0m \u001b[1;33m=\u001b[0m \u001b[0mself\u001b[0m\u001b[1;33m.\u001b[0m\u001b[0mcolumns\u001b[0m\u001b[1;33m.\u001b[0m\u001b[0mget_loc\u001b[0m\u001b[1;33m(\u001b[0m\u001b[0mkey\u001b[0m\u001b[1;33m)\u001b[0m\u001b[1;33m\u001b[0m\u001b[1;33m\u001b[0m\u001b[0m\n\u001b[0m\u001b[0;32m   3025\u001b[0m             \u001b[1;32mif\u001b[0m \u001b[0mis_integer\u001b[0m\u001b[1;33m(\u001b[0m\u001b[0mindexer\u001b[0m\u001b[1;33m)\u001b[0m\u001b[1;33m:\u001b[0m\u001b[1;33m\u001b[0m\u001b[1;33m\u001b[0m\u001b[0m\n\u001b[0;32m   3026\u001b[0m                 \u001b[0mindexer\u001b[0m \u001b[1;33m=\u001b[0m \u001b[1;33m[\u001b[0m\u001b[0mindexer\u001b[0m\u001b[1;33m]\u001b[0m\u001b[1;33m\u001b[0m\u001b[1;33m\u001b[0m\u001b[0m\n",
      "\u001b[1;32m~\\anaconda3\\lib\\site-packages\\pandas\\core\\indexes\\base.py\u001b[0m in \u001b[0;36mget_loc\u001b[1;34m(self, key, method, tolerance)\u001b[0m\n\u001b[0;32m   3080\u001b[0m                 \u001b[1;32mreturn\u001b[0m \u001b[0mself\u001b[0m\u001b[1;33m.\u001b[0m\u001b[0m_engine\u001b[0m\u001b[1;33m.\u001b[0m\u001b[0mget_loc\u001b[0m\u001b[1;33m(\u001b[0m\u001b[0mcasted_key\u001b[0m\u001b[1;33m)\u001b[0m\u001b[1;33m\u001b[0m\u001b[1;33m\u001b[0m\u001b[0m\n\u001b[0;32m   3081\u001b[0m             \u001b[1;32mexcept\u001b[0m \u001b[0mKeyError\u001b[0m \u001b[1;32mas\u001b[0m \u001b[0merr\u001b[0m\u001b[1;33m:\u001b[0m\u001b[1;33m\u001b[0m\u001b[1;33m\u001b[0m\u001b[0m\n\u001b[1;32m-> 3082\u001b[1;33m                 \u001b[1;32mraise\u001b[0m \u001b[0mKeyError\u001b[0m\u001b[1;33m(\u001b[0m\u001b[0mkey\u001b[0m\u001b[1;33m)\u001b[0m \u001b[1;32mfrom\u001b[0m \u001b[0merr\u001b[0m\u001b[1;33m\u001b[0m\u001b[1;33m\u001b[0m\u001b[0m\n\u001b[0m\u001b[0;32m   3083\u001b[0m \u001b[1;33m\u001b[0m\u001b[0m\n\u001b[0;32m   3084\u001b[0m         \u001b[1;32mif\u001b[0m \u001b[0mtolerance\u001b[0m \u001b[1;32mis\u001b[0m \u001b[1;32mnot\u001b[0m \u001b[1;32mNone\u001b[0m\u001b[1;33m:\u001b[0m\u001b[1;33m\u001b[0m\u001b[1;33m\u001b[0m\u001b[0m\n",
      "\u001b[1;31mKeyError\u001b[0m: 'CC_NAME_CONTRACT_STATUS_nan_MAX'"
     ]
    }
   ],
   "source": [
    "train_df['CC_NAME_CONTRACT_STATUS_nan_MAX']"
   ]
  },
  {
   "cell_type": "code",
   "execution_count": null,
   "id": "30a02d5d",
   "metadata": {},
   "outputs": [],
   "source": []
  },
  {
   "cell_type": "code",
   "execution_count": null,
   "id": "88c33809",
   "metadata": {},
   "outputs": [],
   "source": []
  },
  {
   "cell_type": "code",
   "execution_count": 37,
   "id": "cd8e8309",
   "metadata": {},
   "outputs": [],
   "source": [
    "df_corr = df.copy()"
   ]
  },
  {
   "cell_type": "code",
   "execution_count": 91,
   "id": "e0599c93",
   "metadata": {},
   "outputs": [
    {
     "data": {
      "text/html": [
       "<div>\n",
       "<style scoped>\n",
       "    .dataframe tbody tr th:only-of-type {\n",
       "        vertical-align: middle;\n",
       "    }\n",
       "\n",
       "    .dataframe tbody tr th {\n",
       "        vertical-align: top;\n",
       "    }\n",
       "\n",
       "    .dataframe thead th {\n",
       "        text-align: right;\n",
       "    }\n",
       "</style>\n",
       "<table border=\"1\" class=\"dataframe\">\n",
       "  <thead>\n",
       "    <tr style=\"text-align: right;\">\n",
       "      <th></th>\n",
       "      <th>index</th>\n",
       "      <th>SK_ID_CURR</th>\n",
       "      <th>TARGET</th>\n",
       "      <th>CODE_GENDER</th>\n",
       "      <th>FLAG_OWN_CAR</th>\n",
       "      <th>FLAG_OWN_REALTY</th>\n",
       "      <th>AMT_INCOME_TOTAL</th>\n",
       "      <th>AMT_CREDIT</th>\n",
       "      <th>AMT_ANNUITY</th>\n",
       "      <th>DAYS_BIRTH</th>\n",
       "      <th>...</th>\n",
       "      <th>CC_NAME_CONTRACT_STATUS_Signed_MAX</th>\n",
       "      <th>CC_NAME_CONTRACT_STATUS_Signed_MEAN</th>\n",
       "      <th>CC_NAME_CONTRACT_STATUS_Signed_SUM</th>\n",
       "      <th>CC_NAME_CONTRACT_STATUS_Signed_VAR</th>\n",
       "      <th>CC_NAME_CONTRACT_STATUS_nan_MIN</th>\n",
       "      <th>CC_NAME_CONTRACT_STATUS_nan_MAX</th>\n",
       "      <th>CC_NAME_CONTRACT_STATUS_nan_MEAN</th>\n",
       "      <th>CC_NAME_CONTRACT_STATUS_nan_SUM</th>\n",
       "      <th>CC_NAME_CONTRACT_STATUS_nan_VAR</th>\n",
       "      <th>CC_COUNT</th>\n",
       "    </tr>\n",
       "  </thead>\n",
       "  <tbody>\n",
       "    <tr>\n",
       "      <th>index</th>\n",
       "      <td>1.000000</td>\n",
       "      <td>0.837311</td>\n",
       "      <td>-0.002114</td>\n",
       "      <td>-0.003517</td>\n",
       "      <td>0.002091</td>\n",
       "      <td>-0.001558</td>\n",
       "      <td>-0.008583</td>\n",
       "      <td>0.033421</td>\n",
       "      <td>-0.025803</td>\n",
       "      <td>-0.000021</td>\n",
       "      <td>...</td>\n",
       "      <td>0.004458</td>\n",
       "      <td>0.000784</td>\n",
       "      <td>0.006472</td>\n",
       "      <td>0.001555</td>\n",
       "      <td>NaN</td>\n",
       "      <td>NaN</td>\n",
       "      <td>NaN</td>\n",
       "      <td>NaN</td>\n",
       "      <td>NaN</td>\n",
       "      <td>0.000421</td>\n",
       "    </tr>\n",
       "    <tr>\n",
       "      <th>SK_ID_CURR</th>\n",
       "      <td>0.837311</td>\n",
       "      <td>1.000000</td>\n",
       "      <td>-0.002111</td>\n",
       "      <td>0.000752</td>\n",
       "      <td>0.001551</td>\n",
       "      <td>0.000336</td>\n",
       "      <td>-0.001606</td>\n",
       "      <td>0.000417</td>\n",
       "      <td>0.000623</td>\n",
       "      <td>-0.000976</td>\n",
       "      <td>...</td>\n",
       "      <td>-0.005560</td>\n",
       "      <td>-0.006409</td>\n",
       "      <td>-0.001296</td>\n",
       "      <td>-0.006443</td>\n",
       "      <td>NaN</td>\n",
       "      <td>NaN</td>\n",
       "      <td>NaN</td>\n",
       "      <td>NaN</td>\n",
       "      <td>NaN</td>\n",
       "      <td>-0.000617</td>\n",
       "    </tr>\n",
       "    <tr>\n",
       "      <th>TARGET</th>\n",
       "      <td>-0.002114</td>\n",
       "      <td>-0.002111</td>\n",
       "      <td>1.000000</td>\n",
       "      <td>-0.054710</td>\n",
       "      <td>-0.021850</td>\n",
       "      <td>0.006146</td>\n",
       "      <td>-0.003982</td>\n",
       "      <td>-0.030371</td>\n",
       "      <td>-0.012818</td>\n",
       "      <td>0.078242</td>\n",
       "      <td>...</td>\n",
       "      <td>-0.008871</td>\n",
       "      <td>0.000570</td>\n",
       "      <td>-0.006201</td>\n",
       "      <td>-0.001613</td>\n",
       "      <td>NaN</td>\n",
       "      <td>NaN</td>\n",
       "      <td>NaN</td>\n",
       "      <td>NaN</td>\n",
       "      <td>NaN</td>\n",
       "      <td>-0.060481</td>\n",
       "    </tr>\n",
       "    <tr>\n",
       "      <th>CODE_GENDER</th>\n",
       "      <td>-0.003517</td>\n",
       "      <td>0.000752</td>\n",
       "      <td>-0.054710</td>\n",
       "      <td>1.000000</td>\n",
       "      <td>-0.343445</td>\n",
       "      <td>-0.041584</td>\n",
       "      <td>-0.078534</td>\n",
       "      <td>-0.016903</td>\n",
       "      <td>-0.076724</td>\n",
       "      <td>-0.151347</td>\n",
       "      <td>...</td>\n",
       "      <td>0.003723</td>\n",
       "      <td>0.002509</td>\n",
       "      <td>0.006601</td>\n",
       "      <td>0.002405</td>\n",
       "      <td>NaN</td>\n",
       "      <td>NaN</td>\n",
       "      <td>NaN</td>\n",
       "      <td>NaN</td>\n",
       "      <td>NaN</td>\n",
       "      <td>0.000054</td>\n",
       "    </tr>\n",
       "    <tr>\n",
       "      <th>FLAG_OWN_CAR</th>\n",
       "      <td>0.002091</td>\n",
       "      <td>0.001551</td>\n",
       "      <td>-0.021850</td>\n",
       "      <td>-0.343445</td>\n",
       "      <td>1.000000</td>\n",
       "      <td>0.002095</td>\n",
       "      <td>0.089026</td>\n",
       "      <td>0.116993</td>\n",
       "      <td>0.143514</td>\n",
       "      <td>0.130522</td>\n",
       "      <td>...</td>\n",
       "      <td>0.003321</td>\n",
       "      <td>0.002312</td>\n",
       "      <td>0.004528</td>\n",
       "      <td>-0.002301</td>\n",
       "      <td>NaN</td>\n",
       "      <td>NaN</td>\n",
       "      <td>NaN</td>\n",
       "      <td>NaN</td>\n",
       "      <td>NaN</td>\n",
       "      <td>0.041347</td>\n",
       "    </tr>\n",
       "    <tr>\n",
       "      <th>...</th>\n",
       "      <td>...</td>\n",
       "      <td>...</td>\n",
       "      <td>...</td>\n",
       "      <td>...</td>\n",
       "      <td>...</td>\n",
       "      <td>...</td>\n",
       "      <td>...</td>\n",
       "      <td>...</td>\n",
       "      <td>...</td>\n",
       "      <td>...</td>\n",
       "      <td>...</td>\n",
       "      <td>...</td>\n",
       "      <td>...</td>\n",
       "      <td>...</td>\n",
       "      <td>...</td>\n",
       "      <td>...</td>\n",
       "      <td>...</td>\n",
       "      <td>...</td>\n",
       "      <td>...</td>\n",
       "      <td>...</td>\n",
       "      <td>...</td>\n",
       "    </tr>\n",
       "    <tr>\n",
       "      <th>CC_NAME_CONTRACT_STATUS_nan_MAX</th>\n",
       "      <td>NaN</td>\n",
       "      <td>NaN</td>\n",
       "      <td>NaN</td>\n",
       "      <td>NaN</td>\n",
       "      <td>NaN</td>\n",
       "      <td>NaN</td>\n",
       "      <td>NaN</td>\n",
       "      <td>NaN</td>\n",
       "      <td>NaN</td>\n",
       "      <td>NaN</td>\n",
       "      <td>...</td>\n",
       "      <td>NaN</td>\n",
       "      <td>NaN</td>\n",
       "      <td>NaN</td>\n",
       "      <td>NaN</td>\n",
       "      <td>NaN</td>\n",
       "      <td>NaN</td>\n",
       "      <td>NaN</td>\n",
       "      <td>NaN</td>\n",
       "      <td>NaN</td>\n",
       "      <td>NaN</td>\n",
       "    </tr>\n",
       "    <tr>\n",
       "      <th>CC_NAME_CONTRACT_STATUS_nan_MEAN</th>\n",
       "      <td>NaN</td>\n",
       "      <td>NaN</td>\n",
       "      <td>NaN</td>\n",
       "      <td>NaN</td>\n",
       "      <td>NaN</td>\n",
       "      <td>NaN</td>\n",
       "      <td>NaN</td>\n",
       "      <td>NaN</td>\n",
       "      <td>NaN</td>\n",
       "      <td>NaN</td>\n",
       "      <td>...</td>\n",
       "      <td>NaN</td>\n",
       "      <td>NaN</td>\n",
       "      <td>NaN</td>\n",
       "      <td>NaN</td>\n",
       "      <td>NaN</td>\n",
       "      <td>NaN</td>\n",
       "      <td>NaN</td>\n",
       "      <td>NaN</td>\n",
       "      <td>NaN</td>\n",
       "      <td>NaN</td>\n",
       "    </tr>\n",
       "    <tr>\n",
       "      <th>CC_NAME_CONTRACT_STATUS_nan_SUM</th>\n",
       "      <td>NaN</td>\n",
       "      <td>NaN</td>\n",
       "      <td>NaN</td>\n",
       "      <td>NaN</td>\n",
       "      <td>NaN</td>\n",
       "      <td>NaN</td>\n",
       "      <td>NaN</td>\n",
       "      <td>NaN</td>\n",
       "      <td>NaN</td>\n",
       "      <td>NaN</td>\n",
       "      <td>...</td>\n",
       "      <td>NaN</td>\n",
       "      <td>NaN</td>\n",
       "      <td>NaN</td>\n",
       "      <td>NaN</td>\n",
       "      <td>NaN</td>\n",
       "      <td>NaN</td>\n",
       "      <td>NaN</td>\n",
       "      <td>NaN</td>\n",
       "      <td>NaN</td>\n",
       "      <td>NaN</td>\n",
       "    </tr>\n",
       "    <tr>\n",
       "      <th>CC_NAME_CONTRACT_STATUS_nan_VAR</th>\n",
       "      <td>NaN</td>\n",
       "      <td>NaN</td>\n",
       "      <td>NaN</td>\n",
       "      <td>NaN</td>\n",
       "      <td>NaN</td>\n",
       "      <td>NaN</td>\n",
       "      <td>NaN</td>\n",
       "      <td>NaN</td>\n",
       "      <td>NaN</td>\n",
       "      <td>NaN</td>\n",
       "      <td>...</td>\n",
       "      <td>NaN</td>\n",
       "      <td>NaN</td>\n",
       "      <td>NaN</td>\n",
       "      <td>NaN</td>\n",
       "      <td>NaN</td>\n",
       "      <td>NaN</td>\n",
       "      <td>NaN</td>\n",
       "      <td>NaN</td>\n",
       "      <td>NaN</td>\n",
       "      <td>NaN</td>\n",
       "    </tr>\n",
       "    <tr>\n",
       "      <th>CC_COUNT</th>\n",
       "      <td>0.000421</td>\n",
       "      <td>-0.000617</td>\n",
       "      <td>-0.060481</td>\n",
       "      <td>0.000054</td>\n",
       "      <td>0.041347</td>\n",
       "      <td>0.050258</td>\n",
       "      <td>0.041567</td>\n",
       "      <td>0.131704</td>\n",
       "      <td>0.090125</td>\n",
       "      <td>-0.179924</td>\n",
       "      <td>...</td>\n",
       "      <td>0.080625</td>\n",
       "      <td>-0.025127</td>\n",
       "      <td>0.070610</td>\n",
       "      <td>-0.036712</td>\n",
       "      <td>NaN</td>\n",
       "      <td>NaN</td>\n",
       "      <td>NaN</td>\n",
       "      <td>NaN</td>\n",
       "      <td>NaN</td>\n",
       "      <td>1.000000</td>\n",
       "    </tr>\n",
       "  </tbody>\n",
       "</table>\n",
       "<p>666 rows × 666 columns</p>\n",
       "</div>"
      ],
      "text/plain": [
       "                                     index  SK_ID_CURR    TARGET  CODE_GENDER  \\\n",
       "index                             1.000000    0.837311 -0.002114    -0.003517   \n",
       "SK_ID_CURR                        0.837311    1.000000 -0.002111     0.000752   \n",
       "TARGET                           -0.002114   -0.002111  1.000000    -0.054710   \n",
       "CODE_GENDER                      -0.003517    0.000752 -0.054710     1.000000   \n",
       "FLAG_OWN_CAR                      0.002091    0.001551 -0.021850    -0.343445   \n",
       "...                                    ...         ...       ...          ...   \n",
       "CC_NAME_CONTRACT_STATUS_nan_MAX        NaN         NaN       NaN          NaN   \n",
       "CC_NAME_CONTRACT_STATUS_nan_MEAN       NaN         NaN       NaN          NaN   \n",
       "CC_NAME_CONTRACT_STATUS_nan_SUM        NaN         NaN       NaN          NaN   \n",
       "CC_NAME_CONTRACT_STATUS_nan_VAR        NaN         NaN       NaN          NaN   \n",
       "CC_COUNT                          0.000421   -0.000617 -0.060481     0.000054   \n",
       "\n",
       "                                  FLAG_OWN_CAR  FLAG_OWN_REALTY  \\\n",
       "index                                 0.002091        -0.001558   \n",
       "SK_ID_CURR                            0.001551         0.000336   \n",
       "TARGET                               -0.021850         0.006146   \n",
       "CODE_GENDER                          -0.343445        -0.041584   \n",
       "FLAG_OWN_CAR                          1.000000         0.002095   \n",
       "...                                        ...              ...   \n",
       "CC_NAME_CONTRACT_STATUS_nan_MAX            NaN              NaN   \n",
       "CC_NAME_CONTRACT_STATUS_nan_MEAN           NaN              NaN   \n",
       "CC_NAME_CONTRACT_STATUS_nan_SUM            NaN              NaN   \n",
       "CC_NAME_CONTRACT_STATUS_nan_VAR            NaN              NaN   \n",
       "CC_COUNT                              0.041347         0.050258   \n",
       "\n",
       "                                  AMT_INCOME_TOTAL  AMT_CREDIT  AMT_ANNUITY  \\\n",
       "index                                    -0.008583    0.033421    -0.025803   \n",
       "SK_ID_CURR                               -0.001606    0.000417     0.000623   \n",
       "TARGET                                   -0.003982   -0.030371    -0.012818   \n",
       "CODE_GENDER                              -0.078534   -0.016903    -0.076724   \n",
       "FLAG_OWN_CAR                              0.089026    0.116993     0.143514   \n",
       "...                                            ...         ...          ...   \n",
       "CC_NAME_CONTRACT_STATUS_nan_MAX                NaN         NaN          NaN   \n",
       "CC_NAME_CONTRACT_STATUS_nan_MEAN               NaN         NaN          NaN   \n",
       "CC_NAME_CONTRACT_STATUS_nan_SUM                NaN         NaN          NaN   \n",
       "CC_NAME_CONTRACT_STATUS_nan_VAR                NaN         NaN          NaN   \n",
       "CC_COUNT                                  0.041567    0.131704     0.090125   \n",
       "\n",
       "                                  DAYS_BIRTH  ...  \\\n",
       "index                              -0.000021  ...   \n",
       "SK_ID_CURR                         -0.000976  ...   \n",
       "TARGET                              0.078242  ...   \n",
       "CODE_GENDER                        -0.151347  ...   \n",
       "FLAG_OWN_CAR                        0.130522  ...   \n",
       "...                                      ...  ...   \n",
       "CC_NAME_CONTRACT_STATUS_nan_MAX          NaN  ...   \n",
       "CC_NAME_CONTRACT_STATUS_nan_MEAN         NaN  ...   \n",
       "CC_NAME_CONTRACT_STATUS_nan_SUM          NaN  ...   \n",
       "CC_NAME_CONTRACT_STATUS_nan_VAR          NaN  ...   \n",
       "CC_COUNT                           -0.179924  ...   \n",
       "\n",
       "                                  CC_NAME_CONTRACT_STATUS_Signed_MAX  \\\n",
       "index                                                       0.004458   \n",
       "SK_ID_CURR                                                 -0.005560   \n",
       "TARGET                                                     -0.008871   \n",
       "CODE_GENDER                                                 0.003723   \n",
       "FLAG_OWN_CAR                                                0.003321   \n",
       "...                                                              ...   \n",
       "CC_NAME_CONTRACT_STATUS_nan_MAX                                  NaN   \n",
       "CC_NAME_CONTRACT_STATUS_nan_MEAN                                 NaN   \n",
       "CC_NAME_CONTRACT_STATUS_nan_SUM                                  NaN   \n",
       "CC_NAME_CONTRACT_STATUS_nan_VAR                                  NaN   \n",
       "CC_COUNT                                                    0.080625   \n",
       "\n",
       "                                  CC_NAME_CONTRACT_STATUS_Signed_MEAN  \\\n",
       "index                                                        0.000784   \n",
       "SK_ID_CURR                                                  -0.006409   \n",
       "TARGET                                                       0.000570   \n",
       "CODE_GENDER                                                  0.002509   \n",
       "FLAG_OWN_CAR                                                 0.002312   \n",
       "...                                                               ...   \n",
       "CC_NAME_CONTRACT_STATUS_nan_MAX                                   NaN   \n",
       "CC_NAME_CONTRACT_STATUS_nan_MEAN                                  NaN   \n",
       "CC_NAME_CONTRACT_STATUS_nan_SUM                                   NaN   \n",
       "CC_NAME_CONTRACT_STATUS_nan_VAR                                   NaN   \n",
       "CC_COUNT                                                    -0.025127   \n",
       "\n",
       "                                  CC_NAME_CONTRACT_STATUS_Signed_SUM  \\\n",
       "index                                                       0.006472   \n",
       "SK_ID_CURR                                                 -0.001296   \n",
       "TARGET                                                     -0.006201   \n",
       "CODE_GENDER                                                 0.006601   \n",
       "FLAG_OWN_CAR                                                0.004528   \n",
       "...                                                              ...   \n",
       "CC_NAME_CONTRACT_STATUS_nan_MAX                                  NaN   \n",
       "CC_NAME_CONTRACT_STATUS_nan_MEAN                                 NaN   \n",
       "CC_NAME_CONTRACT_STATUS_nan_SUM                                  NaN   \n",
       "CC_NAME_CONTRACT_STATUS_nan_VAR                                  NaN   \n",
       "CC_COUNT                                                    0.070610   \n",
       "\n",
       "                                  CC_NAME_CONTRACT_STATUS_Signed_VAR  \\\n",
       "index                                                       0.001555   \n",
       "SK_ID_CURR                                                 -0.006443   \n",
       "TARGET                                                     -0.001613   \n",
       "CODE_GENDER                                                 0.002405   \n",
       "FLAG_OWN_CAR                                               -0.002301   \n",
       "...                                                              ...   \n",
       "CC_NAME_CONTRACT_STATUS_nan_MAX                                  NaN   \n",
       "CC_NAME_CONTRACT_STATUS_nan_MEAN                                 NaN   \n",
       "CC_NAME_CONTRACT_STATUS_nan_SUM                                  NaN   \n",
       "CC_NAME_CONTRACT_STATUS_nan_VAR                                  NaN   \n",
       "CC_COUNT                                                   -0.036712   \n",
       "\n",
       "                                  CC_NAME_CONTRACT_STATUS_nan_MIN  \\\n",
       "index                                                         NaN   \n",
       "SK_ID_CURR                                                    NaN   \n",
       "TARGET                                                        NaN   \n",
       "CODE_GENDER                                                   NaN   \n",
       "FLAG_OWN_CAR                                                  NaN   \n",
       "...                                                           ...   \n",
       "CC_NAME_CONTRACT_STATUS_nan_MAX                               NaN   \n",
       "CC_NAME_CONTRACT_STATUS_nan_MEAN                              NaN   \n",
       "CC_NAME_CONTRACT_STATUS_nan_SUM                               NaN   \n",
       "CC_NAME_CONTRACT_STATUS_nan_VAR                               NaN   \n",
       "CC_COUNT                                                      NaN   \n",
       "\n",
       "                                  CC_NAME_CONTRACT_STATUS_nan_MAX  \\\n",
       "index                                                         NaN   \n",
       "SK_ID_CURR                                                    NaN   \n",
       "TARGET                                                        NaN   \n",
       "CODE_GENDER                                                   NaN   \n",
       "FLAG_OWN_CAR                                                  NaN   \n",
       "...                                                           ...   \n",
       "CC_NAME_CONTRACT_STATUS_nan_MAX                               NaN   \n",
       "CC_NAME_CONTRACT_STATUS_nan_MEAN                              NaN   \n",
       "CC_NAME_CONTRACT_STATUS_nan_SUM                               NaN   \n",
       "CC_NAME_CONTRACT_STATUS_nan_VAR                               NaN   \n",
       "CC_COUNT                                                      NaN   \n",
       "\n",
       "                                  CC_NAME_CONTRACT_STATUS_nan_MEAN  \\\n",
       "index                                                          NaN   \n",
       "SK_ID_CURR                                                     NaN   \n",
       "TARGET                                                         NaN   \n",
       "CODE_GENDER                                                    NaN   \n",
       "FLAG_OWN_CAR                                                   NaN   \n",
       "...                                                            ...   \n",
       "CC_NAME_CONTRACT_STATUS_nan_MAX                                NaN   \n",
       "CC_NAME_CONTRACT_STATUS_nan_MEAN                               NaN   \n",
       "CC_NAME_CONTRACT_STATUS_nan_SUM                                NaN   \n",
       "CC_NAME_CONTRACT_STATUS_nan_VAR                                NaN   \n",
       "CC_COUNT                                                       NaN   \n",
       "\n",
       "                                  CC_NAME_CONTRACT_STATUS_nan_SUM  \\\n",
       "index                                                         NaN   \n",
       "SK_ID_CURR                                                    NaN   \n",
       "TARGET                                                        NaN   \n",
       "CODE_GENDER                                                   NaN   \n",
       "FLAG_OWN_CAR                                                  NaN   \n",
       "...                                                           ...   \n",
       "CC_NAME_CONTRACT_STATUS_nan_MAX                               NaN   \n",
       "CC_NAME_CONTRACT_STATUS_nan_MEAN                              NaN   \n",
       "CC_NAME_CONTRACT_STATUS_nan_SUM                               NaN   \n",
       "CC_NAME_CONTRACT_STATUS_nan_VAR                               NaN   \n",
       "CC_COUNT                                                      NaN   \n",
       "\n",
       "                                  CC_NAME_CONTRACT_STATUS_nan_VAR  CC_COUNT  \n",
       "index                                                         NaN  0.000421  \n",
       "SK_ID_CURR                                                    NaN -0.000617  \n",
       "TARGET                                                        NaN -0.060481  \n",
       "CODE_GENDER                                                   NaN  0.000054  \n",
       "FLAG_OWN_CAR                                                  NaN  0.041347  \n",
       "...                                                           ...       ...  \n",
       "CC_NAME_CONTRACT_STATUS_nan_MAX                               NaN       NaN  \n",
       "CC_NAME_CONTRACT_STATUS_nan_MEAN                              NaN       NaN  \n",
       "CC_NAME_CONTRACT_STATUS_nan_SUM                               NaN       NaN  \n",
       "CC_NAME_CONTRACT_STATUS_nan_VAR                               NaN       NaN  \n",
       "CC_COUNT                                                      NaN  1.000000  \n",
       "\n",
       "[666 rows x 666 columns]"
      ]
     },
     "execution_count": 91,
     "metadata": {},
     "output_type": "execute_result"
    }
   ],
   "source": [
    "df_corr.corr()"
   ]
  },
  {
   "cell_type": "code",
   "execution_count": null,
   "id": "b5427296",
   "metadata": {},
   "outputs": [],
   "source": [
    "#Graphiquement avec une heatmap :\n",
    "h = sns.heatmap(df_corr.corr(), linewidth = 0.5, cmap = \"coolwarm\")"
   ]
  },
  {
   "cell_type": "code",
   "execution_count": null,
   "id": "70692994",
   "metadata": {},
   "outputs": [],
   "source": []
  },
  {
   "cell_type": "code",
   "execution_count": null,
   "id": "aeac138e",
   "metadata": {},
   "outputs": [],
   "source": []
  },
  {
   "cell_type": "code",
   "execution_count": null,
   "id": "c37423ab",
   "metadata": {},
   "outputs": [],
   "source": []
  },
  {
   "cell_type": "code",
   "execution_count": 46,
   "id": "df11e6a2",
   "metadata": {},
   "outputs": [],
   "source": [
    "from sklearn.metrics import roc_auc_score"
   ]
  },
  {
   "cell_type": "code",
   "execution_count": 42,
   "id": "0adaf387",
   "metadata": {},
   "outputs": [],
   "source": [
    "from sklearn.model_selection import StratifiedKFold\n",
    "\n",
    "X = train_df.drop('TARGET', axis = 1)\n",
    "y = train_df['TARGET']\n",
    "folds = StratifiedKFold(n_splits=5, shuffle=True, random_state=24)\n",
    "cv = folds.split(X, y)\n",
    "cv = list(cv)"
   ]
  },
  {
   "cell_type": "code",
   "execution_count": 47,
   "id": "b2d60770",
   "metadata": {},
   "outputs": [
    {
     "name": "stdout",
     "output_type": "stream",
     "text": [
      "Fold  1 AUC : 0.607353\n",
      "Fold  2 AUC : 0.605558\n",
      "Fold  3 AUC : 0.603728\n",
      "Fold  4 AUC : 0.607800\n",
      "Fold  5 AUC : 0.602450\n"
     ]
    },
    {
     "ename": "NameError",
     "evalue": "name 't1' is not defined",
     "output_type": "error",
     "traceback": [
      "\u001b[1;31m---------------------------------------------------------------------------\u001b[0m",
      "\u001b[1;31mNameError\u001b[0m                                 Traceback (most recent call last)",
      "\u001b[1;32m<ipython-input-47-475016f3c572>\u001b[0m in \u001b[0;36m<module>\u001b[1;34m\u001b[0m\n\u001b[0;32m     30\u001b[0m     \u001b[0mprint\u001b[0m\u001b[1;33m(\u001b[0m\u001b[1;34m'Fold %2d AUC : %.6f'\u001b[0m \u001b[1;33m%\u001b[0m \u001b[1;33m(\u001b[0m\u001b[0mn_fold\u001b[0m \u001b[1;33m+\u001b[0m \u001b[1;36m1\u001b[0m\u001b[1;33m,\u001b[0m \u001b[0mroc_auc_score\u001b[0m\u001b[1;33m(\u001b[0m\u001b[0mvalid_y\u001b[0m\u001b[1;33m,\u001b[0m \u001b[0moof_preds\u001b[0m\u001b[1;33m[\u001b[0m\u001b[0mvalid_idx\u001b[0m\u001b[1;33m]\u001b[0m\u001b[1;33m)\u001b[0m\u001b[1;33m)\u001b[0m\u001b[1;33m)\u001b[0m\u001b[1;33m\u001b[0m\u001b[1;33m\u001b[0m\u001b[0m\n\u001b[0;32m     31\u001b[0m \u001b[1;33m\u001b[0m\u001b[0m\n\u001b[1;32m---> 32\u001b[1;33m \u001b[0mtime_round\u001b[0m \u001b[1;33m=\u001b[0m \u001b[0mnp\u001b[0m\u001b[1;33m.\u001b[0m\u001b[0mround\u001b[0m\u001b[1;33m(\u001b[0m\u001b[0mt0\u001b[0m \u001b[1;33m-\u001b[0m \u001b[0mt1\u001b[0m\u001b[1;33m,\u001b[0m \u001b[1;36m2\u001b[0m\u001b[1;33m)\u001b[0m\u001b[1;33m\u001b[0m\u001b[1;33m\u001b[0m\u001b[0m\n\u001b[0m\u001b[0;32m     33\u001b[0m \u001b[0mprint\u001b[0m\u001b[1;33m(\u001b[0m\u001b[1;34mf'Time : {time_round} secondes'\u001b[0m\u001b[1;33m)\u001b[0m\u001b[1;33m\u001b[0m\u001b[1;33m\u001b[0m\u001b[0m\n",
      "\u001b[1;31mNameError\u001b[0m: name 't1' is not defined"
     ]
    }
   ],
   "source": [
    "t0 = time.time()\n",
    "\n",
    "oof_preds = np.zeros(train_df.shape[0])\n",
    "sub_preds = np.zeros(test_df.shape[0])\n",
    "feature_importance_df = pd.DataFrame()\n",
    "feats = [f for f in train_df.columns if f not in ['TARGET','SK_ID_CURR','SK_ID_BUREAU','SK_ID_PREV','index']]\n",
    "\n",
    "# On sépare notre train en train et validation\n",
    "for n_fold, (train_idx, valid_idx) in enumerate(cv):\n",
    "    train_x, train_y = train_df[feats].iloc[train_idx], train_df['TARGET'].iloc[train_idx]\n",
    "    valid_x, valid_y = train_df[feats].iloc[valid_idx], train_df['TARGET'].iloc[valid_idx]\n",
    "    \n",
    "    clf = LogisticRegression(class_weight={0:1, 1:5}, random_state=24)\n",
    "    clf.fit(train_x, train_y)\n",
    "    \n",
    "    oof_preds[valid_idx] = clf.predict_proba(valid_x)[:, 1]\n",
    "    sub_preds += clf.predict_proba(test_df[feats])[:, 1] / folds.n_splits\n",
    "    \n",
    "    \n",
    "    fold_importance_df = pd.DataFrame()\n",
    "    fold_importance_df[\"feature\"] = feats\n",
    "    \n",
    "    feature_importances = []\n",
    "    for _, v in enumerate(clf.coef_[0]):\n",
    "        feature_importances.append(v)\n",
    "    \n",
    "    fold_importance_df[\"importance\"] = feature_importances\n",
    "    fold_importance_df[\"fold\"] = n_fold + 1\n",
    "    feature_importance_df = pd.concat([feature_importance_df, fold_importance_df], axis=0)\n",
    "    print('Fold %2d AUC : %.6f' % (n_fold + 1, roc_auc_score(valid_y, oof_preds[valid_idx])))\n",
    "\n",
    "t1 = time.time()\n",
    "time_round = np.round(t0 - t1, 2)\n",
    "print(f'Time : {time_round} secondes')"
   ]
  },
  {
   "cell_type": "code",
   "execution_count": 44,
   "id": "2a756b75",
   "metadata": {},
   "outputs": [],
   "source": [
    "# On met nos scores dans le bon DF et on calcule accuracy pour voir ce que ça donne\n",
    "# Voir la confusion matrix"
   ]
  },
  {
   "cell_type": "code",
   "execution_count": null,
   "id": "669f0fc1",
   "metadata": {},
   "outputs": [],
   "source": [
    "# Mettre d'autres metrics"
   ]
  },
  {
   "cell_type": "code",
   "execution_count": 60,
   "id": "c3a4fca9",
   "metadata": {},
   "outputs": [],
   "source": [
    "y_pred_train = clf.predict(train_df.drop('TARGET', axis = 1))"
   ]
  },
  {
   "cell_type": "code",
   "execution_count": 61,
   "id": "8acadc45",
   "metadata": {},
   "outputs": [
    {
     "data": {
      "text/plain": [
       "0.9192701304360551"
      ]
     },
     "execution_count": 61,
     "metadata": {},
     "output_type": "execute_result"
    }
   ],
   "source": [
    "accuracy_score(y, y_pred_train)"
   ]
  },
  {
   "cell_type": "code",
   "execution_count": null,
   "id": "668e6403",
   "metadata": {},
   "outputs": [],
   "source": [
    "df_try = train_df"
   ]
  },
  {
   "cell_type": "code",
   "execution_count": null,
   "id": "ce54f36c",
   "metadata": {},
   "outputs": [],
   "source": []
  },
  {
   "cell_type": "code",
   "execution_count": null,
   "id": "c00ff6f7",
   "metadata": {},
   "outputs": [],
   "source": []
  },
  {
   "cell_type": "code",
   "execution_count": null,
   "id": "f286797a",
   "metadata": {},
   "outputs": [],
   "source": []
  },
  {
   "cell_type": "code",
   "execution_count": null,
   "id": "395a3bad",
   "metadata": {},
   "outputs": [],
   "source": []
  }
 ],
 "metadata": {
  "kernelspec": {
   "display_name": "Python 3",
   "language": "python",
   "name": "python3"
  },
  "language_info": {
   "codemirror_mode": {
    "name": "ipython",
    "version": 3
   },
   "file_extension": ".py",
   "mimetype": "text/x-python",
   "name": "python",
   "nbconvert_exporter": "python",
   "pygments_lexer": "ipython3",
   "version": "3.8.8"
  }
 },
 "nbformat": 4,
 "nbformat_minor": 5
}
