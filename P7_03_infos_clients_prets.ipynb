{
 "cells": [
  {
   "cell_type": "code",
   "execution_count": 1,
   "id": "d8b2885e",
   "metadata": {},
   "outputs": [],
   "source": [
    "import pandas as pd\n",
    "import numpy as np"
   ]
  },
  {
   "cell_type": "code",
   "execution_count": 2,
   "id": "d40395c5",
   "metadata": {},
   "outputs": [],
   "source": [
    "# On charge nos jeux de données\n",
    "df_appli_test = pd.read_csv('application_test.csv')\n",
    "df = pd.read_csv('application_train.csv')\n",
    "bureau = pd.read_csv('bureau.csv')\n",
    "bureau_balance = pd.read_csv('bureau_balance.csv')\n",
    "prev_app = pd.read_csv('previous_application.csv')"
   ]
  },
  {
   "cell_type": "code",
   "execution_count": 3,
   "id": "0ca2b4ed",
   "metadata": {},
   "outputs": [
    {
     "name": "stderr",
     "output_type": "stream",
     "text": [
      "C:\\Users\\victo\\AppData\\Local\\Temp\\ipykernel_30128\\3370372152.py:2: FutureWarning: The frame.append method is deprecated and will be removed from pandas in a future version. Use pandas.concat instead.\n",
      "  df = df.append(df_appli_test).reset_index()\n"
     ]
    }
   ],
   "source": [
    "# On veut tous nos clients\n",
    "df = df.append(df_appli_test).reset_index()"
   ]
  },
  {
   "cell_type": "markdown",
   "id": "75eb9d8c",
   "metadata": {},
   "source": [
    "## Informations sur les clients"
   ]
  },
  {
   "cell_type": "code",
   "execution_count": 4,
   "id": "83713790",
   "metadata": {},
   "outputs": [],
   "source": [
    "# On crée des copies pour ne pas changer nos dataframes initiaux\n",
    "df_bis = df.copy()\n",
    "bureau_bis = bureau.copy()"
   ]
  },
  {
   "cell_type": "code",
   "execution_count": 5,
   "id": "5e9a6b2e",
   "metadata": {},
   "outputs": [],
   "source": [
    "# On ne garde que quelques colonnes\n",
    "df_bis = df_bis[['SK_ID_CURR', 'CODE_GENDER', 'DAYS_BIRTH', 'OCCUPATION_TYPE',\n",
    "                 'NAME_INCOME_TYPE', 'AMT_INCOME_TOTAL', 'FLAG_OWN_CAR', 'FLAG_OWN_REALTY']]\n",
    "\n",
    "bureau_bis = bureau_bis[['SK_ID_CURR', 'AMT_CREDIT_SUM_DEBT']]"
   ]
  },
  {
   "cell_type": "code",
   "execution_count": 6,
   "id": "5d80f6ff",
   "metadata": {},
   "outputs": [],
   "source": [
    "# On joint les dataframes\n",
    "infos_clients = df_bis.join(bureau_bis.set_index('SK_ID_CURR'), how='left', on='SK_ID_CURR')"
   ]
  },
  {
   "cell_type": "code",
   "execution_count": 7,
   "id": "c4b01963",
   "metadata": {},
   "outputs": [
    {
     "data": {
      "text/plain": [
       "SK_ID_CURR                  0\n",
       "CODE_GENDER                 0\n",
       "DAYS_BIRTH                  0\n",
       "OCCUPATION_TYPE        552858\n",
       "NAME_INCOME_TYPE            0\n",
       "AMT_INCOME_TOTAL            0\n",
       "FLAG_OWN_CAR                0\n",
       "FLAG_OWN_REALTY             0\n",
       "AMT_CREDIT_SUM_DEBT    308113\n",
       "dtype: int64"
      ]
     },
     "execution_count": 7,
     "metadata": {},
     "output_type": "execute_result"
    }
   ],
   "source": [
    "# On regarde nos valeurs manquantes\n",
    "infos_clients.isnull().sum()"
   ]
  },
  {
   "cell_type": "code",
   "execution_count": 8,
   "id": "9bb65f40",
   "metadata": {},
   "outputs": [],
   "source": [
    "# On les remplit\n",
    "infos_clients['OCCUPATION_TYPE'].fillna('Not applicable / Not specified', inplace=True)\n",
    "\n",
    "# On considère qu'ils n'avaient pas de crédit auparavant\n",
    "infos_clients['AMT_CREDIT_SUM_DEBT'].fillna(0, inplace=True)"
   ]
  },
  {
   "cell_type": "code",
   "execution_count": 9,
   "id": "3d5b0d2a",
   "metadata": {},
   "outputs": [],
   "source": [
    "# On regroupe selon les numéros de prêt\n",
    "infos_clients.set_index('SK_ID_CURR', inplace=True)\n",
    "infos_clients['AMT_CREDIT_SUM_DEBT'] = infos_clients.groupby(['SK_ID_CURR'])['AMT_CREDIT_SUM_DEBT'].max()\n",
    "infos_clients = infos_clients.reset_index()"
   ]
  },
  {
   "cell_type": "code",
   "execution_count": 10,
   "id": "cd173bd4",
   "metadata": {},
   "outputs": [],
   "source": [
    "# On remplace nos -1 par un message\n",
    "infos_clients.loc[infos_clients['AMT_CREDIT_SUM_DEBT'] == -1, 'AMT_CREDIT_SUM_DEBT'] = 'Not applicable / Not specified'"
   ]
  },
  {
   "cell_type": "code",
   "execution_count": 11,
   "id": "e3eea701",
   "metadata": {},
   "outputs": [
    {
     "name": "stdout",
     "output_type": "stream",
     "text": [
      "(1766872, 9) \n",
      "\n",
      "(356255, 9)\n"
     ]
    }
   ],
   "source": [
    "# On supprime les doublons\n",
    "print(infos_clients.shape, '\\n')\n",
    "infos_clients = infos_clients.drop_duplicates()\n",
    "print(infos_clients.shape)"
   ]
  },
  {
   "cell_type": "code",
   "execution_count": 12,
   "id": "e87fd47f",
   "metadata": {},
   "outputs": [],
   "source": [
    "# On gère notre colonne date de naissance\n",
    "infos_clients['DAYS_BIRTH'] = round(infos_clients['DAYS_BIRTH'] / 365.25 * (-1)).astype(int)"
   ]
  },
  {
   "cell_type": "code",
   "execution_count": 13,
   "id": "598fd000",
   "metadata": {},
   "outputs": [],
   "source": [
    "infos_clients['AMT_CREDIT_SUM_DEBT'] = infos_clients['AMT_CREDIT_SUM_DEBT'].astype(float)"
   ]
  },
  {
   "cell_type": "code",
   "execution_count": 14,
   "id": "29213006",
   "metadata": {},
   "outputs": [],
   "source": [
    "# On renommne nos colonnes\n",
    "infos_clients.columns = ['ID_PRET', 'SEXE', 'AGE', 'OCCUPATION', 'SOURCE_REVENU', 'REVENU_TOTAL', 'VOITURE', 'IMMOBILIER', 'DETTE_TOTALE']"
   ]
  },
  {
   "cell_type": "code",
   "execution_count": 15,
   "id": "05c78511",
   "metadata": {},
   "outputs": [
    {
     "data": {
      "text/html": [
       "<div>\n",
       "<style scoped>\n",
       "    .dataframe tbody tr th:only-of-type {\n",
       "        vertical-align: middle;\n",
       "    }\n",
       "\n",
       "    .dataframe tbody tr th {\n",
       "        vertical-align: top;\n",
       "    }\n",
       "\n",
       "    .dataframe thead th {\n",
       "        text-align: right;\n",
       "    }\n",
       "</style>\n",
       "<table border=\"1\" class=\"dataframe\">\n",
       "  <thead>\n",
       "    <tr style=\"text-align: right;\">\n",
       "      <th></th>\n",
       "      <th>ID_PRET</th>\n",
       "      <th>SEXE</th>\n",
       "      <th>AGE</th>\n",
       "      <th>OCCUPATION</th>\n",
       "      <th>SOURCE_REVENU</th>\n",
       "      <th>REVENU_TOTAL</th>\n",
       "      <th>VOITURE</th>\n",
       "      <th>IMMOBILIER</th>\n",
       "      <th>DETTE_TOTALE</th>\n",
       "    </tr>\n",
       "  </thead>\n",
       "  <tbody>\n",
       "    <tr>\n",
       "      <th>0</th>\n",
       "      <td>100002</td>\n",
       "      <td>M</td>\n",
       "      <td>26</td>\n",
       "      <td>Laborers</td>\n",
       "      <td>Working</td>\n",
       "      <td>202500.0</td>\n",
       "      <td>N</td>\n",
       "      <td>Y</td>\n",
       "      <td>245781.0</td>\n",
       "    </tr>\n",
       "    <tr>\n",
       "      <th>8</th>\n",
       "      <td>100003</td>\n",
       "      <td>F</td>\n",
       "      <td>46</td>\n",
       "      <td>Core staff</td>\n",
       "      <td>State servant</td>\n",
       "      <td>270000.0</td>\n",
       "      <td>N</td>\n",
       "      <td>N</td>\n",
       "      <td>0.0</td>\n",
       "    </tr>\n",
       "    <tr>\n",
       "      <th>12</th>\n",
       "      <td>100004</td>\n",
       "      <td>M</td>\n",
       "      <td>52</td>\n",
       "      <td>Laborers</td>\n",
       "      <td>Working</td>\n",
       "      <td>67500.0</td>\n",
       "      <td>Y</td>\n",
       "      <td>Y</td>\n",
       "      <td>0.0</td>\n",
       "    </tr>\n",
       "    <tr>\n",
       "      <th>14</th>\n",
       "      <td>100006</td>\n",
       "      <td>F</td>\n",
       "      <td>52</td>\n",
       "      <td>Laborers</td>\n",
       "      <td>Working</td>\n",
       "      <td>135000.0</td>\n",
       "      <td>N</td>\n",
       "      <td>Y</td>\n",
       "      <td>0.0</td>\n",
       "    </tr>\n",
       "    <tr>\n",
       "      <th>15</th>\n",
       "      <td>100007</td>\n",
       "      <td>M</td>\n",
       "      <td>55</td>\n",
       "      <td>Core staff</td>\n",
       "      <td>Working</td>\n",
       "      <td>121500.0</td>\n",
       "      <td>N</td>\n",
       "      <td>Y</td>\n",
       "      <td>0.0</td>\n",
       "    </tr>\n",
       "  </tbody>\n",
       "</table>\n",
       "</div>"
      ],
      "text/plain": [
       "    ID_PRET SEXE  AGE  OCCUPATION  SOURCE_REVENU  REVENU_TOTAL VOITURE  \\\n",
       "0    100002    M   26    Laborers        Working      202500.0       N   \n",
       "8    100003    F   46  Core staff  State servant      270000.0       N   \n",
       "12   100004    M   52    Laborers        Working       67500.0       Y   \n",
       "14   100006    F   52    Laborers        Working      135000.0       N   \n",
       "15   100007    M   55  Core staff        Working      121500.0       N   \n",
       "\n",
       "   IMMOBILIER  DETTE_TOTALE  \n",
       "0           Y      245781.0  \n",
       "8           N           0.0  \n",
       "12          Y           0.0  \n",
       "14          Y           0.0  \n",
       "15          Y           0.0  "
      ]
     },
     "execution_count": 15,
     "metadata": {},
     "output_type": "execute_result"
    }
   ],
   "source": [
    "# On vérifie\n",
    "infos_clients.head()"
   ]
  },
  {
   "cell_type": "code",
   "execution_count": 16,
   "id": "df0629af",
   "metadata": {},
   "outputs": [],
   "source": [
    "df_sample = pd.read_csv('data_preprocessed_sample.csv')"
   ]
  },
  {
   "cell_type": "code",
   "execution_count": 17,
   "id": "de7db900",
   "metadata": {},
   "outputs": [
    {
     "data": {
      "text/html": [
       "<div>\n",
       "<style scoped>\n",
       "    .dataframe tbody tr th:only-of-type {\n",
       "        vertical-align: middle;\n",
       "    }\n",
       "\n",
       "    .dataframe tbody tr th {\n",
       "        vertical-align: top;\n",
       "    }\n",
       "\n",
       "    .dataframe thead th {\n",
       "        text-align: right;\n",
       "    }\n",
       "</style>\n",
       "<table border=\"1\" class=\"dataframe\">\n",
       "  <thead>\n",
       "    <tr style=\"text-align: right;\">\n",
       "      <th></th>\n",
       "      <th>Unnamed: 0</th>\n",
       "      <th>index</th>\n",
       "      <th>SK_ID_CURR</th>\n",
       "      <th>TARGET</th>\n",
       "      <th>CODE_GENDER</th>\n",
       "      <th>FLAG_OWN_CAR</th>\n",
       "      <th>FLAG_OWN_REALTY</th>\n",
       "      <th>AMT_INCOME_TOTAL</th>\n",
       "      <th>AMT_CREDIT</th>\n",
       "      <th>AMT_ANNUITY</th>\n",
       "      <th>...</th>\n",
       "      <th>CC_NAME_CONTRACT_STATUS_Refused_SUM</th>\n",
       "      <th>CC_NAME_CONTRACT_STATUS_Sent proposal_MIN</th>\n",
       "      <th>CC_NAME_CONTRACT_STATUS_Sent proposal_MAX</th>\n",
       "      <th>CC_NAME_CONTRACT_STATUS_Sent proposal_MEAN</th>\n",
       "      <th>CC_NAME_CONTRACT_STATUS_Sent proposal_SUM</th>\n",
       "      <th>CC_NAME_CONTRACT_STATUS_Signed_MIN</th>\n",
       "      <th>CC_NAME_CONTRACT_STATUS_Signed_MAX</th>\n",
       "      <th>CC_NAME_CONTRACT_STATUS_Signed_MEAN</th>\n",
       "      <th>CC_NAME_CONTRACT_STATUS_Signed_SUM</th>\n",
       "      <th>CC_COUNT</th>\n",
       "    </tr>\n",
       "  </thead>\n",
       "  <tbody>\n",
       "    <tr>\n",
       "      <th>0</th>\n",
       "      <td>271920</td>\n",
       "      <td>271920</td>\n",
       "      <td>415254</td>\n",
       "      <td>0.0</td>\n",
       "      <td>0</td>\n",
       "      <td>0</td>\n",
       "      <td>0</td>\n",
       "      <td>90000.0</td>\n",
       "      <td>178290.0</td>\n",
       "      <td>10084.5</td>\n",
       "      <td>...</td>\n",
       "      <td>0.0</td>\n",
       "      <td>0.0</td>\n",
       "      <td>0.0</td>\n",
       "      <td>0.0</td>\n",
       "      <td>0.0</td>\n",
       "      <td>0.0</td>\n",
       "      <td>0.0</td>\n",
       "      <td>0.0</td>\n",
       "      <td>0.0</td>\n",
       "      <td>0.0</td>\n",
       "    </tr>\n",
       "    <tr>\n",
       "      <th>1</th>\n",
       "      <td>59440</td>\n",
       "      <td>59440</td>\n",
       "      <td>168900</td>\n",
       "      <td>0.0</td>\n",
       "      <td>1</td>\n",
       "      <td>0</td>\n",
       "      <td>0</td>\n",
       "      <td>90000.0</td>\n",
       "      <td>191880.0</td>\n",
       "      <td>18688.5</td>\n",
       "      <td>...</td>\n",
       "      <td>0.0</td>\n",
       "      <td>0.0</td>\n",
       "      <td>0.0</td>\n",
       "      <td>0.0</td>\n",
       "      <td>0.0</td>\n",
       "      <td>0.0</td>\n",
       "      <td>0.0</td>\n",
       "      <td>0.0</td>\n",
       "      <td>0.0</td>\n",
       "      <td>0.0</td>\n",
       "    </tr>\n",
       "    <tr>\n",
       "      <th>2</th>\n",
       "      <td>164858</td>\n",
       "      <td>164858</td>\n",
       "      <td>291107</td>\n",
       "      <td>0.0</td>\n",
       "      <td>1</td>\n",
       "      <td>0</td>\n",
       "      <td>0</td>\n",
       "      <td>180000.0</td>\n",
       "      <td>405000.0</td>\n",
       "      <td>20250.0</td>\n",
       "      <td>...</td>\n",
       "      <td>0.0</td>\n",
       "      <td>0.0</td>\n",
       "      <td>0.0</td>\n",
       "      <td>0.0</td>\n",
       "      <td>0.0</td>\n",
       "      <td>0.0</td>\n",
       "      <td>0.0</td>\n",
       "      <td>0.0</td>\n",
       "      <td>0.0</td>\n",
       "      <td>0.0</td>\n",
       "    </tr>\n",
       "    <tr>\n",
       "      <th>3</th>\n",
       "      <td>64434</td>\n",
       "      <td>64434</td>\n",
       "      <td>174719</td>\n",
       "      <td>0.0</td>\n",
       "      <td>0</td>\n",
       "      <td>1</td>\n",
       "      <td>1</td>\n",
       "      <td>292500.0</td>\n",
       "      <td>1506816.0</td>\n",
       "      <td>47443.5</td>\n",
       "      <td>...</td>\n",
       "      <td>0.0</td>\n",
       "      <td>0.0</td>\n",
       "      <td>0.0</td>\n",
       "      <td>0.0</td>\n",
       "      <td>0.0</td>\n",
       "      <td>0.0</td>\n",
       "      <td>0.0</td>\n",
       "      <td>0.0</td>\n",
       "      <td>0.0</td>\n",
       "      <td>79.0</td>\n",
       "    </tr>\n",
       "    <tr>\n",
       "      <th>4</th>\n",
       "      <td>216735</td>\n",
       "      <td>216735</td>\n",
       "      <td>351129</td>\n",
       "      <td>0.0</td>\n",
       "      <td>1</td>\n",
       "      <td>0</td>\n",
       "      <td>1</td>\n",
       "      <td>112500.0</td>\n",
       "      <td>247275.0</td>\n",
       "      <td>19953.0</td>\n",
       "      <td>...</td>\n",
       "      <td>0.0</td>\n",
       "      <td>0.0</td>\n",
       "      <td>0.0</td>\n",
       "      <td>0.0</td>\n",
       "      <td>0.0</td>\n",
       "      <td>0.0</td>\n",
       "      <td>0.0</td>\n",
       "      <td>0.0</td>\n",
       "      <td>0.0</td>\n",
       "      <td>0.0</td>\n",
       "    </tr>\n",
       "  </tbody>\n",
       "</table>\n",
       "<p>5 rows × 576 columns</p>\n",
       "</div>"
      ],
      "text/plain": [
       "   Unnamed: 0   index  SK_ID_CURR  TARGET  CODE_GENDER  FLAG_OWN_CAR  \\\n",
       "0      271920  271920      415254     0.0            0             0   \n",
       "1       59440   59440      168900     0.0            1             0   \n",
       "2      164858  164858      291107     0.0            1             0   \n",
       "3       64434   64434      174719     0.0            0             1   \n",
       "4      216735  216735      351129     0.0            1             0   \n",
       "\n",
       "   FLAG_OWN_REALTY  AMT_INCOME_TOTAL  AMT_CREDIT  AMT_ANNUITY  ...  \\\n",
       "0                0           90000.0    178290.0      10084.5  ...   \n",
       "1                0           90000.0    191880.0      18688.5  ...   \n",
       "2                0          180000.0    405000.0      20250.0  ...   \n",
       "3                1          292500.0   1506816.0      47443.5  ...   \n",
       "4                1          112500.0    247275.0      19953.0  ...   \n",
       "\n",
       "   CC_NAME_CONTRACT_STATUS_Refused_SUM  \\\n",
       "0                                  0.0   \n",
       "1                                  0.0   \n",
       "2                                  0.0   \n",
       "3                                  0.0   \n",
       "4                                  0.0   \n",
       "\n",
       "   CC_NAME_CONTRACT_STATUS_Sent proposal_MIN  \\\n",
       "0                                        0.0   \n",
       "1                                        0.0   \n",
       "2                                        0.0   \n",
       "3                                        0.0   \n",
       "4                                        0.0   \n",
       "\n",
       "   CC_NAME_CONTRACT_STATUS_Sent proposal_MAX  \\\n",
       "0                                        0.0   \n",
       "1                                        0.0   \n",
       "2                                        0.0   \n",
       "3                                        0.0   \n",
       "4                                        0.0   \n",
       "\n",
       "   CC_NAME_CONTRACT_STATUS_Sent proposal_MEAN  \\\n",
       "0                                         0.0   \n",
       "1                                         0.0   \n",
       "2                                         0.0   \n",
       "3                                         0.0   \n",
       "4                                         0.0   \n",
       "\n",
       "   CC_NAME_CONTRACT_STATUS_Sent proposal_SUM  \\\n",
       "0                                        0.0   \n",
       "1                                        0.0   \n",
       "2                                        0.0   \n",
       "3                                        0.0   \n",
       "4                                        0.0   \n",
       "\n",
       "   CC_NAME_CONTRACT_STATUS_Signed_MIN  CC_NAME_CONTRACT_STATUS_Signed_MAX  \\\n",
       "0                                 0.0                                 0.0   \n",
       "1                                 0.0                                 0.0   \n",
       "2                                 0.0                                 0.0   \n",
       "3                                 0.0                                 0.0   \n",
       "4                                 0.0                                 0.0   \n",
       "\n",
       "   CC_NAME_CONTRACT_STATUS_Signed_MEAN  CC_NAME_CONTRACT_STATUS_Signed_SUM  \\\n",
       "0                                  0.0                                 0.0   \n",
       "1                                  0.0                                 0.0   \n",
       "2                                  0.0                                 0.0   \n",
       "3                                  0.0                                 0.0   \n",
       "4                                  0.0                                 0.0   \n",
       "\n",
       "   CC_COUNT  \n",
       "0       0.0  \n",
       "1       0.0  \n",
       "2       0.0  \n",
       "3      79.0  \n",
       "4       0.0  \n",
       "\n",
       "[5 rows x 576 columns]"
      ]
     },
     "execution_count": 17,
     "metadata": {},
     "output_type": "execute_result"
    }
   ],
   "source": [
    "df_sample.head()"
   ]
  },
  {
   "cell_type": "code",
   "execution_count": 18,
   "id": "6d4dacb9",
   "metadata": {},
   "outputs": [],
   "source": [
    "loan_ids = df_sample['SK_ID_CURR'].unique().tolist()"
   ]
  },
  {
   "cell_type": "code",
   "execution_count": 19,
   "id": "dcfe6896",
   "metadata": {},
   "outputs": [],
   "source": [
    "infos_clients = infos_clients[infos_clients['ID_PRET'].isin(loan_ids)]"
   ]
  },
  {
   "cell_type": "code",
   "execution_count": 20,
   "id": "6e879588",
   "metadata": {},
   "outputs": [
    {
     "data": {
      "text/plain": [
       "(3563, 9)"
      ]
     },
     "execution_count": 20,
     "metadata": {},
     "output_type": "execute_result"
    }
   ],
   "source": [
    "infos_clients.shape"
   ]
  },
  {
   "cell_type": "code",
   "execution_count": 21,
   "id": "c4e60f36",
   "metadata": {},
   "outputs": [],
   "source": [
    "# On sauvegarde\n",
    "df_csv_clients = infos_clients.to_csv('infos_clients.csv')"
   ]
  },
  {
   "cell_type": "markdown",
   "id": "89c00bb7",
   "metadata": {},
   "source": [
    "## Informations sur les prêts"
   ]
  },
  {
   "cell_type": "code",
   "execution_count": 22,
   "id": "2d73a5c4",
   "metadata": {},
   "outputs": [],
   "source": [
    "# On crée des copies pour ne pas changer nos dataframes initiaux\n",
    "df_bis = df.copy()\n",
    "prev_app_bis = prev_app.copy()\n",
    "bureau_bis = bureau.copy()\n",
    "bureau_balance_bis = bureau_balance.copy()"
   ]
  },
  {
   "cell_type": "code",
   "execution_count": 23,
   "id": "8797f822",
   "metadata": {},
   "outputs": [],
   "source": [
    "# On ne garde que quelques colonnes\n",
    "df_bis = df_bis[['SK_ID_CURR', 'NAME_CONTRACT_TYPE', 'AMT_CREDIT', 'AMT_ANNUITY',\n",
    "                 'EXT_SOURCE_1', 'EXT_SOURCE_2', 'EXT_SOURCE_3']]\n",
    "\n",
    "prev_app_bis = prev_app_bis[['SK_ID_CURR', 'CODE_REJECT_REASON', 'NAME_CASH_LOAN_PURPOSE']]\n",
    "\n",
    "bureau_bis = bureau_bis[['SK_ID_CURR', 'SK_ID_BUREAU', 'AMT_CREDIT_MAX_OVERDUE', 'AMT_CREDIT_SUM_OVERDUE']]\n",
    "\n",
    "bureau_balance_bis = bureau_balance_bis[['SK_ID_BUREAU', 'STATUS']]"
   ]
  },
  {
   "cell_type": "code",
   "execution_count": 24,
   "id": "e6d6ce25",
   "metadata": {},
   "outputs": [],
   "source": [
    "# On joint les dataframes bureau et bureau_balance\n",
    "bureau_bis = bureau_bis.join(bureau_balance_bis.set_index('SK_ID_BUREAU'), how='left', on='SK_ID_BUREAU')"
   ]
  },
  {
   "cell_type": "code",
   "execution_count": 25,
   "id": "a8689d45",
   "metadata": {},
   "outputs": [
    {
     "data": {
      "text/plain": [
       "SK_ID_CURR                       0\n",
       "SK_ID_BUREAU                     0\n",
       "AMT_CREDIT_MAX_OVERDUE    18130741\n",
       "AMT_CREDIT_SUM_OVERDUE           0\n",
       "STATUS                      942074\n",
       "dtype: int64"
      ]
     },
     "execution_count": 25,
     "metadata": {},
     "output_type": "execute_result"
    }
   ],
   "source": [
    "# On regarde les valeurs manquantes\n",
    "bureau_bis.isnull().sum()"
   ]
  },
  {
   "cell_type": "code",
   "execution_count": 26,
   "id": "9f1513ff",
   "metadata": {},
   "outputs": [],
   "source": [
    "# On remplit les valeurs manquantes\n",
    "bureau_bis['STATUS'].fillna('Not applicable / Not specified', inplace=True)\n",
    "bureau_bis['AMT_CREDIT_MAX_OVERDUE'].fillna(-1, inplace=True)"
   ]
  },
  {
   "cell_type": "code",
   "execution_count": 27,
   "id": "0759b681",
   "metadata": {},
   "outputs": [],
   "source": [
    "# On regroupe selon les numéros de prêt\n",
    "bureau_bis['AMT_CREDIT_MAX_OVERDUE'] = bureau_bis.groupby(['SK_ID_CURR'])['AMT_CREDIT_MAX_OVERDUE'].max()\n",
    "bureau_bis['AMT_CREDIT_SUM_OVERDUE'] = bureau_bis.groupby(['SK_ID_CURR'])['AMT_CREDIT_SUM_OVERDUE'].max()"
   ]
  },
  {
   "cell_type": "code",
   "execution_count": 28,
   "id": "4c2004a5",
   "metadata": {},
   "outputs": [
    {
     "data": {
      "text/plain": [
       "SK_ID_CURR                       0\n",
       "SK_ID_BUREAU                     0\n",
       "AMT_CREDIT_MAX_OVERDUE    19672252\n",
       "AMT_CREDIT_SUM_OVERDUE    19672252\n",
       "STATUS                           0\n",
       "dtype: int64"
      ]
     },
     "execution_count": 28,
     "metadata": {},
     "output_type": "execute_result"
    }
   ],
   "source": [
    "# On regarde les valeurs manquantes\n",
    "bureau_bis.isnull().sum()"
   ]
  },
  {
   "cell_type": "code",
   "execution_count": 29,
   "id": "568cf949",
   "metadata": {},
   "outputs": [],
   "source": [
    "# On remplit les valeurs manquantes\n",
    "bureau_bis.fillna(0, inplace=True)"
   ]
  },
  {
   "cell_type": "code",
   "execution_count": 30,
   "id": "d3ecf472",
   "metadata": {},
   "outputs": [
    {
     "name": "stdout",
     "output_type": "stream",
     "text": [
      "(25121815, 5) \n",
      "\n",
      "(2573172, 5)\n"
     ]
    }
   ],
   "source": [
    "# On supprime les doublons\n",
    "print(bureau_bis.shape, '\\n')\n",
    "bureau_bis = bureau_bis.drop_duplicates()\n",
    "print(bureau_bis.shape)"
   ]
  },
  {
   "cell_type": "code",
   "execution_count": 31,
   "id": "3cefd469",
   "metadata": {},
   "outputs": [],
   "source": [
    "# On joint les dataframes\n",
    "infos_prets = df_bis.join(prev_app_bis.set_index('SK_ID_CURR'), how='left', on='SK_ID_CURR')\n",
    "infos_prets = infos_prets.join(bureau_bis.set_index('SK_ID_CURR'), how='left', on='SK_ID_CURR')\n",
    "infos_prets.drop(columns=['SK_ID_BUREAU'], inplace=True)"
   ]
  },
  {
   "cell_type": "code",
   "execution_count": 32,
   "id": "d38ca341",
   "metadata": {},
   "outputs": [
    {
     "data": {
      "text/plain": [
       "SK_ID_CURR                      0\n",
       "NAME_CONTRACT_TYPE              0\n",
       "AMT_CREDIT                      0\n",
       "AMT_ANNUITY                  1876\n",
       "EXT_SOURCE_1              7327887\n",
       "EXT_SOURCE_2                 8572\n",
       "EXT_SOURCE_3               526619\n",
       "CODE_REJECT_REASON          90218\n",
       "NAME_CASH_LOAN_PURPOSE      90218\n",
       "AMT_CREDIT_MAX_OVERDUE     203367\n",
       "AMT_CREDIT_SUM_OVERDUE     203367\n",
       "STATUS                     203367\n",
       "dtype: int64"
      ]
     },
     "execution_count": 32,
     "metadata": {},
     "output_type": "execute_result"
    }
   ],
   "source": [
    "# On regarde les valeurs manquantes\n",
    "infos_prets.isnull().sum()"
   ]
  },
  {
   "cell_type": "code",
   "execution_count": 33,
   "id": "621d6604",
   "metadata": {},
   "outputs": [],
   "source": [
    "# On arrondit quelques valeurs\n",
    "for col in ['EXT_SOURCE_1', 'EXT_SOURCE_2', 'EXT_SOURCE_3']:\n",
    "    infos_prets[col] = infos_prets[col].round(2)"
   ]
  },
  {
   "cell_type": "code",
   "execution_count": 34,
   "id": "e3530a7e",
   "metadata": {},
   "outputs": [],
   "source": [
    "# On remplit les valeurs manquantes\n",
    "infos_prets.fillna(0, inplace=True)"
   ]
  },
  {
   "cell_type": "code",
   "execution_count": 35,
   "id": "15f3a5e7",
   "metadata": {},
   "outputs": [
    {
     "name": "stdout",
     "output_type": "stream",
     "text": [
      "(14710209, 12) \n",
      "\n",
      "(1876389, 12)\n"
     ]
    }
   ],
   "source": [
    "# On supprime les doublons\n",
    "print(infos_prets.shape, '\\n')\n",
    "infos_prets = infos_prets.drop_duplicates()\n",
    "print(infos_prets.shape)"
   ]
  },
  {
   "cell_type": "code",
   "execution_count": 36,
   "id": "74462901",
   "metadata": {},
   "outputs": [
    {
     "data": {
      "text/html": [
       "<div>\n",
       "<style scoped>\n",
       "    .dataframe tbody tr th:only-of-type {\n",
       "        vertical-align: middle;\n",
       "    }\n",
       "\n",
       "    .dataframe tbody tr th {\n",
       "        vertical-align: top;\n",
       "    }\n",
       "\n",
       "    .dataframe thead th {\n",
       "        text-align: right;\n",
       "    }\n",
       "</style>\n",
       "<table border=\"1\" class=\"dataframe\">\n",
       "  <thead>\n",
       "    <tr style=\"text-align: right;\">\n",
       "      <th></th>\n",
       "      <th>SK_ID_CURR</th>\n",
       "      <th>NAME_CONTRACT_TYPE</th>\n",
       "      <th>AMT_CREDIT</th>\n",
       "      <th>AMT_ANNUITY</th>\n",
       "      <th>EXT_SOURCE_1</th>\n",
       "      <th>EXT_SOURCE_2</th>\n",
       "      <th>EXT_SOURCE_3</th>\n",
       "      <th>CODE_REJECT_REASON</th>\n",
       "      <th>NAME_CASH_LOAN_PURPOSE</th>\n",
       "      <th>AMT_CREDIT_MAX_OVERDUE</th>\n",
       "      <th>AMT_CREDIT_SUM_OVERDUE</th>\n",
       "      <th>STATUS</th>\n",
       "    </tr>\n",
       "  </thead>\n",
       "  <tbody>\n",
       "    <tr>\n",
       "      <th>0</th>\n",
       "      <td>100002</td>\n",
       "      <td>Cash loans</td>\n",
       "      <td>406597.5</td>\n",
       "      <td>24700.5</td>\n",
       "      <td>0.08</td>\n",
       "      <td>0.26</td>\n",
       "      <td>0.14</td>\n",
       "      <td>XAP</td>\n",
       "      <td>XAP</td>\n",
       "      <td>0.0</td>\n",
       "      <td>0.0</td>\n",
       "      <td>C</td>\n",
       "    </tr>\n",
       "    <tr>\n",
       "      <th>0</th>\n",
       "      <td>100002</td>\n",
       "      <td>Cash loans</td>\n",
       "      <td>406597.5</td>\n",
       "      <td>24700.5</td>\n",
       "      <td>0.08</td>\n",
       "      <td>0.26</td>\n",
       "      <td>0.14</td>\n",
       "      <td>XAP</td>\n",
       "      <td>XAP</td>\n",
       "      <td>0.0</td>\n",
       "      <td>0.0</td>\n",
       "      <td>0</td>\n",
       "    </tr>\n",
       "    <tr>\n",
       "      <th>0</th>\n",
       "      <td>100002</td>\n",
       "      <td>Cash loans</td>\n",
       "      <td>406597.5</td>\n",
       "      <td>24700.5</td>\n",
       "      <td>0.08</td>\n",
       "      <td>0.26</td>\n",
       "      <td>0.14</td>\n",
       "      <td>XAP</td>\n",
       "      <td>XAP</td>\n",
       "      <td>0.0</td>\n",
       "      <td>0.0</td>\n",
       "      <td>1</td>\n",
       "    </tr>\n",
       "    <tr>\n",
       "      <th>0</th>\n",
       "      <td>100002</td>\n",
       "      <td>Cash loans</td>\n",
       "      <td>406597.5</td>\n",
       "      <td>24700.5</td>\n",
       "      <td>0.08</td>\n",
       "      <td>0.26</td>\n",
       "      <td>0.14</td>\n",
       "      <td>XAP</td>\n",
       "      <td>XAP</td>\n",
       "      <td>0.0</td>\n",
       "      <td>0.0</td>\n",
       "      <td>X</td>\n",
       "    </tr>\n",
       "    <tr>\n",
       "      <th>1</th>\n",
       "      <td>100003</td>\n",
       "      <td>Cash loans</td>\n",
       "      <td>1293502.5</td>\n",
       "      <td>35698.5</td>\n",
       "      <td>0.31</td>\n",
       "      <td>0.62</td>\n",
       "      <td>0.00</td>\n",
       "      <td>XAP</td>\n",
       "      <td>XNA</td>\n",
       "      <td>0.0</td>\n",
       "      <td>0.0</td>\n",
       "      <td>Not applicable / Not specified</td>\n",
       "    </tr>\n",
       "  </tbody>\n",
       "</table>\n",
       "</div>"
      ],
      "text/plain": [
       "   SK_ID_CURR NAME_CONTRACT_TYPE  AMT_CREDIT  AMT_ANNUITY  EXT_SOURCE_1  \\\n",
       "0      100002         Cash loans    406597.5      24700.5          0.08   \n",
       "0      100002         Cash loans    406597.5      24700.5          0.08   \n",
       "0      100002         Cash loans    406597.5      24700.5          0.08   \n",
       "0      100002         Cash loans    406597.5      24700.5          0.08   \n",
       "1      100003         Cash loans   1293502.5      35698.5          0.31   \n",
       "\n",
       "   EXT_SOURCE_2  EXT_SOURCE_3 CODE_REJECT_REASON NAME_CASH_LOAN_PURPOSE  \\\n",
       "0          0.26          0.14                XAP                    XAP   \n",
       "0          0.26          0.14                XAP                    XAP   \n",
       "0          0.26          0.14                XAP                    XAP   \n",
       "0          0.26          0.14                XAP                    XAP   \n",
       "1          0.62          0.00                XAP                    XNA   \n",
       "\n",
       "   AMT_CREDIT_MAX_OVERDUE  AMT_CREDIT_SUM_OVERDUE  \\\n",
       "0                     0.0                     0.0   \n",
       "0                     0.0                     0.0   \n",
       "0                     0.0                     0.0   \n",
       "0                     0.0                     0.0   \n",
       "1                     0.0                     0.0   \n",
       "\n",
       "                           STATUS  \n",
       "0                               C  \n",
       "0                               0  \n",
       "0                               1  \n",
       "0                               X  \n",
       "1  Not applicable / Not specified  "
      ]
     },
     "execution_count": 36,
     "metadata": {},
     "output_type": "execute_result"
    }
   ],
   "source": [
    "# On regarde les premières lignes\n",
    "infos_prets.head()"
   ]
  },
  {
   "cell_type": "code",
   "execution_count": 37,
   "id": "b84b1573",
   "metadata": {},
   "outputs": [],
   "source": [
    "# On ne garde qu'une seule ligne par prêt\n",
    "infos_prets = infos_prets.drop_duplicates(subset='SK_ID_CURR')"
   ]
  },
  {
   "cell_type": "code",
   "execution_count": 38,
   "id": "d506db84",
   "metadata": {},
   "outputs": [],
   "source": [
    "# On renommne nos colonnes\n",
    "infos_prets.columns = ['ID_PRET', 'TYPE_CREDIT', 'MONTANT_CREDIT', 'MONTANT_ANNUITE', 'SCORE_EXT_1', 'SCORE_EXT_2', 'SCORE_EXT_3', 'CODE_REJET', 'OBJET_PRET', 'RETARD_PAIEMENT_MAX', 'RETARD_PAIEMENT_TOTAL', 'STATUT_PRET']"
   ]
  },
  {
   "cell_type": "code",
   "execution_count": 39,
   "id": "49462d24",
   "metadata": {},
   "outputs": [
    {
     "data": {
      "text/html": [
       "<div>\n",
       "<style scoped>\n",
       "    .dataframe tbody tr th:only-of-type {\n",
       "        vertical-align: middle;\n",
       "    }\n",
       "\n",
       "    .dataframe tbody tr th {\n",
       "        vertical-align: top;\n",
       "    }\n",
       "\n",
       "    .dataframe thead th {\n",
       "        text-align: right;\n",
       "    }\n",
       "</style>\n",
       "<table border=\"1\" class=\"dataframe\">\n",
       "  <thead>\n",
       "    <tr style=\"text-align: right;\">\n",
       "      <th></th>\n",
       "      <th>ID_PRET</th>\n",
       "      <th>TYPE_CREDIT</th>\n",
       "      <th>MONTANT_CREDIT</th>\n",
       "      <th>MONTANT_ANNUITE</th>\n",
       "      <th>SCORE_EXT_1</th>\n",
       "      <th>SCORE_EXT_2</th>\n",
       "      <th>SCORE_EXT_3</th>\n",
       "      <th>CODE_REJET</th>\n",
       "      <th>OBJET_PRET</th>\n",
       "      <th>RETARD_PAIEMENT_MAX</th>\n",
       "      <th>RETARD_PAIEMENT_TOTAL</th>\n",
       "      <th>STATUT_PRET</th>\n",
       "    </tr>\n",
       "  </thead>\n",
       "  <tbody>\n",
       "    <tr>\n",
       "      <th>0</th>\n",
       "      <td>100002</td>\n",
       "      <td>Cash loans</td>\n",
       "      <td>406597.5</td>\n",
       "      <td>24700.5</td>\n",
       "      <td>0.08</td>\n",
       "      <td>0.26</td>\n",
       "      <td>0.14</td>\n",
       "      <td>XAP</td>\n",
       "      <td>XAP</td>\n",
       "      <td>0.000</td>\n",
       "      <td>0.0</td>\n",
       "      <td>C</td>\n",
       "    </tr>\n",
       "    <tr>\n",
       "      <th>1</th>\n",
       "      <td>100003</td>\n",
       "      <td>Cash loans</td>\n",
       "      <td>1293502.5</td>\n",
       "      <td>35698.5</td>\n",
       "      <td>0.31</td>\n",
       "      <td>0.62</td>\n",
       "      <td>0.00</td>\n",
       "      <td>XAP</td>\n",
       "      <td>XNA</td>\n",
       "      <td>0.000</td>\n",
       "      <td>0.0</td>\n",
       "      <td>Not applicable / Not specified</td>\n",
       "    </tr>\n",
       "    <tr>\n",
       "      <th>2</th>\n",
       "      <td>100004</td>\n",
       "      <td>Revolving loans</td>\n",
       "      <td>135000.0</td>\n",
       "      <td>6750.0</td>\n",
       "      <td>0.00</td>\n",
       "      <td>0.56</td>\n",
       "      <td>0.73</td>\n",
       "      <td>XAP</td>\n",
       "      <td>XAP</td>\n",
       "      <td>10172.205</td>\n",
       "      <td>0.0</td>\n",
       "      <td>Not applicable / Not specified</td>\n",
       "    </tr>\n",
       "    <tr>\n",
       "      <th>3</th>\n",
       "      <td>100006</td>\n",
       "      <td>Cash loans</td>\n",
       "      <td>312682.5</td>\n",
       "      <td>29686.5</td>\n",
       "      <td>0.00</td>\n",
       "      <td>0.65</td>\n",
       "      <td>0.00</td>\n",
       "      <td>XAP</td>\n",
       "      <td>XNA</td>\n",
       "      <td>0.000</td>\n",
       "      <td>0.0</td>\n",
       "      <td>0</td>\n",
       "    </tr>\n",
       "    <tr>\n",
       "      <th>4</th>\n",
       "      <td>100007</td>\n",
       "      <td>Cash loans</td>\n",
       "      <td>513000.0</td>\n",
       "      <td>21865.5</td>\n",
       "      <td>0.00</td>\n",
       "      <td>0.32</td>\n",
       "      <td>0.00</td>\n",
       "      <td>XAP</td>\n",
       "      <td>XNA</td>\n",
       "      <td>0.000</td>\n",
       "      <td>0.0</td>\n",
       "      <td>Not applicable / Not specified</td>\n",
       "    </tr>\n",
       "  </tbody>\n",
       "</table>\n",
       "</div>"
      ],
      "text/plain": [
       "   ID_PRET      TYPE_CREDIT  MONTANT_CREDIT  MONTANT_ANNUITE  SCORE_EXT_1  \\\n",
       "0   100002       Cash loans        406597.5          24700.5         0.08   \n",
       "1   100003       Cash loans       1293502.5          35698.5         0.31   \n",
       "2   100004  Revolving loans        135000.0           6750.0         0.00   \n",
       "3   100006       Cash loans        312682.5          29686.5         0.00   \n",
       "4   100007       Cash loans        513000.0          21865.5         0.00   \n",
       "\n",
       "   SCORE_EXT_2  SCORE_EXT_3 CODE_REJET OBJET_PRET  RETARD_PAIEMENT_MAX  \\\n",
       "0         0.26         0.14        XAP        XAP                0.000   \n",
       "1         0.62         0.00        XAP        XNA                0.000   \n",
       "2         0.56         0.73        XAP        XAP            10172.205   \n",
       "3         0.65         0.00        XAP        XNA                0.000   \n",
       "4         0.32         0.00        XAP        XNA                0.000   \n",
       "\n",
       "   RETARD_PAIEMENT_TOTAL                     STATUT_PRET  \n",
       "0                    0.0                               C  \n",
       "1                    0.0  Not applicable / Not specified  \n",
       "2                    0.0  Not applicable / Not specified  \n",
       "3                    0.0                               0  \n",
       "4                    0.0  Not applicable / Not specified  "
      ]
     },
     "execution_count": 39,
     "metadata": {},
     "output_type": "execute_result"
    }
   ],
   "source": [
    "# On vérifie\n",
    "infos_prets.head()"
   ]
  },
  {
   "cell_type": "code",
   "execution_count": 40,
   "id": "b5b2a4df",
   "metadata": {},
   "outputs": [
    {
     "data": {
      "text/plain": [
       "(356255, 12)"
      ]
     },
     "execution_count": 40,
     "metadata": {},
     "output_type": "execute_result"
    }
   ],
   "source": [
    "# On regarde les dimensions de notre dataframe\n",
    "infos_prets.shape"
   ]
  },
  {
   "cell_type": "code",
   "execution_count": 41,
   "id": "8672965f",
   "metadata": {},
   "outputs": [],
   "source": [
    "infos_prets = infos_prets[infos_prets['ID_PRET'].isin(loan_ids)]"
   ]
  },
  {
   "cell_type": "code",
   "execution_count": 42,
   "id": "3d496cfb",
   "metadata": {},
   "outputs": [],
   "source": [
    "# On sauvegarde\n",
    "df_csv_prets = infos_prets.to_csv('infos_prets.csv')"
   ]
  },
  {
   "cell_type": "code",
   "execution_count": null,
   "id": "7a051772",
   "metadata": {},
   "outputs": [],
   "source": []
  }
 ],
 "metadata": {
  "kernelspec": {
   "display_name": "Python 3 (ipykernel)",
   "language": "python",
   "name": "python3"
  },
  "language_info": {
   "codemirror_mode": {
    "name": "ipython",
    "version": 3
   },
   "file_extension": ".py",
   "mimetype": "text/x-python",
   "name": "python",
   "nbconvert_exporter": "python",
   "pygments_lexer": "ipython3",
   "version": "3.8.8"
  }
 },
 "nbformat": 4,
 "nbformat_minor": 5
}
